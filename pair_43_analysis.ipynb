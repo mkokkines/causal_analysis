{
 "cells": [
  {
   "cell_type": "markdown",
   "metadata": {},
   "source": [
    "# 1. Regression Code"
   ]
  },
  {
   "cell_type": "markdown",
   "metadata": {},
   "source": [
    "###### Linear Regression"
   ]
  },
  {
   "cell_type": "code",
   "execution_count": 1,
   "metadata": {},
   "outputs": [],
   "source": [
    "train_linear <- function(X,y,pars = list()) {\n",
    "    mod <- lm(y ~ X)\n",
    "    result <- list()\n",
    "    result$Yfit = as.matrix(mod$fitted.values)\n",
    "    result$residuals = as.matrix(mod$residuals)\n",
    "    result$model = mod\n",
    "    #for coefficients see list(mod$coef)\n",
    "    return(result)\n",
    "}"
   ]
  },
  {
   "cell_type": "code",
   "execution_count": 101,
   "metadata": {},
   "outputs": [
    {
     "name": "stderr",
     "output_type": "stream",
     "text": [
      "Loading required package: parallel\n",
      "Loading required package: stabs\n",
      "This is mboost 2.9-1. See ‘package?mboost’ and ‘news(package  = \"mboost\")’\n",
      "for a complete list of changes.\n",
      "\n"
     ]
    }
   ],
   "source": [
    "library(mboost)\n",
    "train_GAMboost <- function(X,y,pars = list()) #\n",
    "{\n",
    "    ## begin old version\n",
    "    # EXPLANATION: surprisingly, it turned out that this cannot be applied to large p (private discussion with T. Hothorn in Sep 2013)\n",
    "    # yy <- y\n",
    "    # dat <- data.frame(cbind(yy,X))\n",
    "    # gb <- gamboost(yy ~ .,data=dat, baselearner = \"bbs\")\n",
    "    ## end old version\n",
    "    \n",
    "    ## begin new version\n",
    "    dat <- as.data.frame(X)\n",
    "    bl <- lapply(dat, bbs)\n",
    "    gb <- mboost_fit(bl, y)\n",
    "    ## end new version\n",
    "    \n",
    "    result <- list()\n",
    "    result$Yfit <- gb$fitted()\n",
    "    result$residuals <- gb$resid()\n",
    "    result$model <- gb\n",
    "    return(result)\n",
    "}"
   ]
  },
  {
   "cell_type": "markdown",
   "metadata": {},
   "source": [
    "# 2. Independence Test"
   ]
  },
  {
   "cell_type": "code",
   "execution_count": 2,
   "metadata": {},
   "outputs": [],
   "source": [
    "library(kernlab)\n",
    "indtestHsic <- function(x,y,alpha=0.05, pars = list(method = \"IncChol\")) {    \n",
    "    if(is.matrix(x)==FALSE){\n",
    "        x<-as.matrix(x)}\n",
    "    if(is.matrix(y)==FALSE){\n",
    "        y<-as.matrix(y)}\n",
    "    len <- dim(x)[1]\n",
    "    \n",
    "    # compute distance matrices\n",
    "    xnorm<-as.matrix(dist(x,method=\"euclidean\",diag=TRUE,upper=TRUE))\n",
    "    xnorm<-xnorm^2\n",
    "    ynorm<-as.matrix(dist(y,method=\"euclidean\",diag=TRUE,upper=TRUE))\n",
    "    ynorm<-ynorm^2\n",
    "    \n",
    "    # choose median heuristic for bandwidth\n",
    "    if(len>1000) {\n",
    "        sam <- sample(1:len,1000)\n",
    "        xhilf<-xnorm[sam,sam]\n",
    "        yhilf<-ynorm[sam,sam]\n",
    "    } else {\n",
    "        xhilf<-xnorm\n",
    "        yhilf<-ynorm\n",
    "    }\n",
    "    \n",
    "    sigmax<-sqrt(0.5*median(xhilf[lower.tri(xhilf,diag=FALSE)]))\n",
    "    sigmay<-sqrt(0.5*median(yhilf[lower.tri(yhilf,diag=FALSE)]))\n",
    "    \n",
    "    \n",
    "    if(pars$method == \"Exact\" || pars$method == \"ExactFastTrace\") {\n",
    "        ###\n",
    "        # Compute GramMat\n",
    "        ###\n",
    "        ptm <- proc.time()\n",
    "        KX <- exp(-xnorm/(2*sigmax^2))\n",
    "        KY <- exp(-ynorm/(2*sigmay^2))\n",
    "        timeGramMat <- (proc.time() - ptm)[1]\n",
    "        \n",
    "        ###\n",
    "        # Compute HSIC\n",
    "        ###\n",
    "        if(pars$method == \"Exact\") {\n",
    "            ptm <- proc.time()\n",
    "            H<-diag(1,len)-1/len*matrix(1,len,len)\n",
    "            HSIC <- 1/(len^2)*sum(diag(KX%*%H%*%KY%*%H))\n",
    "            timeHSIC <- (proc.time() - ptm)[1]\n",
    "        }\n",
    "        if(pars$method == \"ExactFastTrace\") {\n",
    "            ptm <- proc.time()\n",
    "            H<-diag(1,len)-1/len*matrix(1,len,len)\n",
    "            HSIC <- 1/(len^2) * sum((KX - 1/len*(KX%*%rep(1,len))%*%t(rep(1,len)))*t(KY - 1/len*(KY%*%rep(1,len))%*%t(rep(1,len))))\n",
    "            timeHSIC <- (proc.time() - ptm)[1]\n",
    "        }\n",
    "        \n",
    "        ###\n",
    "        # Compute Gamma Approximation\n",
    "        ###\n",
    "        ptm <- proc.time()\n",
    "        mux <- (sum(KX)-len)/(len*(len-1))\n",
    "        muy <- (sum(KY)-len)/(len*(len-1))\n",
    "        \n",
    "        mean_h0 <- 1/len*(1+mux*muy-mux-muy)\n",
    "        var_h0 <- (2*(len-4)*(len-5))/(len*(len-1)*(len-2)*(len-3)) * 1/((len-1)^2)*sum((KX - 1/len*(KX%*%rep(1,len))%*%t(rep(1,len)))*t(KX - 1/len*(KX%*%rep(1,len))%*%t(rep(1,len)))) * 1/((len-1)^2)*sum((KY - 1/len*(KY%*%rep(1,len))%*%t(rep(1,len)))*t(KY - 1/len*(KY%*%rep(1,len))%*%t(rep(1,len))))\n",
    "        timeGamma <- (proc.time() - ptm)[1]\n",
    "        \n",
    "    }\n",
    "    \n",
    "    if(pars$method == \"IncChol\" || pars$method == \"IncCholFastTrace\") {\n",
    "        ###\n",
    "        # Compute GramMat\n",
    "        ###\n",
    "        ## incomplete cholesky decomposition\n",
    "        ptm <- proc.time()\n",
    "        LX <- inchol(x, kernel=\"rbfdot\", kpar=list(sigma=1/(2*sigmax^2)), tol = 0.0001, maxiter = 300)\n",
    "        LX <- matrix(LX,nrow=dim(LX)[1], ncol=dim(LX)[2])\n",
    "        LY <- inchol(y, kernel=\"rbfdot\", kpar=list(sigma=1/(2*sigmay^2)), tol = 0.0001, maxiter = 300)\n",
    "        LY <- matrix(LY,nrow=dim(LY)[1], ncol=dim(LY)[2])\n",
    "        LXc <- LX-1/len*(as.matrix(rep(1,len))%*%colSums(LX))\n",
    "        LYc <- LY-1/len*(as.matrix(rep(1,len))%*%colSums(LY))\n",
    "        timeGramMat <- (proc.time() - ptm)[1]\n",
    "        \n",
    "        ###\n",
    "        # Compute HSIC\n",
    "        ###\n",
    "        if(pars$method == \"IncChol\") {\n",
    "            ptm <- proc.time()\n",
    "            HSIC <- 1/(len^2)*sum(diag((t(LX)%*%LYc)%*%(t(LY)%*%LXc)))\n",
    "            timeHSIC <- (proc.time() - ptm)[1]\n",
    "        }\n",
    "        if(pars$method == \"IncCholFastTrace\") {\n",
    "            ptm <- proc.time()\n",
    "            HSIC <- 1/(len^2)*sum( (t(LX)%*%LYc) * t((t(LY)%*%LXc)))\n",
    "            timeHSIC <- (proc.time() - ptm)[1]\n",
    "        }\n",
    "        \n",
    "        ###\n",
    "        # Compute Gamma Approximation\n",
    "        ###\n",
    "        ptm <- proc.time()\n",
    "        mux <- (crossprod(colSums(LX))-len)/(len*(len-1))\n",
    "        muy <- (crossprod(colSums(LY))-len)/(len*(len-1))\n",
    "        \n",
    "        mean_h0 <- 1/len*(1+mux*muy-mux-muy)\n",
    "        var_h0 <- (2*(len-4)*(len-5))/(len*(len-1)*(len-2)*(len-3))*1/((len-1)^2)*sum(diag((t(LX)%*%LXc)%*%(t(LX)%*%LXc)))*1/((len-1)^2)*sum(diag((t(LY)%*%LYc)%*%(t(LY)%*%LYc)))\n",
    "        timeGamma <- (proc.time() - ptm)[1]\n",
    "    }        \n",
    "    \n",
    "    a <- (mean_h0^2)/var_h0\n",
    "    b <- len*var_h0/mean_h0\n",
    "    critical_value <- qgamma(1-alpha,shape=a,scale=b)\n",
    "    p_value <- pgamma(len*HSIC,shape=a,scale=b, lower.tail=FALSE)\n",
    "    resu <- list(statistic = len*HSIC, crit.value = critical_value, p.value = p_value, time = c(timeGramMat,timeHSIC,timeGamma))\n",
    "    return(resu)\n",
    "}"
   ]
  },
  {
   "cell_type": "markdown",
   "metadata": {},
   "source": [
    "# 3. Additive Noise Model Code\n"
   ]
  },
  {
   "cell_type": "code",
   "execution_count": 102,
   "metadata": {},
   "outputs": [],
   "source": [
    "test <- function(x, y, reg_model = train_linear, ind_test = indtestHsic, cut_off = 10, verbose = FALSE) {\n",
    "    xToY <- train_GAMboost(x, y)\n",
    "    yToX <-  train_GAMboost(y, x)\n",
    "    xToY.P <- ind_test(xToY$residuals, x)$p.value\n",
    "    yToX.P <- ind_test(yToX$residuals, y)$p.value\n",
    "    if (xToY.P > 10 * yToX.P) {\n",
    "        result <- \"X\"\n",
    "    } else if (xToY.P * 10 < yToX.P) {\n",
    "        result <- \"Y\"\n",
    "    } else {\n",
    "        result <- \"NA\"\n",
    "    }\n",
    "\n",
    "    if (verbose) {\n",
    "        message(\"P value for forward is \", xToY.P, \", P value for backword is \", yToX.P, \" result is \", ifelse(is.na(result), \"Inconclusive\", result))\n",
    "    }\n",
    "        \n",
    "    c(result, xToY.P, yToX.P)\n",
    "}"
   ]
  },
  {
   "cell_type": "markdown",
   "metadata": {},
   "source": [
    "# 4. Function to Test a Pair"
   ]
  },
  {
   "cell_type": "code",
   "execution_count": 4,
   "metadata": {},
   "outputs": [],
   "source": [
    "process_file = function(filepath) {\n",
    "    read.delim(filepath, header = FALSE, sep=\"\", stringsAsFactors = FALSE)    \n",
    "}"
   ]
  },
  {
   "cell_type": "code",
   "execution_count": 42,
   "metadata": {},
   "outputs": [],
   "source": [
    "test_pair <- function(data) {\n",
    "    result <- data.frame(FileName = character(),\n",
    "                         TestParameter = character(),\n",
    "                         RegressionModel = character(),\n",
    "                         Collection = factor(),\n",
    "                         ForwardPValue = double(),\n",
    "                         BackwardPValue = double(),\n",
    "                         Result = factor())\n",
    "    \n",
    "    result <- test(\n",
    "        data[[\"V1\"]],\n",
    "        data[[\"V2\"]]\n",
    "    )\n",
    "\n",
    "    result\n",
    "}"
   ]
  },
  {
   "cell_type": "markdown",
   "metadata": {},
   "source": [
    "# 5. Random Sampling"
   ]
  },
  {
   "cell_type": "code",
   "execution_count": 34,
   "metadata": {},
   "outputs": [],
   "source": [
    "get_random_sample <- function(data, num_rows) {\n",
    "    data[sample(nrow(data), num_rows), ]\n",
    "}"
   ]
  },
  {
   "cell_type": "markdown",
   "metadata": {},
   "source": [
    "# 6. Analysis"
   ]
  },
  {
   "cell_type": "code",
   "execution_count": 32,
   "metadata": {},
   "outputs": [
    {
     "name": "stdout",
     "output_type": "stream",
     "text": [
      "[1] 10369\n"
     ]
    }
   ],
   "source": [
    "file_path = \"/Users/mkokkines/Documents/cause_effect_analysis/pairs/pair0043.txt\"\n",
    "data <- process_file(file_path)\n",
    "print(nrow(data))"
   ]
  },
  {
   "cell_type": "code",
   "execution_count": 38,
   "metadata": {},
   "outputs": [],
   "source": [
    "row_sizes = c(100, 250, 500, 750, 1000, 1250, 1500, 1750, 2000, 2250, 2500, 2750, 3000, 3250, 3500, 3750, 4000)\n",
    "results <- matrix(list(), nrow = length(row_sizes), ncol = 10)"
   ]
  },
  {
   "cell_type": "markdown",
   "metadata": {},
   "source": [
    "##### 100 Rows"
   ]
  },
  {
   "cell_type": "code",
   "execution_count": 43,
   "metadata": {},
   "outputs": [],
   "source": [
    "for (i in 1:10) {\n",
    "    results[[1, i]] = test_pair(get_random_sample(data, 100))\n",
    "}"
   ]
  },
  {
   "cell_type": "markdown",
   "metadata": {},
   "source": [
    "##### 250 Rows"
   ]
  },
  {
   "cell_type": "code",
   "execution_count": 44,
   "metadata": {},
   "outputs": [],
   "source": [
    "for (i in 1:10) {\n",
    "    results[[2, i]] = test_pair(get_random_sample(data, 250))\n",
    "}"
   ]
  },
  {
   "cell_type": "markdown",
   "metadata": {},
   "source": [
    "##### 500 Rows"
   ]
  },
  {
   "cell_type": "code",
   "execution_count": 45,
   "metadata": {},
   "outputs": [],
   "source": [
    "for (i in 1:10) {\n",
    "    results[[3, i]] = test_pair(get_random_sample(data, 500))\n",
    "}"
   ]
  },
  {
   "cell_type": "markdown",
   "metadata": {},
   "source": [
    "##### 750 Rows"
   ]
  },
  {
   "cell_type": "code",
   "execution_count": 46,
   "metadata": {},
   "outputs": [],
   "source": [
    "for (i in 1:10) {\n",
    "    results[[4, i]] = test_pair(get_random_sample(data, 750))\n",
    "}"
   ]
  },
  {
   "cell_type": "markdown",
   "metadata": {},
   "source": [
    "##### 1000 Rows"
   ]
  },
  {
   "cell_type": "code",
   "execution_count": 103,
   "metadata": {},
   "outputs": [],
   "source": [
    "results1000 <- c()\n",
    "for (i in 1:100) {\n",
    "    results1000 <- c(results1000, test_pair(get_random_sample(data, 1000)))\n",
    "}"
   ]
  },
  {
   "cell_type": "code",
   "execution_count": 107,
   "metadata": {},
   "outputs": [
    {
     "data": {
      "text/html": [
       "79"
      ],
      "text/latex": [
       "79"
      ],
      "text/markdown": [
       "79"
      ],
      "text/plain": [
       "[1] 79"
      ]
     },
     "metadata": {},
     "output_type": "display_data"
    }
   ],
   "source": [
    "sum(results1000 == \"X\")"
   ]
  },
  {
   "cell_type": "markdown",
   "metadata": {},
   "source": [
    "##### 1250 Rows"
   ]
  },
  {
   "cell_type": "code",
   "execution_count": 48,
   "metadata": {},
   "outputs": [],
   "source": [
    "for (i in 1:10) {\n",
    "    results[[6, i]] = test_pair(get_random_sample(data, 1250))\n",
    "}"
   ]
  },
  {
   "cell_type": "markdown",
   "metadata": {},
   "source": [
    "##### 1500 Rows"
   ]
  },
  {
   "cell_type": "code",
   "execution_count": 49,
   "metadata": {},
   "outputs": [],
   "source": [
    "for (i in 1:10) {\n",
    "    results[[7, i]] = test_pair(get_random_sample(data, 1500))\n",
    "}"
   ]
  },
  {
   "cell_type": "markdown",
   "metadata": {},
   "source": [
    "##### 1750 Rows"
   ]
  },
  {
   "cell_type": "code",
   "execution_count": 50,
   "metadata": {},
   "outputs": [],
   "source": [
    "for (i in 1:10) {\n",
    "    results[[8, i]] = test_pair(get_random_sample(data, 1750))\n",
    "}"
   ]
  },
  {
   "cell_type": "markdown",
   "metadata": {},
   "source": [
    "##### 2000 Rows"
   ]
  },
  {
   "cell_type": "code",
   "execution_count": 51,
   "metadata": {},
   "outputs": [],
   "source": [
    "for (i in 1:10) {\n",
    "    results[[9, i]] = test_pair(get_random_sample(data, 2000))\n",
    "}"
   ]
  },
  {
   "cell_type": "markdown",
   "metadata": {},
   "source": [
    "##### 2250 Rows"
   ]
  },
  {
   "cell_type": "code",
   "execution_count": 52,
   "metadata": {},
   "outputs": [],
   "source": [
    "for (i in 1:10) {\n",
    "    results[[10, i]] = test_pair(get_random_sample(data, 2250))\n",
    "}"
   ]
  },
  {
   "cell_type": "markdown",
   "metadata": {},
   "source": [
    "##### 2500 Rows"
   ]
  },
  {
   "cell_type": "code",
   "execution_count": 53,
   "metadata": {},
   "outputs": [],
   "source": [
    "for (i in 1:10) {\n",
    "    results[[11, i]] = test_pair(get_random_sample(data, 2500))\n",
    "}"
   ]
  },
  {
   "cell_type": "markdown",
   "metadata": {},
   "source": [
    "##### 2750 Rows"
   ]
  },
  {
   "cell_type": "code",
   "execution_count": 54,
   "metadata": {},
   "outputs": [],
   "source": [
    "for (i in 1:10) {\n",
    "    results[[12, i]] = test_pair(get_random_sample(data, 2750))\n",
    "}"
   ]
  },
  {
   "cell_type": "markdown",
   "metadata": {},
   "source": [
    "##### 3000 Rows"
   ]
  },
  {
   "cell_type": "code",
   "execution_count": 55,
   "metadata": {},
   "outputs": [],
   "source": [
    "for (i in 1:10) {\n",
    "    results[[13, i]] = test_pair(get_random_sample(data, 3000))\n",
    "}"
   ]
  },
  {
   "cell_type": "markdown",
   "metadata": {},
   "source": [
    "##### 3250 Rows"
   ]
  },
  {
   "cell_type": "code",
   "execution_count": 56,
   "metadata": {},
   "outputs": [],
   "source": [
    "for (i in 1:10) {\n",
    "    results[[14, i]] = test_pair(get_random_sample(data, 3250))\n",
    "}"
   ]
  },
  {
   "cell_type": "markdown",
   "metadata": {},
   "source": [
    "##### 3500 Rows"
   ]
  },
  {
   "cell_type": "code",
   "execution_count": 57,
   "metadata": {},
   "outputs": [],
   "source": [
    "for (i in 1:10) {\n",
    "    results[[15, i]] = test_pair(get_random_sample(data, 3500))\n",
    "}"
   ]
  },
  {
   "cell_type": "markdown",
   "metadata": {},
   "source": [
    "##### 3750 Rows"
   ]
  },
  {
   "cell_type": "code",
   "execution_count": 58,
   "metadata": {},
   "outputs": [],
   "source": [
    "for (i in 1:10) {\n",
    "    results[[16, i]] = test_pair(get_random_sample(data, 3750))\n",
    "}"
   ]
  },
  {
   "cell_type": "markdown",
   "metadata": {},
   "source": [
    "##### 4000 Rows"
   ]
  },
  {
   "cell_type": "code",
   "execution_count": 59,
   "metadata": {},
   "outputs": [],
   "source": [
    "for (i in 1:10) {\n",
    "    results[[17, i]] = test_pair(get_random_sample(data, 4000))\n",
    "}"
   ]
  },
  {
   "cell_type": "markdown",
   "metadata": {},
   "source": [
    "##### Determine Accuracy"
   ]
  },
  {
   "cell_type": "code",
   "execution_count": 72,
   "metadata": {},
   "outputs": [
    {
     "name": "stdout",
     "output_type": "stream",
     "text": [
      "[1] 2\n",
      "[1] 2\n",
      "[1] 2\n",
      "[1] 3\n",
      "[1] 5\n"
     ]
    }
   ],
   "source": [
    "num_correct = c()\n",
    "\n",
    "for (i in 1:length(row_sizes)) {\n",
    "    for (j in 1:10) {\n",
    "        if (grepl(\"X\", results[i, j][1],  fixed=TRUE)) {\n",
    "            print(i)\n",
    "        }\n",
    "    }\n",
    "}"
   ]
  },
  {
   "cell_type": "code",
   "execution_count": 89,
   "metadata": {},
   "outputs": [
    {
     "name": "stdout",
     "output_type": "stream",
     "text": [
      "[[1]]\n",
      "[1] \"Y\"                    \"1.11536428285708e-79\" \"8.17062340197958e-70\"\n",
      "\n",
      "[[2]]\n",
      "[1] \"Y\"                    \"1.98735682386728e-54\" \"4.11306050122113e-49\"\n",
      "\n",
      "[[3]]\n",
      "[1] \"Y\"                    \"2.52937527317185e-54\" \"8.31757148431584e-48\"\n",
      "\n",
      "[[4]]\n",
      "[1] \"Y\"                    \"6.34676580252853e-72\" \"5.43599444615142e-69\"\n",
      "\n",
      "[[5]]\n",
      "[1] \"Y\"                    \"2.10377632237863e-71\" \"8.89057113882407e-62\"\n",
      "\n",
      "[[6]]\n",
      "[1] \"Y\"                    \"6.71061084075854e-75\" \"8.17607070254791e-69\"\n",
      "\n",
      "[[7]]\n",
      "[1] \"Y\"                    \"1.42017269547932e-76\" \"8.33155784613588e-72\"\n",
      "\n",
      "[[8]]\n",
      "[1] \"Y\"                    \"1.57015568661966e-61\" \"1.36591089581579e-53\"\n",
      "\n",
      "[[9]]\n",
      "[1] \"Y\"                    \"9.15511871525159e-53\" \"3.37672016790063e-49\"\n",
      "\n",
      "[[10]]\n",
      "[1] \"Y\"                    \"5.47643311604166e-71\" \"3.49074743749784e-62\"\n",
      "\n"
     ]
    }
   ],
   "source": [
    "print(results[4, ])"
   ]
  },
  {
   "cell_type": "code",
   "execution_count": null,
   "metadata": {},
   "outputs": [],
   "source": []
  },
  {
   "cell_type": "code",
   "execution_count": null,
   "metadata": {},
   "outputs": [],
   "source": []
  }
 ],
 "metadata": {
  "kernelspec": {
   "display_name": "R",
   "language": "R",
   "name": "ir"
  },
  "language_info": {
   "codemirror_mode": "r",
   "file_extension": ".r",
   "mimetype": "text/x-r-source",
   "name": "R",
   "pygments_lexer": "r",
   "version": "3.5.1"
  }
 },
 "nbformat": 4,
 "nbformat_minor": 2
}

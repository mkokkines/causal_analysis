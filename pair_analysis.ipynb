{
 "cells": [
  {
   "cell_type": "markdown",
   "metadata": {},
   "source": [
    "# 1. Regression Code"
   ]
  },
  {
   "cell_type": "markdown",
   "metadata": {},
   "source": [
    "### The Code Below Performs a Regression from X to Y\n",
    "\n",
    "Copyright (c) 2010-2013  Jonas Peters  [peters@stat.math.ethz.ch]\n",
    "\n",
    "```\n",
    "train_*** <- function(X, y, pars)  (e.g. train_linear or train_gp)\n",
    "```\n",
    "```\n",
    "INPUT:\n",
    "  X         nxp matrix of training inputs (n data points, p dimensions)\n",
    "  Y         vector of N training outputs (n data points)\n",
    "  pars      list containing parameters of the regression method\n",
    "\n",
    "OUTPUT:\n",
    "  result    list with the result of the regression\n",
    "  $model        list of learned model (e.g., weight vector)\n",
    "  $Yfit         fitted outputs for training inputs according to the learned model\n",
    "  $residuals    noise values (e.g., residuals in the additive noise case) \n",
    "```"
   ]
  },
  {
   "cell_type": "markdown",
   "metadata": {},
   "source": [
    "###### Linear Regression"
   ]
  },
  {
   "cell_type": "code",
   "execution_count": 1,
   "metadata": {},
   "outputs": [],
   "source": [
    "train_linear <- function(X,y,pars = list()) {\n",
    "    mod <- lm(y ~ X)\n",
    "    result <- list()\n",
    "    result$Yfit = as.matrix(mod$fitted.values)\n",
    "    result$residuals = as.matrix(mod$residuals)\n",
    "    result$model = mod\n",
    "    #for coefficients see list(mod$coef)\n",
    "    return(result)\n",
    "}"
   ]
  },
  {
   "cell_type": "markdown",
   "metadata": {},
   "source": [
    "##### GP Regression"
   ]
  },
  {
   "cell_type": "code",
   "execution_count": 2,
   "metadata": {},
   "outputs": [],
   "source": [
    "gp_regression <- function(X,y, pars=list()) {\n",
    "    options=gpOptions(\"ftc\")\n",
    "    options$kern$comp=list(\"rbf\",\"white\")\n",
    "    #options$learnScales=TRUE\n",
    "    model<-gpCreate(dim(X)[2],1,X,y,options)\n",
    "    y2<-gpOut(model,X)\n",
    "    model$Yfit<-y2\n",
    "    model$residuals<-y-y2\n",
    "    return(model)\n",
    "}\n",
    "\n",
    "train_gp <- function(X,y,pars = list()) {\n",
    "    library(gptk)\n",
    "    mod <- gp_regression(as.matrix(X),as.matrix(y))\n",
    "    result <- list()\n",
    "    result$Yfit = mod$Yfit\n",
    "    result$residuals = mod$residuals\n",
    "    result$model = mod\n",
    "    return(result)\n",
    "}"
   ]
  },
  {
   "cell_type": "markdown",
   "metadata": {},
   "source": [
    "##### Gam Regression"
   ]
  },
  {
   "cell_type": "code",
   "execution_count": 3,
   "metadata": {},
   "outputs": [
    {
     "name": "stderr",
     "output_type": "stream",
     "text": [
      "Loading required package: nlme\n",
      "This is mgcv 1.8-24. For overview type 'help(\"mgcv-package\")'.\n"
     ]
    }
   ],
   "source": [
    "library(mgcv)\n",
    "train_gam <- function(X,y,pars = list(numBasisFcts = 10)) {\n",
    "    if(!(\"numBasisFcts\" %in% names(pars) ))  { \n",
    "        pars$numBasisFcts = 10\n",
    "    }\n",
    "    \n",
    "    p <- dim(as.matrix(X))\n",
    "    if(p[1]/p[2] < 3*pars$numBasisFcts) {\n",
    "        pars$numBasisFcts <- ceiling(p[1]/(3*p[2]))\n",
    "        cat(\"changed number of basis functions to    \", pars$numBasisFcts, \"    in order to have enough samples per basis function\\n\")\n",
    "    }\n",
    "    dat <- data.frame(as.matrix(y),as.matrix(X))\n",
    "    coln <- rep(\"null\",p[2]+1)\n",
    "    for(i in 1:(p[2]+1)) {\n",
    "        coln[i] <- paste(\"var\",i,sep=\"\")\n",
    "    }\n",
    "    colnames(dat) <- coln\n",
    "    labs<-\"var1 ~ \"\n",
    "    if(p[2] > 1) {\n",
    "        for(i in 2:p[2]) {\n",
    "            labs<-paste(labs,\"s(var\",i,\",k = \",pars$numBasisFcts,\") + \",sep=\"\")\n",
    "        }\n",
    "    }\n",
    "    labs<-paste(labs,\"s(var\",p[2]+1,\",k = \",pars$numBasisFcts,\")\",sep=\"\")\n",
    "    mod_gam <- FALSE\n",
    "    try(mod_gam <- gam(formula=formula(labs), data=dat),silent = TRUE)\n",
    "    if(typeof(mod_gam) == \"logical\") {\n",
    "        cat(\"There was some error with gam. The smoothing parameter is set to zero.\\n\")\n",
    "        labs<-\"var1 ~ \"\n",
    "        if(p[2] > 1) {\n",
    "            for(i in 2:p[2]) {\n",
    "                labs<-paste(labs,\"s(var\",i,\",k = \",pars$numBasisFcts,\",sp=0) + \",sep=\"\")\n",
    "            }\n",
    "        }\n",
    "        labs<-paste(labs,\"s(var\",p[2]+1,\",k = \",pars$numBasisFcts,\",sp=0)\",sep=\"\")\n",
    "        mod_gam <- gam(formula=formula(labs), data=dat)\n",
    "    }\n",
    "    result <- list()\n",
    "    result$Yfit <- as.matrix(mod_gam$fitted.values)\n",
    "    result$residuals <- as.matrix(mod_gam$residuals)\n",
    "    result$model <- mod_gam \n",
    "    result$df <- mod_gam$df.residual     \n",
    "    result$edf <- mod_gam$edf     \n",
    "    result$edf1 <- mod_gam$edf1     \n",
    "    \n",
    "    # for degree of freedom see mod_gam$df.residual\n",
    "    # for aic see mod_gam$aic\n",
    "    return(result)\n",
    "}"
   ]
  },
  {
   "cell_type": "markdown",
   "metadata": {},
   "source": [
    "##### GAM Boost"
   ]
  },
  {
   "cell_type": "code",
   "execution_count": 4,
   "metadata": {},
   "outputs": [
    {
     "name": "stderr",
     "output_type": "stream",
     "text": [
      "Loading required package: parallel\n",
      "Loading required package: stabs\n",
      "This is mboost 2.9-1. See ‘package?mboost’ and ‘news(package  = \"mboost\")’\n",
      "for a complete list of changes.\n",
      "\n"
     ]
    }
   ],
   "source": [
    "library(mboost)\n",
    "train_GAMboost <- function(X,y,pars = list()) #\n",
    "{\n",
    "    ## begin old version\n",
    "    # EXPLANATION: surprisingly, it turned out that this cannot be applied to large p (private discussion with T. Hothorn in Sep 2013)\n",
    "    # yy <- y\n",
    "    # dat <- data.frame(cbind(yy,X))\n",
    "    # gb <- gamboost(yy ~ .,data=dat, baselearner = \"bbs\")\n",
    "    ## end old version\n",
    "    \n",
    "    ## begin new version\n",
    "    dat <- as.data.frame(X)\n",
    "    bl <- lapply(dat, bbs)\n",
    "    gb <- mboost_fit(bl, y)\n",
    "    ## end new version\n",
    "    \n",
    "    result <- list()\n",
    "    result$Yfit <- gb$fitted()\n",
    "    result$residuals <- gb$resid()\n",
    "    result$model <- gb\n",
    "    return(result)\n",
    "}"
   ]
  },
  {
   "cell_type": "markdown",
   "metadata": {},
   "source": [
    "##### Pen GAM"
   ]
  },
  {
   "cell_type": "code",
   "execution_count": 5,
   "metadata": {},
   "outputs": [],
   "source": [
    "train_penGAM <- function(X,y,pars = list(kCV = 3))\n",
    "{\n",
    "    # Meier, L., van de Geer, S. and Bühlmann, P. (2009). High-Dimensional Additive Modeling. Annals of Statistics 37, 3779-3821\n",
    "    # code available from Lukas Meier [meier@stat.math.ethz.ch]\n",
    "    # !! It is not so easy to find good values for cross-validation !!\n",
    "    war <- library(penGAM, logical.return=TRUE)\n",
    "    if(!war)\n",
    "    {\n",
    "        error(\"penGAM regression cannot be used because the package (based on Meier, L. et al. High-Dimensional Additive Modeling. 2009) cannot be loaded. Code is available from Lukas Meier [meier@stat.math.ethz.ch]\")\n",
    "    }\n",
    "    if(is.matrix(X))\n",
    "    {\n",
    "        dimX <- dim(X)[1]\n",
    "    } else if(is.vector(X))\n",
    "    {\n",
    "        dimX <- length(X)\n",
    "        X <- as.matrix(X)\n",
    "    }\n",
    "    \n",
    "    # Cross-Validation\n",
    "    \n",
    "    allSets <- getSetsForKFoldCV(dimX, pars$kCV)\n",
    "    trainSets <- allSets$trainSets\n",
    "    testSets <- allSets$testSets \n",
    "    \n",
    "    lambda.pen <- 0.955^seq(1,120,by=30)\n",
    "    #lambda.pen  <- 0.9^(1:20) ## 0.955^(1:110) 0.955^(1:110) ## Special!!!\n",
    "    #lambda.pen  <- c(0.5,0.2,0.1) ## 0.955^(1:110) 0.955^(1:110) ## Special!!!\n",
    "    #lambda.pen  <- 0.95 ## 0.955^(1:110) 0.955^(1:110) ## Special!!!\n",
    "    #lambda.pen = c(1, 0.9, 0.8, 0.5, 0.3, 0.1),\n",
    "    \n",
    "    lambda.curv <- c(2^(4:(-4)), 0)\n",
    "    #lambda.curv <- c(2^(6:(-6)), 0)\n",
    "    #lambda.curv = c(6, 4, 2, 1), \n",
    "    \n",
    "    SS <- matrix(0,length(lambda.pen), length(lambda.curv))\n",
    "    for(i in 1:pars$kCV)\n",
    "    {\n",
    "        kkk <- round(sqrt(dimX))\n",
    "        fit.GAM <- penGAM(as.matrix(X[trainSets[[i]],]), as.matrix(y[trainSets[[i]]]), \n",
    "                          lambda.pen,\n",
    "                          lambda.curv,\n",
    "                          knots = kkk, \n",
    "                          #########################\n",
    "                          # is this a good idea??????\n",
    "                          #########################\n",
    "                          model = LinReg(), control = grpl.control(trace = 0))\n",
    "        pred <- predict(fit.GAM, newdata = as.matrix(X[testSets[[i]],]))\n",
    "        for(pp in 1:length(lambda.pen))\n",
    "        {\n",
    "            for(cc in 1:length(lambda.curv))\n",
    "            {\n",
    "                SS[pp,cc] <- SS[pp,cc] + sum((pred[pp,cc,] - y[testSets[[i]]])^2)\n",
    "            }\n",
    "        }\n",
    "    }\n",
    "    \n",
    "    #choose best lambdas\n",
    "    opt <- arrayInd(which.min(SS),dim(SS))\n",
    "    lambda.pen.opt <- lambda.pen[opt[1]]\n",
    "    lambda.curv.opt <- lambda.curv[opt[2]]\n",
    "    cat(\"Optimal value for lambda.pen: \", lambda.pen.opt, \"\\n\")\n",
    "    cat(\"Optimal value for lambda.curv: \", lambda.curv.opt, \"\\n\")\n",
    "    \n",
    "    \n",
    "    # fit a gam model    \n",
    "    fit.GAM <- penGAM(as.matrix(X), as.matrix(y), \n",
    "                      lambda.pen.opt,\n",
    "                      lambda.curv.opt,\n",
    "                      knots = round(sqrt(dim(X)[1])),\n",
    "                      model = LinReg(), control = grpl.control(trace = 0))\n",
    "    \n",
    "    result <- list()\n",
    "    result$Yfit <- predict(fit.GAM,X)\n",
    "    result$residuals <- y - result$Yfit\n",
    "    result$model <- fit.GAM\n",
    "    return(result)\n",
    "}"
   ]
  },
  {
   "cell_type": "markdown",
   "metadata": {},
   "source": [
    "##### Lasso"
   ]
  },
  {
   "cell_type": "code",
   "execution_count": 6,
   "metadata": {},
   "outputs": [
    {
     "name": "stderr",
     "output_type": "stream",
     "text": [
      "Warning message in library(glmnet, logical.return = TRUE):\n",
      "“there is no package called ‘glmnet’”"
     ]
    },
    {
     "name": "stdout",
     "output_type": "stream",
     "text": [
      "The package glmnet is not installed. This only means that lasso regression cannot be performed. However, this has no effect of the standard GAM version.\n"
     ]
    }
   ],
   "source": [
    "war <- library(glmnet, logical.return=TRUE)\n",
    "if(!war)\n",
    "{\n",
    "    cat(\"The package glmnet is not installed. This only means that lasso regression cannot be performed. However, this has no effect of the standard GAM version.\\n\")\n",
    "}\n",
    "train_lasso <- function(X,y,pars = list())\n",
    "{\n",
    "    cvres <- cv.glmnet(X,y)\n",
    "    mod <- glmnet(X,y,lambda = cvres$lambda.1se)\n",
    "    result <- list()\n",
    "    result$Yfit <- predict(mod,X)\n",
    "    result$residuals <- y - result$Yfit\n",
    "    result$model <- mod\n",
    "    return(result)\n",
    "}"
   ]
  },
  {
   "cell_type": "markdown",
   "metadata": {},
   "source": [
    "##### Logistic Regression"
   ]
  },
  {
   "cell_type": "code",
   "execution_count": 8,
   "metadata": {},
   "outputs": [
    {
     "ename": "ERROR",
     "evalue": "Error in parse(text = x, srcfile = src): <text>:3:0: unexpected end of input\n1: library(glm)\n2: logistic_regression <- function()\n  ^\n",
     "output_type": "error",
     "traceback": [
      "Error in parse(text = x, srcfile = src): <text>:3:0: unexpected end of input\n1: library(glm)\n2: logistic_regression <- function()\n  ^\nTraceback:\n"
     ]
    }
   ],
   "source": [
    "library(glm)\n",
    "logistic_regression <- function()"
   ]
  },
  {
   "cell_type": "markdown",
   "metadata": {},
   "source": [
    "##### Train Model"
   ]
  },
  {
   "cell_type": "code",
   "execution_count": 9,
   "metadata": {},
   "outputs": [],
   "source": [
    "train_model <- function(f,X,y,pars = list())\n",
    "{\n",
    "    result <- f(X,y,pars)\n",
    "}"
   ]
  },
  {
   "cell_type": "markdown",
   "metadata": {},
   "source": [
    "# 2. Independence Test"
   ]
  },
  {
   "cell_type": "markdown",
   "metadata": {},
   "source": [
    "##### The Code Below Performs an Independence Test using the Hilbert-Schmidt Independence Critertion\n",
    "Copyright (c) 2010 - 2013  Jonas Peters  [peters@stat.math.ethz.ch]\n",
    "\n",
    "outputs the test statistic (N*HSIC) and the critical value (according to alpha). If the test statistic is larger than the critical value, H_0 (X and Y are independent) is rejected."
   ]
  },
  {
   "cell_type": "code",
   "execution_count": 209,
   "metadata": {},
   "outputs": [],
   "source": [
    "library(kernlab)\n",
    "indtestHsic <- function(x,y,alpha=0.05, pars = list(method = \"IncChol\")) {    \n",
    "    if(is.matrix(x)==FALSE){\n",
    "        x<-as.matrix(x)}\n",
    "    if(is.matrix(y)==FALSE){\n",
    "        y<-as.matrix(y)}\n",
    "    len <- dim(x)[1]\n",
    "    \n",
    "    # compute distance matrices\n",
    "    xnorm<-as.matrix(dist(x,method=\"euclidean\",diag=TRUE,upper=TRUE))\n",
    "    xnorm<-xnorm^2\n",
    "    ynorm<-as.matrix(dist(y,method=\"euclidean\",diag=TRUE,upper=TRUE))\n",
    "    ynorm<-ynorm^2\n",
    "    \n",
    "    # choose median heuristic for bandwidth\n",
    "    if(len>1000) {\n",
    "        sam <- sample(1:len,1000)\n",
    "        xhilf<-xnorm[sam,sam]\n",
    "        yhilf<-ynorm[sam,sam]\n",
    "    } else {\n",
    "        xhilf<-xnorm\n",
    "        yhilf<-ynorm\n",
    "    }\n",
    "    \n",
    "    sigmax<-sqrt(0.5*median(xhilf[lower.tri(xhilf,diag=FALSE)]))\n",
    "    sigmay<-sqrt(0.5*median(yhilf[lower.tri(yhilf,diag=FALSE)]))\n",
    "    \n",
    "    \n",
    "    if(pars$method == \"Exact\" || pars$method == \"ExactFastTrace\") {\n",
    "        ###\n",
    "        # Compute GramMat\n",
    "        ###\n",
    "        ptm <- proc.time()\n",
    "        KX <- exp(-xnorm/(2*sigmax^2))\n",
    "        KY <- exp(-ynorm/(2*sigmay^2))\n",
    "        timeGramMat <- (proc.time() - ptm)[1]\n",
    "        \n",
    "        ###\n",
    "        # Compute HSIC\n",
    "        ###\n",
    "        if(pars$method == \"Exact\") {\n",
    "            ptm <- proc.time()\n",
    "            H<-diag(1,len)-1/len*matrix(1,len,len)\n",
    "            HSIC <- 1/(len^2)*sum(diag(KX%*%H%*%KY%*%H))\n",
    "            timeHSIC <- (proc.time() - ptm)[1]\n",
    "        }\n",
    "        if(pars$method == \"ExactFastTrace\") {\n",
    "            ptm <- proc.time()\n",
    "            H<-diag(1,len)-1/len*matrix(1,len,len)\n",
    "            HSIC <- 1/(len^2) * sum((KX - 1/len*(KX%*%rep(1,len))%*%t(rep(1,len)))*t(KY - 1/len*(KY%*%rep(1,len))%*%t(rep(1,len))))\n",
    "            timeHSIC <- (proc.time() - ptm)[1]\n",
    "        }\n",
    "        \n",
    "        ###\n",
    "        # Compute Gamma Approximation\n",
    "        ###\n",
    "        ptm <- proc.time()\n",
    "        mux <- (sum(KX)-len)/(len*(len-1))\n",
    "        muy <- (sum(KY)-len)/(len*(len-1))\n",
    "        \n",
    "        mean_h0 <- 1/len*(1+mux*muy-mux-muy)\n",
    "        var_h0 <- (2*(len-4)*(len-5))/(len*(len-1)*(len-2)*(len-3)) * 1/((len-1)^2)*sum((KX - 1/len*(KX%*%rep(1,len))%*%t(rep(1,len)))*t(KX - 1/len*(KX%*%rep(1,len))%*%t(rep(1,len)))) * 1/((len-1)^2)*sum((KY - 1/len*(KY%*%rep(1,len))%*%t(rep(1,len)))*t(KY - 1/len*(KY%*%rep(1,len))%*%t(rep(1,len))))\n",
    "        timeGamma <- (proc.time() - ptm)[1]\n",
    "        \n",
    "    }\n",
    "    \n",
    "    if(pars$method == \"IncChol\" || pars$method == \"IncCholFastTrace\") {\n",
    "        ###\n",
    "        # Compute GramMat\n",
    "        ###\n",
    "        ## incomplete cholesky decomposition\n",
    "        ptm <- proc.time()\n",
    "        LX <- inchol(x, kernel=\"rbfdot\", kpar=list(sigma=1/(2*sigmax^2)), tol = 0.0001, maxiter = 300)\n",
    "        LX <- matrix(LX,nrow=dim(LX)[1], ncol=dim(LX)[2])\n",
    "        LY <- inchol(y, kernel=\"rbfdot\", kpar=list(sigma=1/(2*sigmay^2)), tol = 0.0001, maxiter = 300)\n",
    "        LY <- matrix(LY,nrow=dim(LY)[1], ncol=dim(LY)[2])\n",
    "        LXc <- LX-1/len*(as.matrix(rep(1,len))%*%colSums(LX))\n",
    "        LYc <- LY-1/len*(as.matrix(rep(1,len))%*%colSums(LY))\n",
    "        timeGramMat <- (proc.time() - ptm)[1]\n",
    "        \n",
    "        ###\n",
    "        # Compute HSIC\n",
    "        ###\n",
    "        if(pars$method == \"IncChol\") {\n",
    "            ptm <- proc.time()\n",
    "            HSIC <- 1/(len^2)*sum(diag((t(LX)%*%LYc)%*%(t(LY)%*%LXc)))\n",
    "            timeHSIC <- (proc.time() - ptm)[1]\n",
    "        }\n",
    "        if(pars$method == \"IncCholFastTrace\") {\n",
    "            ptm <- proc.time()\n",
    "            HSIC <- 1/(len^2)*sum( (t(LX)%*%LYc) * t((t(LY)%*%LXc)))\n",
    "            timeHSIC <- (proc.time() - ptm)[1]\n",
    "        }\n",
    "        \n",
    "        ###\n",
    "        # Compute Gamma Approximation\n",
    "        ###\n",
    "        ptm <- proc.time()\n",
    "        mux <- (crossprod(colSums(LX))-len)/(len*(len-1))\n",
    "        muy <- (crossprod(colSums(LY))-len)/(len*(len-1))\n",
    "        \n",
    "        mean_h0 <- 1/len*(1+mux*muy-mux-muy)\n",
    "        var_h0 <- (2*(len-4)*(len-5))/(len*(len-1)*(len-2)*(len-3))*1/((len-1)^2)*sum(diag((t(LX)%*%LXc)%*%(t(LX)%*%LXc)))*1/((len-1)^2)*sum(diag((t(LY)%*%LYc)%*%(t(LY)%*%LYc)))\n",
    "        timeGamma <- (proc.time() - ptm)[1]\n",
    "    }        \n",
    "    \n",
    "    a <- (mean_h0^2)/var_h0\n",
    "    b <- len*var_h0/mean_h0\n",
    "    critical_value <- qgamma(1-alpha,shape=a,scale=b)\n",
    "    p_value <- pgamma(len*HSIC,shape=a,scale=b, lower.tail=FALSE)\n",
    "    resu <- list(statistic = len*HSIC, crit.value = critical_value, p.value = p_value, time = c(timeGramMat,timeHSIC,timeGamma))\n",
    "    return(resu)\n",
    "}"
   ]
  },
  {
   "cell_type": "markdown",
   "metadata": {},
   "source": [
    "\n",
    "# 3. Additive Noise Model Code\n"
   ]
  },
  {
   "cell_type": "code",
   "execution_count": 823,
   "metadata": {},
   "outputs": [],
   "source": [
    "test <- function(x, y, reg_model = train_linear, ind_test = indtestHsic, cut_off = 10, verbose = FALSE) {\n",
    "    xToY <- train_GAMboost(x, y)\n",
    "    yToX <- train_GAMboost(y, x)\n",
    "    xToY.P <- ind_test(xToY$residuals, x)$p.value\n",
    "    yToX.P <- ind_test(yToX$residuals, y)$p.value\n",
    "    if (xToY.P > 10 * yToX.P) {\n",
    "        result <- \"X\"\n",
    "    } else if (xToY.P * 10 < yToX.P) {\n",
    "        result <- \"Y\"\n",
    "    } else {\n",
    "        result <- \"NA\"\n",
    "    }\n",
    "\n",
    "    if (verbose) {\n",
    "        message(\"P value for forward is \", xToY.P, \", P value for backword is \", yToX.P, \" result is \", ifelse(is.na(result), \"Inconclusive\", result))\n",
    "    }\n",
    "        \n",
    "    c(result, xToY.P, yToX.P)\n",
    "}"
   ]
  },
  {
   "cell_type": "markdown",
   "metadata": {},
   "source": [
    "# 4. Function to Test a Pair"
   ]
  },
  {
   "cell_type": "code",
   "execution_count": 12,
   "metadata": {},
   "outputs": [],
   "source": [
    "process_file = function(filepath) {\n",
    "    read.delim(filepath, header = FALSE, sep=\"\", stringsAsFactors = FALSE)    \n",
    "}"
   ]
  },
  {
   "cell_type": "code",
   "execution_count": 194,
   "metadata": {},
   "outputs": [],
   "source": [
    "test_pair <- function(data) {\n",
    "    result <- data.frame(FileName = character(),\n",
    "                         TestParameter = character(),\n",
    "                         RegressionModel = character(),\n",
    "                         Collection = factor(),\n",
    "                         ForwardPValue = double(),\n",
    "                         BackwardPValue = double(),\n",
    "                         Result = factor())\n",
    "\n",
    "    message(\"Start testing file: \", file_path)\n",
    "    message(\"/n\")\n",
    "    \n",
    "    result <- test(\n",
    "        data[[\"V1\"]],\n",
    "        data[[\"V2\"]]\n",
    "    )\n",
    "\n",
    "    result\n",
    "}\n"
   ]
  },
  {
   "cell_type": "markdown",
   "metadata": {},
   "source": [
    "# 5. Now, test all of the pairs"
   ]
  },
  {
   "cell_type": "code",
   "execution_count": 587,
   "metadata": {},
   "outputs": [],
   "source": [
    "results <- matrix(, nrow = 108, ncol = 3)\n",
    "data_size <- vector(, length=108)\n",
    "forward_models <- vector(\"list\", length=108)\n",
    "backward_models <- vector(\"list\", length=108)"
   ]
  },
  {
   "cell_type": "markdown",
   "metadata": {},
   "source": [
    "##### Pair 1"
   ]
  },
  {
   "cell_type": "code",
   "execution_count": 588,
   "metadata": {},
   "outputs": [
    {
     "name": "stderr",
     "output_type": "stream",
     "text": [
      "Start testing file: /Users/mkokkines/Documents/cause_effect_analysis/pairs/pair0001.txt\n",
      "/n\n"
     ]
    },
    {
     "name": "stdout",
     "output_type": "stream",
     "text": [
      "[1] \"X\"                    \"6.37634844718238e-17\" \"2.73490976614775e-25\"\n"
     ]
    }
   ],
   "source": [
    "file_path = \"/Users/mkokkines/Documents/cause_effect_analysis/pairs/pair0001.txt\"\n",
    "data <- process_file(file_path)\n",
    "results_1 = test_pair(data)\n",
    "print(results_1)\n",
    "\n",
    "results[1, 1] = results_1[1]\n",
    "results[1, 2] = as.numeric(results_1[2])\n",
    "results[1, 3] = as.numeric(results_1[3])\n",
    "data_size[1] <- nrow(data)\n",
    "\n",
    "forward_models[[1]] <- glm(V2 ~ V1, data = data)\n",
    "backward_models[[1]] <- glm(V1 ~ V2, data = data)"
   ]
  },
  {
   "cell_type": "markdown",
   "metadata": {},
   "source": [
    "##### Pair 2"
   ]
  },
  {
   "cell_type": "code",
   "execution_count": 589,
   "metadata": {},
   "outputs": [
    {
     "name": "stderr",
     "output_type": "stream",
     "text": [
      "Start testing file: /Users/mkokkines/Documents/cause_effect_analysis/pairs/pair0002.txt\n",
      "/n\n"
     ]
    },
    {
     "name": "stdout",
     "output_type": "stream",
     "text": [
      "[1] \"NA\"                   \"8.97362197664129e-17\" \"2.39595626120772e-17\"\n"
     ]
    }
   ],
   "source": [
    "file_path = \"/Users/mkokkines/Documents/cause_effect_analysis/pairs/pair0002.txt\"\n",
    "data <- process_file(file_path)\n",
    "results_2 = test_pair(data)\n",
    "print(results_2)\n",
    "\n",
    "results[2, 1] = results_2[1]\n",
    "results[2, 2] = as.numeric(results_2[2])\n",
    "results[2, 3] = as.numeric(results_2[3])\n",
    "data_size[2] <- nrow(data)\n",
    "\n",
    "forward_models[[2]] <- glm(V2 ~ V1, data = data)\n",
    "backward_models[[2]] <- glm(V1 ~ V2, data = data)"
   ]
  },
  {
   "cell_type": "markdown",
   "metadata": {},
   "source": [
    "##### Pair 3"
   ]
  },
  {
   "cell_type": "code",
   "execution_count": 590,
   "metadata": {},
   "outputs": [
    {
     "name": "stderr",
     "output_type": "stream",
     "text": [
      "Start testing file: /Users/mkokkines/Documents/cause_effect_analysis/pairs/pair0003.txt\n",
      "/n\n"
     ]
    },
    {
     "name": "stdout",
     "output_type": "stream",
     "text": [
      "[1] \"X\"                    \"9.53978927992768e-08\" \"2.04386366515222e-19\"\n"
     ]
    }
   ],
   "source": [
    "file_path = \"/Users/mkokkines/Documents/cause_effect_analysis/pairs/pair0003.txt\"\n",
    "data <- process_file(file_path)\n",
    "results_3 = test_pair(data)\n",
    "print(results_3)\n",
    "\n",
    "results[3, 1] = results_3[1]\n",
    "results[3, 2] = as.numeric(results_3[2])\n",
    "results[3, 3] = as.numeric(results_3[3])\n",
    "data_size[3] <- nrow(data)\n",
    "\n",
    "forward_models[[3]] <- glm(V2 ~ V1, data = data)\n",
    "backward_models[[3]] <- glm(V1 ~ V2, data = data)"
   ]
  },
  {
   "cell_type": "markdown",
   "metadata": {},
   "source": [
    "##### Pair 4"
   ]
  },
  {
   "cell_type": "code",
   "execution_count": 591,
   "metadata": {},
   "outputs": [
    {
     "name": "stderr",
     "output_type": "stream",
     "text": [
      "Start testing file: /Users/mkokkines/Documents/cause_effect_analysis/pairs/pair0004.txt\n",
      "/n\n"
     ]
    },
    {
     "name": "stdout",
     "output_type": "stream",
     "text": [
      "[1] \"X\"                    \"0.0182466355584996\"   \"3.77426466862528e-06\"\n"
     ]
    }
   ],
   "source": [
    "file_path = \"/Users/mkokkines/Documents/cause_effect_analysis/pairs/pair0004.txt\"\n",
    "data <- process_file(file_path)\n",
    "results_4 = test_pair(data)\n",
    "print(results_4)\n",
    "\n",
    "results[4, 1] = results_4[1]\n",
    "results[4, 2] = as.numeric(results_4[2])\n",
    "results[4, 3] = as.numeric(results_4[3])\n",
    "data_size[4] <- nrow(data)\n",
    "\n",
    "forward_models[[4]] <- glm(V2 ~ V1, data = data)\n",
    "backward_models[[4]] <- glm(V1 ~ V2, data = data)"
   ]
  },
  {
   "cell_type": "markdown",
   "metadata": {},
   "source": [
    "##### Pair 5"
   ]
  },
  {
   "cell_type": "code",
   "execution_count": 592,
   "metadata": {},
   "outputs": [
    {
     "name": "stderr",
     "output_type": "stream",
     "text": [
      "Start testing file: /Users/mkokkines/Documents/cause_effect_analysis/pairs/pair0005.txt\n",
      "/n\n"
     ]
    },
    {
     "name": "stdout",
     "output_type": "stream",
     "text": [
      "[1] \"Y\"                    \"0\"                    \"8.18102866085081e-59\"\n"
     ]
    }
   ],
   "source": [
    "file_path = \"/Users/mkokkines/Documents/cause_effect_analysis/pairs/pair0005.txt\"\n",
    "data <- process_file(file_path)\n",
    "results_5 = test_pair(data)\n",
    "print(results_5)\n",
    "\n",
    "results[5, 1] = results_5[1]\n",
    "results[5, 2] = as.numeric(results_5[2])\n",
    "results[5, 3] = as.numeric(results_5[3])\n",
    "data_size[5] <- nrow(data)\n",
    "\n",
    "forward_models[[5]] <- glm(V2 ~ V1, data = data)\n",
    "backward_models[[5]] <- glm(V1 ~ V2, data = data)"
   ]
  },
  {
   "cell_type": "markdown",
   "metadata": {},
   "source": [
    "##### Pair 6"
   ]
  },
  {
   "cell_type": "code",
   "execution_count": 593,
   "metadata": {},
   "outputs": [
    {
     "name": "stderr",
     "output_type": "stream",
     "text": [
      "Start testing file: /Users/mkokkines/Documents/cause_effect_analysis/pairs/pair0006.txt\n",
      "/n\n"
     ]
    },
    {
     "name": "stdout",
     "output_type": "stream",
     "text": [
      "[1] \"Y\"                    \"0\"                    \"1.4654237225657e-125\"\n"
     ]
    }
   ],
   "source": [
    "file_path = \"/Users/mkokkines/Documents/cause_effect_analysis/pairs/pair0006.txt\"\n",
    "data <- process_file(file_path)\n",
    "results_6 = test_pair(data)\n",
    "print(results_6)\n",
    "\n",
    "results[6, 1] = results_6[1]\n",
    "results[6, 2] = as.numeric(results_6[2])\n",
    "results[6, 3] = as.numeric(results_6[3])\n",
    "data_size[6] <- nrow(data)\n",
    "\n",
    "forward_models[[6]] <- glm(V2 ~ V1, data = data)\n",
    "backward_models[[6]] <- glm(V1 ~ V2, data = data)"
   ]
  },
  {
   "cell_type": "markdown",
   "metadata": {},
   "source": [
    "##### Pair 7"
   ]
  },
  {
   "cell_type": "code",
   "execution_count": 821,
   "metadata": {},
   "outputs": [
    {
     "name": "stderr",
     "output_type": "stream",
     "text": [
      "Start testing file: /Users/mkokkines/Documents/cause_effect_analysis/pairs/pair0007.txt\n",
      "/n\n"
     ]
    },
    {
     "name": "stdout",
     "output_type": "stream",
     "text": [
      "[1] \"Y\"                    \"0\"                    \"1.52199307724905e-78\"\n"
     ]
    }
   ],
   "source": [
    "file_path = \"/Users/mkokkines/Documents/cause_effect_analysis/pairs/pair0007.txt\"\n",
    "data <- process_file(file_path)\n",
    "results_7 = test_pair(data)\n",
    "print(results_7)\n",
    "\n",
    "results[7, 1] = results_7[1]\n",
    "results[7, 2] = as.numeric(results_7[2])\n",
    "results[7, 3] = as.numeric(results_7[3])\n",
    "data_size[7] <- nrow(data)\n",
    "\n",
    "forward_models[[7]] <- glm(V2 ~ V1, data = data)\n",
    "backward_models[[7]] <- glm(V1 ~ V2, data = data)"
   ]
  },
  {
   "cell_type": "markdown",
   "metadata": {},
   "source": [
    "##### Pair 8"
   ]
  },
  {
   "cell_type": "code",
   "execution_count": 788,
   "metadata": {},
   "outputs": [
    {
     "name": "stderr",
     "output_type": "stream",
     "text": [
      "Start testing file: /Users/mkokkines/Documents/cause_effect_analysis/pairs/pair0008.txt\n",
      "/n\n"
     ]
    },
    {
     "name": "stdout",
     "output_type": "stream",
     "text": [
      "[1] \"Y\"                     \"7.80129654783328e-321\" \"2.47721949451832e-44\" \n"
     ]
    }
   ],
   "source": [
    "file_path = \"/Users/mkokkines/Documents/cause_effect_analysis/pairs/pair0008.txt\"\n",
    "data <- process_file(file_path)\n",
    "results_8 = test_pair(data)\n",
    "print(results_8)\n",
    "\n",
    "results[8, 1] = results_8[1]\n",
    "results[8, 2] = as.numeric(results_8[2])\n",
    "results[8, 3] = as.numeric(results_8[3])\n",
    "data_size[8] <- nrow(data)\n",
    "\n",
    "forward_models[[8]] <- glm(V2 ~ V1, data = data)\n",
    "backward_models[[8]] <- glm(V1 ~ V2, data = data)"
   ]
  },
  {
   "cell_type": "markdown",
   "metadata": {},
   "source": [
    "##### Pair 9"
   ]
  },
  {
   "cell_type": "code",
   "execution_count": 595,
   "metadata": {},
   "outputs": [
    {
     "name": "stderr",
     "output_type": "stream",
     "text": [
      "Start testing file: /Users/mkokkines/Documents/cause_effect_analysis/pairs/pair0009.txt\n",
      "/n\n"
     ]
    },
    {
     "name": "stdout",
     "output_type": "stream",
     "text": [
      "[1] \"Y\"                     \"0\"                     \"1.15766299658088e-105\"\n"
     ]
    }
   ],
   "source": [
    "file_path = \"/Users/mkokkines/Documents/cause_effect_analysis/pairs/pair0009.txt\"\n",
    "data <- process_file(file_path)\n",
    "results_9 = test_pair(data)\n",
    "print(results_9)\n",
    "\n",
    "results[9, 1] = results_9[1]\n",
    "results[9, 2] = as.numeric(results_9[2])\n",
    "results[9, 3] = as.numeric(results_9[3])\n",
    "data_size[9] <- nrow(data)\n",
    "\n",
    "forward_models[[9]] <- glm(V2 ~ V1, data = data)\n",
    "backward_models[[9]] <- glm(V1 ~ V2, data = data)"
   ]
  },
  {
   "cell_type": "markdown",
   "metadata": {},
   "source": [
    "##### Pair 10"
   ]
  },
  {
   "cell_type": "code",
   "execution_count": 596,
   "metadata": {},
   "outputs": [
    {
     "name": "stderr",
     "output_type": "stream",
     "text": [
      "Start testing file: /Users/mkokkines/Documents/cause_effect_analysis/pairs/pair0010.txt\n",
      "/n\n"
     ]
    },
    {
     "name": "stdout",
     "output_type": "stream",
     "text": [
      "[1] \"Y\"                    \"0\"                    \"9.70380230225695e-97\"\n"
     ]
    }
   ],
   "source": [
    "file_path = \"/Users/mkokkines/Documents/cause_effect_analysis/pairs/pair0010.txt\"\n",
    "data <- process_file(file_path)\n",
    "results_10 = test_pair(data)\n",
    "print(results_10)\n",
    "\n",
    "results[10, 1] = results_10[1]\n",
    "results[10, 2] = as.numeric(results_10[2])\n",
    "results[10, 3] = as.numeric(results_10[3])\n",
    "data_size[10] <- nrow(data)\n",
    "\n",
    "forward_models[[10]] <- glm(V2 ~ V1, data = data)\n",
    "backward_models[[10]] <- glm(V1 ~ V2, data = data)"
   ]
  },
  {
   "cell_type": "markdown",
   "metadata": {},
   "source": [
    "##### Pair 11"
   ]
  },
  {
   "cell_type": "code",
   "execution_count": 597,
   "metadata": {},
   "outputs": [
    {
     "name": "stderr",
     "output_type": "stream",
     "text": [
      "Start testing file: /Users/mkokkines/Documents/cause_effect_analysis/pairs/pair0011.txt\n",
      "/n\n"
     ]
    },
    {
     "name": "stdout",
     "output_type": "stream",
     "text": [
      "[1] \"Y\"                     \"0\"                     \"3.00115699446088e-120\"\n"
     ]
    }
   ],
   "source": [
    "file_path = \"/Users/mkokkines/Documents/cause_effect_analysis/pairs/pair0011.txt\"\n",
    "data <- process_file(file_path)\n",
    "results_11 = test_pair(data)\n",
    "print(results_11)\n",
    "\n",
    "results[11, 1] = results_11[1]\n",
    "results[11, 2] = as.numeric(results_11[2])\n",
    "results[11, 3] = as.numeric(results_11[3])\n",
    "data_size[11] <- nrow(data)\n",
    "\n",
    "forward_models[[11]] <- glm(V2 ~ V1, data = data)\n",
    "backward_models[[11]] <- glm(V1 ~ V2, data = data)"
   ]
  },
  {
   "cell_type": "markdown",
   "metadata": {},
   "source": [
    "##### Pair 12"
   ]
  },
  {
   "cell_type": "code",
   "execution_count": 598,
   "metadata": {},
   "outputs": [
    {
     "name": "stderr",
     "output_type": "stream",
     "text": [
      "Start testing file: /Users/mkokkines/Documents/cause_effect_analysis/pairs/pair0012.txt\n",
      "/n\n"
     ]
    },
    {
     "name": "stdout",
     "output_type": "stream",
     "text": [
      "[1] \"Y\"                     \"1.64175623579961e-289\" \"9.95567901908085e-188\"\n"
     ]
    }
   ],
   "source": [
    "file_path = \"/Users/mkokkines/Documents/cause_effect_analysis/pairs/pair0012.txt\"\n",
    "data <- process_file(file_path)\n",
    "results_12 = test_pair(data)\n",
    "print(results_12)\n",
    "\n",
    "results[12, 1] = results_12[1]\n",
    "results[12, 2] = as.numeric(results_12[2])\n",
    "results[12, 3] = as.numeric(results_12[3])\n",
    "data_size[12] <- nrow(data)\n",
    "\n",
    "forward_models[[12]] <- glm(V2 ~ V1, data = data)\n",
    "backward_models[[12]] <- glm(V1 ~ V2, data = data)"
   ]
  },
  {
   "cell_type": "markdown",
   "metadata": {},
   "source": [
    "##### Pair 13"
   ]
  },
  {
   "cell_type": "code",
   "execution_count": 599,
   "metadata": {},
   "outputs": [
    {
     "name": "stderr",
     "output_type": "stream",
     "text": [
      "Start testing file: /Users/mkokkines/Documents/cause_effect_analysis/pairs/pair0013.txt\n",
      "/n\n"
     ]
    },
    {
     "name": "stdout",
     "output_type": "stream",
     "text": [
      "[1] \"X\"                    \"1.38622298742076e-23\" \"4.3499765635473e-55\" \n"
     ]
    }
   ],
   "source": [
    "file_path = \"/Users/mkokkines/Documents/cause_effect_analysis/pairs/pair0013.txt\"\n",
    "data <- process_file(file_path)\n",
    "results_13 = test_pair(data)\n",
    "print(results_13)\n",
    "\n",
    "results[13, 1] = results_13[1]\n",
    "results[13, 2] = as.numeric(results_13[2])\n",
    "results[13, 3] = as.numeric(results_13[3])\n",
    "data_size[13] <- nrow(data)\n",
    "\n",
    "forward_models[[13]] <- glm(V2 ~ V1, data = data)\n",
    "backward_models[[13]] <- glm(V1 ~ V2, data = data)"
   ]
  },
  {
   "cell_type": "markdown",
   "metadata": {},
   "source": [
    "##### Pair 14"
   ]
  },
  {
   "cell_type": "code",
   "execution_count": 600,
   "metadata": {},
   "outputs": [
    {
     "name": "stderr",
     "output_type": "stream",
     "text": [
      "Start testing file: /Users/mkokkines/Documents/cause_effect_analysis/pairs/pair0014.txt\n",
      "/n\n"
     ]
    },
    {
     "name": "stdout",
     "output_type": "stream",
     "text": [
      "[1] \"X\"                    \"3.06317465573772e-31\" \"1.35991516341853e-47\"\n"
     ]
    }
   ],
   "source": [
    "file_path = \"/Users/mkokkines/Documents/cause_effect_analysis/pairs/pair0014.txt\"\n",
    "data <- process_file(file_path)\n",
    "results_14 = test_pair(data)\n",
    "print(results_14)\n",
    "\n",
    "results[14, 1] = results_14[1]\n",
    "results[14, 2] = as.numeric(results_14[2])\n",
    "results[14, 3] = as.numeric(results_14[3])\n",
    "data_size[14] <- nrow(data)\n",
    "\n",
    "forward_models[[14]] <- glm(V2 ~ V1, data = data)\n",
    "backward_models[[14]] <- glm(V1 ~ V2, data = data)"
   ]
  },
  {
   "cell_type": "markdown",
   "metadata": {},
   "source": [
    "##### Pair 15"
   ]
  },
  {
   "cell_type": "code",
   "execution_count": 601,
   "metadata": {},
   "outputs": [
    {
     "name": "stderr",
     "output_type": "stream",
     "text": [
      "Start testing file: /Users/mkokkines/Documents/cause_effect_analysis/pairs/pair0015.txt\n",
      "/n\n"
     ]
    },
    {
     "name": "stdout",
     "output_type": "stream",
     "text": [
      "[1] \"X\"                    \"1.96603213812734e-22\" \"3.86183978578115e-32\"\n"
     ]
    }
   ],
   "source": [
    "file_path = \"/Users/mkokkines/Documents/cause_effect_analysis/pairs/pair0015.txt\"\n",
    "data <- process_file(file_path)\n",
    "results_15 = test_pair(data)\n",
    "print(results_15)\n",
    "\n",
    "results[15, 1] = results_15[1]\n",
    "results[15, 2] = as.numeric(results_15[2])\n",
    "results[15, 3] = as.numeric(results_15[3])\n",
    "data_size[15] <- nrow(data)\n",
    "\n",
    "forward_models[[15]] <- glm(V2 ~ V1, data = data)\n",
    "backward_models[[15]] <- glm(V1 ~ V2, data = data)"
   ]
  },
  {
   "cell_type": "markdown",
   "metadata": {},
   "source": [
    "##### Pair 16\n"
   ]
  },
  {
   "cell_type": "code",
   "execution_count": 602,
   "metadata": {},
   "outputs": [
    {
     "name": "stderr",
     "output_type": "stream",
     "text": [
      "Start testing file: /Users/mkokkines/Documents/cause_effect_analysis/pairs/pair0016.txt\n",
      "/n\n"
     ]
    },
    {
     "name": "stdout",
     "output_type": "stream",
     "text": [
      "[1] \"X\"                    \"3.13395707433834e-05\" \"1.81505912952658e-37\"\n"
     ]
    }
   ],
   "source": [
    "file_path = \"/Users/mkokkines/Documents/cause_effect_analysis/pairs/pair0016.txt\"\n",
    "data <- process_file(file_path)\n",
    "results_16 = test_pair(data)\n",
    "print(results_16)\n",
    "\n",
    "results[16, 1] = results_16[1]\n",
    "results[16, 2] = as.numeric(results_16[2])\n",
    "results[16, 3] = as.numeric(results_16[3])\n",
    "data_size[16] <- nrow(data)\n",
    "\n",
    "forward_models[[16]] <- glm(V2 ~ V1, data = data)\n",
    "backward_models[[16]] <- glm(V1 ~ V2, data = data)"
   ]
  },
  {
   "cell_type": "markdown",
   "metadata": {},
   "source": [
    "##### Pair 17"
   ]
  },
  {
   "cell_type": "code",
   "execution_count": 603,
   "metadata": {},
   "outputs": [
    {
     "name": "stderr",
     "output_type": "stream",
     "text": [
      "Start testing file: /Users/mkokkines/Documents/cause_effect_analysis/pairs/pair0017.txt\n",
      "/n\n"
     ]
    },
    {
     "name": "stdout",
     "output_type": "stream",
     "text": [
      "[1] \"Y\"                     \"0\"                     \"2.15493493872973e-174\"\n"
     ]
    }
   ],
   "source": [
    "file_path = \"/Users/mkokkines/Documents/cause_effect_analysis/pairs/pair0017.txt\"\n",
    "data <- process_file(file_path)\n",
    "\n",
    "# Change the data type from int to numeric\n",
    "for (row in 1:nrow(data)) {\n",
    "    data[row, \"V1\"] <- as.numeric(data[row, \"V1\"])\n",
    "    data[row, \"V2\"] <- as.numeric(data[row, \"V2\"])\n",
    "}\n",
    "\n",
    "results_17 = test_pair(data)\n",
    "print(results_17)\n",
    "\n",
    "results[17, 1] = results_17[1]\n",
    "results[17, 2] = as.numeric(results_17[2])\n",
    "results[17, 3] = as.numeric(results_17[3])\n",
    "data_size[17] <- nrow(data)\n",
    "\n",
    "forward_models[[17]] <- glm(V2 ~ V1, data = data)\n",
    "backward_models[[17]] <- glm(V1 ~ V2, data = data)"
   ]
  },
  {
   "cell_type": "markdown",
   "metadata": {},
   "source": [
    "##### Pair 18"
   ]
  },
  {
   "cell_type": "code",
   "execution_count": 604,
   "metadata": {},
   "outputs": [
    {
     "name": "stderr",
     "output_type": "stream",
     "text": [
      "Start testing file: /Users/mkokkines/Documents/cause_effect_analysis/pairs/pair0018.txt\n",
      "/n\n"
     ]
    },
    {
     "name": "stdout",
     "output_type": "stream",
     "text": [
      "[1] \"X\"                    \"1.39904990486191e-50\" \"1.23007030992263e-54\"\n"
     ]
    }
   ],
   "source": [
    "file_path = \"/Users/mkokkines/Documents/cause_effect_analysis/pairs/pair0018.txt\"\n",
    "data <- process_file(file_path)\n",
    "results_18 = test_pair(data)\n",
    "print(results_18)\n",
    "\n",
    "results[18, 1] = results_18[1]\n",
    "results[18, 2] = as.numeric(results_18[2])\n",
    "results[18, 3] = as.numeric(results_18[3])\n",
    "data_size[18] <- nrow(data)\n",
    "\n",
    "forward_models[[18]] <- glm(V2 ~ V1, data = data)\n",
    "backward_models[[18]] <- glm(V1 ~ V2, data = data)"
   ]
  },
  {
   "cell_type": "markdown",
   "metadata": {},
   "source": [
    "##### Pair 19"
   ]
  },
  {
   "cell_type": "code",
   "execution_count": 605,
   "metadata": {},
   "outputs": [
    {
     "name": "stderr",
     "output_type": "stream",
     "text": [
      "Start testing file: /Users/mkokkines/Documents/cause_effect_analysis/pairs/pair0019.txt\n",
      "/n\n"
     ]
    },
    {
     "name": "stdout",
     "output_type": "stream",
     "text": [
      "[1] \"X\"                    \"0.281230815317771\"    \"1.17196872553625e-16\"\n"
     ]
    }
   ],
   "source": [
    "file_path = \"/Users/mkokkines/Documents/cause_effect_analysis/pairs/pair0019.txt\"\n",
    "data <- process_file(file_path)\n",
    "results_19 = test_pair(data)\n",
    "print(results_19)\n",
    "\n",
    "results[19, 1] = results_19[1]\n",
    "results[19, 2] = as.numeric(results_19[2])\n",
    "results[19, 3] = as.numeric(results_19[3])\n",
    "data_size[19] <- nrow(data)\n",
    "\n",
    "forward_models[[19]] <- glm(V2 ~ V1, data = data)\n",
    "backward_models[[19]] <- glm(V1 ~ V2, data = data)"
   ]
  },
  {
   "cell_type": "markdown",
   "metadata": {},
   "source": [
    "##### Pair 20"
   ]
  },
  {
   "cell_type": "code",
   "execution_count": 606,
   "metadata": {},
   "outputs": [
    {
     "name": "stderr",
     "output_type": "stream",
     "text": [
      "Start testing file: /Users/mkokkines/Documents/cause_effect_analysis/pairs/pair0020.txt\n",
      "/n\n"
     ]
    },
    {
     "name": "stdout",
     "output_type": "stream",
     "text": [
      "[1] \"NA\"                   \"6.40820892499059e-22\" \"9.05040194501355e-23\"\n"
     ]
    }
   ],
   "source": [
    "file_path = \"/Users/mkokkines/Documents/cause_effect_analysis/pairs/pair0020.txt\"\n",
    "data <- process_file(file_path)\n",
    "results_20 = test_pair(data)\n",
    "print(results_20)\n",
    "\n",
    "results[20, 1] = results_20[1]\n",
    "results[20, 2] = as.numeric(results_20[2])\n",
    "results[20, 3] = as.numeric(results_20[3])\n",
    "data_size[20] <- nrow(data)\n",
    "\n",
    "forward_models[[20]] <- glm(V2 ~ V1, data = data)\n",
    "backward_models[[20]] <- glm(V1 ~ V2, data = data)"
   ]
  },
  {
   "cell_type": "markdown",
   "metadata": {},
   "source": [
    "##### Pair 21"
   ]
  },
  {
   "cell_type": "code",
   "execution_count": 607,
   "metadata": {},
   "outputs": [
    {
     "name": "stderr",
     "output_type": "stream",
     "text": [
      "Start testing file: /Users/mkokkines/Documents/cause_effect_analysis/pairs/pair0021.txt\n",
      "/n\n"
     ]
    },
    {
     "name": "stdout",
     "output_type": "stream",
     "text": [
      "[1] \"X\"                    \"5.07967942846438e-10\" \"8.91317987145589e-23\"\n"
     ]
    }
   ],
   "source": [
    "file_path = \"/Users/mkokkines/Documents/cause_effect_analysis/pairs/pair0021.txt\"\n",
    "data <- process_file(file_path)\n",
    "results_21 = test_pair(data)\n",
    "print(results_21)\n",
    "\n",
    "results[21, 1] = results_21[1]\n",
    "results[21, 2] = as.numeric(results_21[2])\n",
    "results[21, 3] = as.numeric(results_21[3])\n",
    "data_size[21] <- nrow(data)\n",
    "\n",
    "forward_models[[21]] <- glm(V2 ~ V1, data = data)\n",
    "backward_models[[21]] <- glm(V1 ~ V2, data = data)"
   ]
  },
  {
   "cell_type": "markdown",
   "metadata": {},
   "source": [
    "##### Pair 22"
   ]
  },
  {
   "cell_type": "code",
   "execution_count": 608,
   "metadata": {},
   "outputs": [
    {
     "name": "stderr",
     "output_type": "stream",
     "text": [
      "Start testing file: /Users/mkokkines/Documents/cause_effect_analysis/pairs/pair0022.txt\n",
      "/n\n"
     ]
    },
    {
     "name": "stdout",
     "output_type": "stream",
     "text": [
      "[1] \"Y\"                    \"4.7117384952669e-13\"  \"4.79768519786228e-05\"\n"
     ]
    }
   ],
   "source": [
    "file_path = \"/Users/mkokkines/Documents/cause_effect_analysis/pairs/pair0022.txt\"\n",
    "data <- process_file(file_path)\n",
    "results_22 = test_pair(data)\n",
    "print(results_22)\n",
    "\n",
    "results[22, 1] = results_22[1]\n",
    "results[22, 2] = as.numeric(results_22[2])\n",
    "results[22, 3] = as.numeric(results_22[3])\n",
    "data_size[22] <- nrow(data)\n",
    "\n",
    "forward_models[[22]] <- glm(V2 ~ V1, data = data)\n",
    "backward_models[[22]] <- glm(V1 ~ V2, data = data)"
   ]
  },
  {
   "cell_type": "markdown",
   "metadata": {},
   "source": [
    "##### Pair 23"
   ]
  },
  {
   "cell_type": "code",
   "execution_count": 609,
   "metadata": {},
   "outputs": [
    {
     "name": "stderr",
     "output_type": "stream",
     "text": [
      "Start testing file: /Users/mkokkines/Documents/cause_effect_analysis/pairs/pair0023.txt\n",
      "/n\n"
     ]
    },
    {
     "name": "stdout",
     "output_type": "stream",
     "text": [
      "[1] \"NA\"                   \"9.89603924501682e-17\" \"1.72109075188294e-16\"\n"
     ]
    }
   ],
   "source": [
    "file_path = \"/Users/mkokkines/Documents/cause_effect_analysis/pairs/pair0023.txt\"\n",
    "data <- process_file(file_path)\n",
    "results_23 = test_pair(data)\n",
    "print(results_23)\n",
    "\n",
    "results[23, 1] = results_23[1]\n",
    "results[23, 2] = as.numeric(results_23[2])\n",
    "results[23, 3] = as.numeric(results_23[3])\n",
    "data_size[23] <- nrow(data)\n",
    "\n",
    "forward_models[[23]] <- glm(V2 ~ V1, data = data)\n",
    "backward_models[[23]] <- glm(V1 ~ V2, data = data)"
   ]
  },
  {
   "cell_type": "markdown",
   "metadata": {},
   "source": [
    "##### Pair 24"
   ]
  },
  {
   "cell_type": "code",
   "execution_count": 610,
   "metadata": {},
   "outputs": [
    {
     "name": "stderr",
     "output_type": "stream",
     "text": [
      "Start testing file: /Users/mkokkines/Documents/cause_effect_analysis/pairs/pair0024.txt\n",
      "/n\n"
     ]
    },
    {
     "name": "stdout",
     "output_type": "stream",
     "text": [
      "[1] \"NA\"                  \"0.00066727323124985\" \"0.00277748938688196\"\n"
     ]
    }
   ],
   "source": [
    "file_path = \"/Users/mkokkines/Documents/cause_effect_analysis/pairs/pair0024.txt\"\n",
    "data <- process_file(file_path)\n",
    "results_24 = test_pair(data)\n",
    "print(results_24)\n",
    "\n",
    "results[24, 1] = results_24[1]\n",
    "results[24, 2] = as.numeric(results_24[2])\n",
    "results[24, 3] = as.numeric(results_24[3])\n",
    "data_size[24] <- nrow(data)\n",
    "\n",
    "forward_models[[24]] <- glm(V2 ~ V1, data = data)\n",
    "backward_models[[24]] <- glm(V1 ~ V2, data = data)"
   ]
  },
  {
   "cell_type": "markdown",
   "metadata": {},
   "source": [
    "##### Pair 25"
   ]
  },
  {
   "cell_type": "code",
   "execution_count": 611,
   "metadata": {},
   "outputs": [
    {
     "name": "stderr",
     "output_type": "stream",
     "text": [
      "Start testing file: /Users/mkokkines/Documents/cause_effect_analysis/pairs/pair0025.txt\n",
      "/n\n"
     ]
    },
    {
     "name": "stdout",
     "output_type": "stream",
     "text": [
      "[1] \"X\"                    \"0.00321959558622554\"  \"1.02396570745108e-10\"\n"
     ]
    }
   ],
   "source": [
    "file_path = \"/Users/mkokkines/Documents/cause_effect_analysis/pairs/pair0025.txt\"\n",
    "data <- process_file(file_path)\n",
    "results_25 = test_pair(data)\n",
    "print(results_25)\n",
    "\n",
    "results[25, 1] = results_25[1]\n",
    "results[25, 2] = as.numeric(results_25[2])\n",
    "results[25, 3] = as.numeric(results_25[3])\n",
    "data_size[25] <- nrow(data)\n",
    "\n",
    "forward_models[[25]] <- glm(V2 ~ V1, data = data)\n",
    "backward_models[[25]] <- glm(V1 ~ V2, data = data)"
   ]
  },
  {
   "cell_type": "markdown",
   "metadata": {},
   "source": [
    "##### Pair 26"
   ]
  },
  {
   "cell_type": "code",
   "execution_count": 612,
   "metadata": {},
   "outputs": [
    {
     "name": "stderr",
     "output_type": "stream",
     "text": [
      "Start testing file: /Users/mkokkines/Documents/cause_effect_analysis/pairs/pair0026.txt\n",
      "/n\n"
     ]
    },
    {
     "name": "stdout",
     "output_type": "stream",
     "text": [
      "[1] \"X\"                    \"4.16484016280906e-07\" \"9.08097910660748e-10\"\n"
     ]
    }
   ],
   "source": [
    "file_path = \"/Users/mkokkines/Documents/cause_effect_analysis/pairs/pair0026.txt\"\n",
    "data <- process_file(file_path)\n",
    "results_26 = test_pair(data)\n",
    "print(results_26)\n",
    "\n",
    "results[26, 1] = results_26[1]\n",
    "results[26, 2] = as.numeric(results_26[2])\n",
    "results[26, 3] = as.numeric(results_26[3])\n",
    "data_size[26] <- nrow(data)\n",
    "\n",
    "forward_models[[26]] <- glm(V2 ~ V1, data = data)\n",
    "backward_models[[26]] <- glm(V1 ~ V2, data = data)"
   ]
  },
  {
   "cell_type": "markdown",
   "metadata": {},
   "source": [
    "##### Pair 27"
   ]
  },
  {
   "cell_type": "code",
   "execution_count": 613,
   "metadata": {},
   "outputs": [
    {
     "name": "stderr",
     "output_type": "stream",
     "text": [
      "Start testing file: /Users/mkokkines/Documents/cause_effect_analysis/pairs/pair0027.txt\n",
      "/n\n"
     ]
    },
    {
     "name": "stdout",
     "output_type": "stream",
     "text": [
      "[1] \"NA\"                   \"2.84074338371996e-09\" \"5.31318707328198e-10\"\n"
     ]
    }
   ],
   "source": [
    "file_path = \"/Users/mkokkines/Documents/cause_effect_analysis/pairs/pair0027.txt\"\n",
    "data <- process_file(file_path)\n",
    "results_27 = test_pair(data)\n",
    "print(results_27)\n",
    "\n",
    "results[27, 1] = results_27[1]\n",
    "results[27, 2] = as.numeric(results_27[2])\n",
    "results[27, 3] = as.numeric(results_27[3])\n",
    "data_size[27] <- nrow(data)\n",
    "\n",
    "forward_models[[27]] <- glm(V2 ~ V1, data = data)\n",
    "backward_models[[27]] <- glm(V1 ~ V2, data = data)"
   ]
  },
  {
   "cell_type": "markdown",
   "metadata": {},
   "source": [
    "##### Pair 28"
   ]
  },
  {
   "cell_type": "code",
   "execution_count": 614,
   "metadata": {},
   "outputs": [
    {
     "name": "stderr",
     "output_type": "stream",
     "text": [
      "Start testing file: /Users/mkokkines/Documents/cause_effect_analysis/pairs/pair0028.txt\n",
      "/n\n"
     ]
    },
    {
     "name": "stdout",
     "output_type": "stream",
     "text": [
      "[1] \"Y\"                    \"8.79374876597432e-34\" \"1.67975253780195e-30\"\n"
     ]
    }
   ],
   "source": [
    "file_path = \"/Users/mkokkines/Documents/cause_effect_analysis/pairs/pair0028.txt\"\n",
    "data <- process_file(file_path)\n",
    "results_28 = test_pair(data)\n",
    "print(results_28)\n",
    "\n",
    "results[28, 1] = results_28[1]\n",
    "results[28, 2] = as.numeric(results_28[2])\n",
    "results[28, 3] = as.numeric(results_28[3])\n",
    "data_size[28] <- nrow(data)\n",
    "\n",
    "forward_models[[28]] <- glm(V2 ~ V1, data = data)\n",
    "backward_models[[28]] <- glm(V1 ~ V2, data = data)"
   ]
  },
  {
   "cell_type": "markdown",
   "metadata": {},
   "source": [
    "##### Pair 29"
   ]
  },
  {
   "cell_type": "code",
   "execution_count": 615,
   "metadata": {},
   "outputs": [
    {
     "name": "stderr",
     "output_type": "stream",
     "text": [
      "Start testing file: /Users/mkokkines/Documents/cause_effect_analysis/pairs/pair0029.txt\n",
      "/n\n"
     ]
    },
    {
     "name": "stdout",
     "output_type": "stream",
     "text": [
      "[1] \"X\"                    \"0.0081920895666929\"   \"7.22393936398402e-27\"\n"
     ]
    }
   ],
   "source": [
    "file_path = \"/Users/mkokkines/Documents/cause_effect_analysis/pairs/pair0029.txt\"\n",
    "data <- process_file(file_path)\n",
    "results_29 = test_pair(data)\n",
    "print(results_29)\n",
    "\n",
    "results[29, 1] = results_29[1]\n",
    "results[29, 2] = as.numeric(results_29[2])\n",
    "results[29, 3] = as.numeric(results_29[3])\n",
    "data_size[29] <- nrow(data)\n",
    "\n",
    "forward_models[[29]] <- glm(V2 ~ V1, data = data)\n",
    "backward_models[[29]] <- glm(V1 ~ V2, data = data)"
   ]
  },
  {
   "cell_type": "markdown",
   "metadata": {},
   "source": [
    "##### Pair 30"
   ]
  },
  {
   "cell_type": "code",
   "execution_count": 616,
   "metadata": {},
   "outputs": [
    {
     "name": "stderr",
     "output_type": "stream",
     "text": [
      "Start testing file: /Users/mkokkines/Documents/cause_effect_analysis/pairs/pair0030.txt\n",
      "/n\n"
     ]
    },
    {
     "name": "stdout",
     "output_type": "stream",
     "text": [
      "[1] \"NA\"                   \"6.05683322527988e-05\" \"0.000108303993012351\"\n"
     ]
    }
   ],
   "source": [
    "file_path = \"/Users/mkokkines/Documents/cause_effect_analysis/pairs/pair0030.txt\"\n",
    "data <- process_file(file_path)\n",
    "results_30 = test_pair(data)\n",
    "print(results_30)\n",
    "\n",
    "results[30, 1] = results_30[1]\n",
    "results[30, 2] = as.numeric(results_30[2])\n",
    "results[30, 3] = as.numeric(results_30[3])\n",
    "data_size[30] <- nrow(data)\n",
    "\n",
    "forward_models[[30]] <- glm(V2 ~ V1, data = data)\n",
    "backward_models[[30]] <- glm(V1 ~ V2, data = data)"
   ]
  },
  {
   "cell_type": "markdown",
   "metadata": {},
   "source": [
    "##### Pair 31"
   ]
  },
  {
   "cell_type": "code",
   "execution_count": 617,
   "metadata": {},
   "outputs": [
    {
     "name": "stderr",
     "output_type": "stream",
     "text": [
      "Start testing file: /Users/mkokkines/Documents/cause_effect_analysis/pairs/pair0031.txt\n",
      "/n\n"
     ]
    },
    {
     "name": "stdout",
     "output_type": "stream",
     "text": [
      "[1] \"X\"                    \"0.00291886545286479\"  \"4.12098144032337e-08\"\n"
     ]
    }
   ],
   "source": [
    "file_path = \"/Users/mkokkines/Documents/cause_effect_analysis/pairs/pair0031.txt\"\n",
    "data <- process_file(file_path)\n",
    "results_31 = test_pair(data)\n",
    "print(results_31)\n",
    "\n",
    "results[31, 1] = results_31[1]\n",
    "results[31, 2] = as.numeric(results_31[2])\n",
    "results[31, 3] = as.numeric(results_31[3])\n",
    "data_size[31] <- nrow(data)\n",
    "\n",
    "forward_models[[31]] <- glm(V2 ~ V1, data = data)\n",
    "backward_models[[31]] <- glm(V1 ~ V2, data = data)"
   ]
  },
  {
   "cell_type": "markdown",
   "metadata": {},
   "source": [
    "##### Pair 32"
   ]
  },
  {
   "cell_type": "code",
   "execution_count": 618,
   "metadata": {},
   "outputs": [
    {
     "name": "stderr",
     "output_type": "stream",
     "text": [
      "Start testing file: /Users/mkokkines/Documents/cause_effect_analysis/pairs/pair0032.txt\n",
      "/n\n"
     ]
    },
    {
     "name": "stdout",
     "output_type": "stream",
     "text": [
      "[1] \"X\"                    \"5.02498317976354e-75\" \"1.212167876745e-182\" \n"
     ]
    }
   ],
   "source": [
    "file_path = \"/Users/mkokkines/Documents/cause_effect_analysis/pairs/pair0032.txt\"\n",
    "data <- process_file(file_path)\n",
    "results_32 = test_pair(data)\n",
    "print(results_32)\n",
    "\n",
    "results[32, 1] = results_32[1]\n",
    "results[32, 2] = as.numeric(results_32[2])\n",
    "results[32, 3] = as.numeric(results_32[3])\n",
    "data_size[32] <- nrow(data)\n",
    "\n",
    "forward_models[[32]] <- glm(V2 ~ V1, data = data)\n",
    "backward_models[[32]] <- glm(V1 ~ V2, data = data)"
   ]
  },
  {
   "cell_type": "markdown",
   "metadata": {},
   "source": [
    "##### Pair 33"
   ]
  },
  {
   "cell_type": "code",
   "execution_count": 619,
   "metadata": {},
   "outputs": [
    {
     "name": "stderr",
     "output_type": "stream",
     "text": [
      "Start testing file: /Users/mkokkines/Documents/cause_effect_analysis/pairs/pair0033.txt\n",
      "/n\n"
     ]
    },
    {
     "name": "stdout",
     "output_type": "stream",
     "text": [
      "[1] \"X\"                    \"0.598686933110165\"    \"1.45935412409211e-07\"\n"
     ]
    }
   ],
   "source": [
    "file_path = \"/Users/mkokkines/Documents/cause_effect_analysis/pairs/pair0033.txt\"\n",
    "data <- process_file(file_path)\n",
    "results_33 = test_pair(data)\n",
    "print(results_33)\n",
    "\n",
    "results[33, 1] = results_33[1]\n",
    "results[33, 2] = as.numeric(results_33[2])\n",
    "results[33, 3] = as.numeric(results_33[3])\n",
    "data_size[33] <- nrow(data)\n",
    "\n",
    "forward_models[[33]] <- glm(V2 ~ V1, data = data)\n",
    "backward_models[[33]] <- glm(V1 ~ V2, data = data)"
   ]
  },
  {
   "cell_type": "markdown",
   "metadata": {},
   "source": [
    "##### Pair 34"
   ]
  },
  {
   "cell_type": "code",
   "execution_count": 620,
   "metadata": {},
   "outputs": [
    {
     "name": "stderr",
     "output_type": "stream",
     "text": [
      "Start testing file: /Users/mkokkines/Documents/cause_effect_analysis/pairs/pair0034.txt\n",
      "/n\n"
     ]
    },
    {
     "name": "stdout",
     "output_type": "stream",
     "text": [
      "[1] \"NA\"                 \"0.027788353539999\"  \"0.0110526998878855\"\n"
     ]
    }
   ],
   "source": [
    "file_path = \"/Users/mkokkines/Documents/cause_effect_analysis/pairs/pair0034.txt\"\n",
    "data <- process_file(file_path)\n",
    "results_34 = test_pair(data)\n",
    "print(results_34)\n",
    "\n",
    "results[34, 1] = results_34[1]\n",
    "results[34, 2] = as.numeric(results_34[2])\n",
    "results[34, 3] = as.numeric(results_34[3])\n",
    "data_size[34] <- nrow(data)\n",
    "\n",
    "forward_models[[34]] <- glm(V2 ~ V1, data = data)\n",
    "backward_models[[34]] <- glm(V1 ~ V2, data = data)"
   ]
  },
  {
   "cell_type": "markdown",
   "metadata": {},
   "source": [
    "##### Pair 35"
   ]
  },
  {
   "cell_type": "code",
   "execution_count": 621,
   "metadata": {},
   "outputs": [
    {
     "name": "stderr",
     "output_type": "stream",
     "text": [
      "Start testing file: /Users/mkokkines/Documents/cause_effect_analysis/pairs/pair0035.txt\n",
      "/n\n"
     ]
    },
    {
     "name": "stdout",
     "output_type": "stream",
     "text": [
      "[1] \"Y\"                    \"1.20535554983618e-13\" \"0.00119921112646913\" \n"
     ]
    }
   ],
   "source": [
    "file_path = \"/Users/mkokkines/Documents/cause_effect_analysis/pairs/pair0035.txt\"\n",
    "data <- process_file(file_path)\n",
    "results_35 = test_pair(data)\n",
    "print(results_35)\n",
    "\n",
    "results[35, 1] = results_35[1]\n",
    "results[35, 2] = as.numeric(results_35[2])\n",
    "results[35, 3] = as.numeric(results_35[3])\n",
    "data_size[35] <- nrow(data)\n",
    "\n",
    "forward_models[[35]] <- glm(V2 ~ V1, data = data)\n",
    "backward_models[[35]] <- glm(V1 ~ V2, data = data)"
   ]
  },
  {
   "cell_type": "markdown",
   "metadata": {},
   "source": [
    "##### Pair 36"
   ]
  },
  {
   "cell_type": "code",
   "execution_count": 622,
   "metadata": {},
   "outputs": [
    {
     "name": "stderr",
     "output_type": "stream",
     "text": [
      "Start testing file: /Users/mkokkines/Documents/cause_effect_analysis/pairs/pair0036.txt\n",
      "/n\n"
     ]
    },
    {
     "name": "stdout",
     "output_type": "stream",
     "text": [
      "[1] \"Y\"                    \"1.52778891369515e-05\" \"0.000495492798224535\"\n"
     ]
    }
   ],
   "source": [
    "file_path = \"/Users/mkokkines/Documents/cause_effect_analysis/pairs/pair0036.txt\"\n",
    "data <- process_file(file_path)\n",
    "results_36 = test_pair(data)\n",
    "print(results_36)\n",
    "\n",
    "results[36, 1] = results_36[1]\n",
    "results[36, 2] = as.numeric(results_36[2])\n",
    "results[36, 3] = as.numeric(results_36[3])\n",
    "data_size[36] <- nrow(data)\n",
    "\n",
    "forward_models[[36]] <- glm(V2 ~ V1, data = data)\n",
    "backward_models[[36]] <- glm(V1 ~ V2, data = data)"
   ]
  },
  {
   "cell_type": "markdown",
   "metadata": {},
   "source": [
    "##### Pair 37"
   ]
  },
  {
   "cell_type": "code",
   "execution_count": 623,
   "metadata": {},
   "outputs": [
    {
     "name": "stderr",
     "output_type": "stream",
     "text": [
      "Start testing file: /Users/mkokkines/Documents/cause_effect_analysis/pairs/pair0037.txt\n",
      "/n\n"
     ]
    },
    {
     "name": "stdout",
     "output_type": "stream",
     "text": [
      "[1] \"Y\"                    \"5.90867269009495e-27\" \"5.77115909036308e-05\"\n"
     ]
    }
   ],
   "source": [
    "file_path = \"/Users/mkokkines/Documents/cause_effect_analysis/pairs/pair0037.txt\"\n",
    "data <- process_file(file_path)\n",
    "results_37 = test_pair(data)\n",
    "print(results_37)\n",
    "\n",
    "results[37, 1] = results_37[1]\n",
    "results[37, 2] = as.numeric(results_37[2])\n",
    "results[37, 3] = as.numeric(results_37[3])\n",
    "data_size[37] <- nrow(data)\n",
    "\n",
    "forward_models[[37]] <- glm(V2 ~ V1, data = data)\n",
    "backward_models[[37]] <- glm(V1 ~ V2, data = data)"
   ]
  },
  {
   "cell_type": "markdown",
   "metadata": {},
   "source": [
    "##### Pair 38"
   ]
  },
  {
   "cell_type": "code",
   "execution_count": 624,
   "metadata": {},
   "outputs": [
    {
     "name": "stderr",
     "output_type": "stream",
     "text": [
      "Start testing file: /Users/mkokkines/Documents/cause_effect_analysis/pairs/pair0038.txt\n",
      "/n\n"
     ]
    },
    {
     "name": "stdout",
     "output_type": "stream",
     "text": [
      "[1] \"NA\"                   \"8.47697955798957e-08\" \"1.81217091840299e-07\"\n"
     ]
    }
   ],
   "source": [
    "file_path = \"/Users/mkokkines/Documents/cause_effect_analysis/pairs/pair0038.txt\"\n",
    "data <- process_file(file_path)\n",
    "results_38 = test_pair(data)\n",
    "print(results_38)\n",
    "\n",
    "results[38, 1] = results_38[1]\n",
    "results[38, 2] = as.numeric(results_38[2])\n",
    "results[38, 3] = as.numeric(results_38[3])\n",
    "data_size[38] <- nrow(data)\n",
    "\n",
    "forward_models[[38]] <- glm(V2 ~ V1, data = data)\n",
    "backward_models[[38]] <- glm(V1 ~ V2, data = data)"
   ]
  },
  {
   "cell_type": "markdown",
   "metadata": {},
   "source": [
    "##### Pair 39"
   ]
  },
  {
   "cell_type": "code",
   "execution_count": 625,
   "metadata": {},
   "outputs": [
    {
     "name": "stderr",
     "output_type": "stream",
     "text": [
      "Start testing file: /Users/mkokkines/Documents/cause_effect_analysis/pairs/pair0039.txt\n",
      "/n\n"
     ]
    },
    {
     "name": "stdout",
     "output_type": "stream",
     "text": [
      "[1] \"X\"                    \"0.295730701377701\"    \"9.23602354210878e-10\"\n"
     ]
    }
   ],
   "source": [
    "file_path = \"/Users/mkokkines/Documents/cause_effect_analysis/pairs/pair0039.txt\"\n",
    "data <- process_file(file_path)\n",
    "results_39 = test_pair(data)\n",
    "print(results_39)\n",
    "\n",
    "results[39, 1] = results_39[1]\n",
    "results[39, 2] = as.numeric(results_39[2])\n",
    "results[39, 3] = as.numeric(results_39[3])\n",
    "data_size[39] <- nrow(data)\n",
    "\n",
    "forward_models[[39]] <- glm(V2 ~ V1, data = data)\n",
    "backward_models[[39]] <- glm(V1 ~ V2, data = data)"
   ]
  },
  {
   "cell_type": "markdown",
   "metadata": {},
   "source": [
    "##### Pair 40"
   ]
  },
  {
   "cell_type": "code",
   "execution_count": 626,
   "metadata": {},
   "outputs": [
    {
     "name": "stderr",
     "output_type": "stream",
     "text": [
      "Start testing file: /Users/mkokkines/Documents/cause_effect_analysis/pairs/pair0040.txt\n",
      "/n\n"
     ]
    },
    {
     "name": "stdout",
     "output_type": "stream",
     "text": [
      "[1] \"X\"                    \"0.00920820539421438\"  \"3.58645381465542e-26\"\n"
     ]
    }
   ],
   "source": [
    "file_path = \"/Users/mkokkines/Documents/cause_effect_analysis/pairs/pair0040.txt\"\n",
    "data <- process_file(file_path)\n",
    "results_40 = test_pair(data)\n",
    "print(results_40)\n",
    "\n",
    "results[40, 1] = results_40[1]\n",
    "results[40, 2] = as.numeric(results_40[2])\n",
    "results[40, 3] = as.numeric(results_40[3])\n",
    "data_size[40] <- nrow(data)\n",
    "\n",
    "forward_models[[40]] <- glm(V2 ~ V1, data = data)\n",
    "backward_models[[40]] <- glm(V1 ~ V2, data = data)"
   ]
  },
  {
   "cell_type": "markdown",
   "metadata": {},
   "source": [
    "##### Pair 41"
   ]
  },
  {
   "cell_type": "code",
   "execution_count": 627,
   "metadata": {},
   "outputs": [
    {
     "name": "stderr",
     "output_type": "stream",
     "text": [
      "Start testing file: /Users/mkokkines/Documents/cause_effect_analysis/pairs/pair0041.txt\n",
      "/n\n"
     ]
    },
    {
     "name": "stdout",
     "output_type": "stream",
     "text": [
      "[1] \"X\"                    \"6.43269278606615e-05\" \"3.53094050383435e-15\"\n"
     ]
    }
   ],
   "source": [
    "file_path = \"/Users/mkokkines/Documents/cause_effect_analysis/pairs/pair0041.txt\"\n",
    "data <- process_file(file_path)\n",
    "results_41 = test_pair(data)\n",
    "print(results_41)\n",
    "\n",
    "results[41, 1] = results_41[1]\n",
    "results[41, 2] = as.numeric(results_41[2])\n",
    "results[41, 3] = as.numeric(results_41[3])\n",
    "data_size[41] <- nrow(data)\n",
    "\n",
    "forward_models[[41]] <- glm(V2 ~ V1, data = data)\n",
    "backward_models[[41]] <- glm(V1 ~ V2, data = data)"
   ]
  },
  {
   "cell_type": "markdown",
   "metadata": {},
   "source": [
    "##### Pair 42"
   ]
  },
  {
   "cell_type": "code",
   "execution_count": 628,
   "metadata": {},
   "outputs": [
    {
     "name": "stderr",
     "output_type": "stream",
     "text": [
      "Start testing file: /Users/mkokkines/Documents/cause_effect_analysis/pairs/pair0042.txt\n",
      "/n\n"
     ]
    },
    {
     "name": "stdout",
     "output_type": "stream",
     "text": [
      "[1] \"NA\" \"0\"  \"0\" \n"
     ]
    }
   ],
   "source": [
    "file_path = \"/Users/mkokkines/Documents/cause_effect_analysis/pairs/pair0042.txt\"\n",
    "data <- process_file(file_path)\n",
    "results_42 = test_pair(data)\n",
    "print(results_42)\n",
    "\n",
    "results[42, 1] = results_42[1]\n",
    "results[42, 2] = as.numeric(results_42[2])\n",
    "results[42, 3] = as.numeric(results_42[3])\n",
    "data_size[42] <- nrow(data)\n",
    "\n",
    "forward_models[[42]] <- glm(V2 ~ V1, data = data)\n",
    "backward_models[[42]] <- glm(V1 ~ V2, data = data)"
   ]
  },
  {
   "cell_type": "markdown",
   "metadata": {},
   "source": [
    "##### Pair 43"
   ]
  },
  {
   "cell_type": "code",
   "execution_count": 824,
   "metadata": {},
   "outputs": [
    {
     "name": "stderr",
     "output_type": "stream",
     "text": [
      "Start testing file: /Users/mkokkines/Documents/cause_effect_analysis/pairs/pair0043.txt\n",
      "/n\n"
     ]
    },
    {
     "name": "stdout",
     "output_type": "stream",
     "text": [
      "[1] \"NA\" \"0\"  \"0\" \n"
     ]
    }
   ],
   "source": [
    "file_path = \"/Users/mkokkines/Documents/cause_effect_analysis/pairs/pair0043.txt\"\n",
    "data <- process_file(file_path)\n",
    "results_43 = test_pair(data)\n",
    "print(results_43)\n",
    "\n",
    "results[43, 1] = results_43[1]\n",
    "results[43, 2] = as.numeric(results_43[2])\n",
    "results[43, 3] = as.numeric(results_43[3])\n",
    "data_size[43] <- nrow(data)\n",
    "\n",
    "forward_models[[43]] <- glm(V2 ~ V1, data = data)\n",
    "backward_models[[43]] <- glm(V1 ~ V2, data = data)"
   ]
  },
  {
   "cell_type": "markdown",
   "metadata": {},
   "source": [
    "##### Pair 44"
   ]
  },
  {
   "cell_type": "code",
   "execution_count": 630,
   "metadata": {},
   "outputs": [
    {
     "name": "stderr",
     "output_type": "stream",
     "text": [
      "Start testing file: /Users/mkokkines/Documents/cause_effect_analysis/pairs/pair0044.txt\n",
      "/n\n"
     ]
    },
    {
     "name": "stdout",
     "output_type": "stream",
     "text": [
      "[1] \"Y\"                     \"1.10217646471203e-318\" \"7.67409356693388e-184\"\n"
     ]
    }
   ],
   "source": [
    "file_path = \"/Users/mkokkines/Documents/cause_effect_analysis/pairs/pair0044.txt\"\n",
    "data <- process_file(file_path)\n",
    "results_44 = test_pair(data)\n",
    "print(results_44)\n",
    "\n",
    "results[44, 1] = results_44[1]\n",
    "results[44, 2] = as.numeric(results_44[2])\n",
    "results[44, 3] = as.numeric(results_44[3])\n",
    "data_size[44] <- nrow(data)\n",
    "\n",
    "forward_models[[44]] <- glm(V2 ~ V1, data = data)\n",
    "backward_models[[44]] <- glm(V1 ~ V2, data = data)"
   ]
  },
  {
   "cell_type": "markdown",
   "metadata": {},
   "source": [
    "##### Pair 45"
   ]
  },
  {
   "cell_type": "code",
   "execution_count": 631,
   "metadata": {},
   "outputs": [
    {
     "name": "stderr",
     "output_type": "stream",
     "text": [
      "Start testing file: /Users/mkokkines/Documents/cause_effect_analysis/pairs/pair0045.txt\n",
      "/n\n"
     ]
    },
    {
     "name": "stdout",
     "output_type": "stream",
     "text": [
      "[1] \"X\"                    \"6.7638496884355e-303\" \"0\"                   \n"
     ]
    }
   ],
   "source": [
    "file_path = \"/Users/mkokkines/Documents/cause_effect_analysis/pairs/pair0045.txt\"\n",
    "data <- process_file(file_path)\n",
    "results_45 = test_pair(data)\n",
    "print(results_45)\n",
    "\n",
    "results[45, 1] = results_45[1]\n",
    "results[45, 2] = as.numeric(results_45[2])\n",
    "results[45, 3] = as.numeric(results_45[3])\n",
    "data_size[45] <- nrow(data)\n",
    "\n",
    "forward_models[[45]] <- glm(V2 ~ V1, data = data)\n",
    "backward_models[[45]] <- glm(V1 ~ V2, data = data)"
   ]
  },
  {
   "cell_type": "markdown",
   "metadata": {},
   "source": [
    "##### Pair 46"
   ]
  },
  {
   "cell_type": "code",
   "execution_count": 632,
   "metadata": {},
   "outputs": [
    {
     "name": "stderr",
     "output_type": "stream",
     "text": [
      "Start testing file: /Users/mkokkines/Documents/cause_effect_analysis/pairs/pair0046.txt\n",
      "/n\n"
     ]
    },
    {
     "name": "stdout",
     "output_type": "stream",
     "text": [
      "[1] \"NA\" \"0\"  \"0\" \n"
     ]
    }
   ],
   "source": [
    "file_path = \"/Users/mkokkines/Documents/cause_effect_analysis/pairs/pair0046.txt\"\n",
    "data <- process_file(file_path)\n",
    "results_46 = test_pair(data)\n",
    "print(results_46)\n",
    "\n",
    "results[46, 1] = results_46[1]\n",
    "results[46, 2] = as.numeric(results_46[2])\n",
    "results[46, 3] = as.numeric(results_46[3])\n",
    "data_size[46] <- nrow(data)\n",
    "\n",
    "forward_models[[46]] <- glm(V2 ~ V1, data = data)\n",
    "backward_models[[46]] <- glm(V1 ~ V2, data = data)"
   ]
  },
  {
   "cell_type": "markdown",
   "metadata": {},
   "source": [
    "##### Pair 47"
   ]
  },
  {
   "cell_type": "code",
   "execution_count": 633,
   "metadata": {},
   "outputs": [
    {
     "name": "stderr",
     "output_type": "stream",
     "text": [
      "Start testing file: /Users/mkokkines/Documents/cause_effect_analysis/pairs/pair0047.txt\n",
      "/n\n"
     ]
    },
    {
     "name": "stdout",
     "output_type": "stream",
     "text": [
      "[1] \"Y\"                    \"9.88199047284529e-11\" \"0.0244359434733673\"  \n"
     ]
    }
   ],
   "source": [
    "file_path = \"/Users/mkokkines/Documents/cause_effect_analysis/pairs/pair0047.txt\"\n",
    "data <- process_file(file_path)\n",
    "\n",
    "# Change the data type from int to numeric\n",
    "for (row in 1:nrow(data)) {\n",
    "    data[row, \"V1\"] <- as.numeric(data[row, \"V1\"])\n",
    "    data[row, \"V2\"] <- as.numeric(data[row, \"V2\"])\n",
    "}\n",
    "\n",
    "results_47 = test_pair(data)\n",
    "print(results_47)\n",
    "\n",
    "results[47, 1] = results_47[1]\n",
    "results[47, 2] = as.numeric(results_47[2])\n",
    "results[47, 3] = as.numeric(results_47[3])\n",
    "data_size[47] <- nrow(data)\n",
    "\n",
    "forward_models[[47]] <- glm(V2 ~ V1, data = data)\n",
    "backward_models[[47]] <- glm(V1 ~ V2, data = data)"
   ]
  },
  {
   "cell_type": "markdown",
   "metadata": {},
   "source": [
    "##### Pair 48"
   ]
  },
  {
   "cell_type": "code",
   "execution_count": 634,
   "metadata": {},
   "outputs": [
    {
     "name": "stderr",
     "output_type": "stream",
     "text": [
      "Start testing file: /Users/mkokkines/Documents/cause_effect_analysis/pairs/pair0048.txt\n",
      "/n\n"
     ]
    },
    {
     "name": "stdout",
     "output_type": "stream",
     "text": [
      "[1] \"Y\"                    \"1.15368032837236e-08\" \"1.64634491385982e-05\"\n"
     ]
    }
   ],
   "source": [
    "file_path = \"/Users/mkokkines/Documents/cause_effect_analysis/pairs/pair0048.txt\"\n",
    "data <- process_file(file_path)\n",
    "results_48 = test_pair(data)\n",
    "print(results_48)\n",
    "\n",
    "results[48, 1] = results_48[1]\n",
    "results[48, 2] = as.numeric(results_48[2])\n",
    "results[48, 3] = as.numeric(results_48[3])\n",
    "data_size[48] <- nrow(data)\n",
    "\n",
    "forward_models[[48]] <- glm(V2 ~ V1, data = data)\n",
    "backward_models[[48]] <- glm(V1 ~ V2, data = data)"
   ]
  },
  {
   "cell_type": "markdown",
   "metadata": {},
   "source": [
    "##### Pair 49"
   ]
  },
  {
   "cell_type": "code",
   "execution_count": 635,
   "metadata": {},
   "outputs": [
    {
     "name": "stderr",
     "output_type": "stream",
     "text": [
      "Start testing file: /Users/mkokkines/Documents/cause_effect_analysis/pairs/pair0049.txt\n",
      "/n\n"
     ]
    },
    {
     "name": "stdout",
     "output_type": "stream",
     "text": [
      "[1] \"Y\"                    \"6.20657201512072e-09\" \"0.170880843135398\"   \n"
     ]
    }
   ],
   "source": [
    "file_path = \"/Users/mkokkines/Documents/cause_effect_analysis/pairs/pair0049.txt\"\n",
    "data <- process_file(file_path)\n",
    "results_49 = test_pair(data)\n",
    "print(results_49)\n",
    "\n",
    "results[49, 1] = results_49[1]\n",
    "results[49, 2] = as.numeric(results_49[2])\n",
    "results[49, 3] = as.numeric(results_49[3])\n",
    "data_size[49] <- nrow(data)\n",
    "\n",
    "forward_models[[49]] <- glm(V2 ~ V1, data = data)\n",
    "backward_models[[49]] <- glm(V1 ~ V2, data = data)"
   ]
  },
  {
   "cell_type": "markdown",
   "metadata": {},
   "source": [
    "##### Pair 50"
   ]
  },
  {
   "cell_type": "code",
   "execution_count": 636,
   "metadata": {},
   "outputs": [
    {
     "name": "stderr",
     "output_type": "stream",
     "text": [
      "Start testing file: /Users/mkokkines/Documents/cause_effect_analysis/pairs/pair0050.txt\n",
      "/n\n"
     ]
    },
    {
     "name": "stdout",
     "output_type": "stream",
     "text": [
      "[1] \"Y\"                    \"4.99978324515714e-08\" \"1.30758361546001e-06\"\n"
     ]
    }
   ],
   "source": [
    "file_path = \"/Users/mkokkines/Documents/cause_effect_analysis/pairs/pair0050.txt\"\n",
    "data <- process_file(file_path)\n",
    "results_50 = test_pair(data)\n",
    "print(results_50)\n",
    "\n",
    "results[50, 1] = results_50[1]\n",
    "results[50, 2] = as.numeric(results_50[2])\n",
    "results[50, 3] = as.numeric(results_50[3])\n",
    "data_size[50] <- nrow(data)\n",
    "\n",
    "forward_models[[50]] <- glm(V2 ~ V1, data = data)\n",
    "backward_models[[50]] <- glm(V1 ~ V2, data = data)"
   ]
  },
  {
   "cell_type": "markdown",
   "metadata": {},
   "source": [
    "##### Pair 51"
   ]
  },
  {
   "cell_type": "code",
   "execution_count": 637,
   "metadata": {},
   "outputs": [
    {
     "name": "stderr",
     "output_type": "stream",
     "text": [
      "Start testing file: /Users/mkokkines/Documents/cause_effect_analysis/pairs/pair0051.txt\n",
      "/n\n"
     ]
    },
    {
     "name": "stdout",
     "output_type": "stream",
     "text": [
      "[1] \"X\"                   \"0.00380143077013332\" \"6.086524459503e-08\" \n"
     ]
    }
   ],
   "source": [
    "file_path = \"/Users/mkokkines/Documents/cause_effect_analysis/pairs/pair0051.txt\"\n",
    "data <- process_file(file_path)\n",
    "results_51 = test_pair(data)\n",
    "print(results_51)\n",
    "\n",
    "results[51, 1] = results_51[1]\n",
    "results[51, 2] = as.numeric(results_51[2])\n",
    "results[51, 3] = as.numeric(results_51[3])\n",
    "data_size[51] <- nrow(data)\n",
    "\n",
    "forward_models[[51]] <- glm(V2 ~ V1, data = data)\n",
    "backward_models[[51]] <- glm(V1 ~ V2, data = data)"
   ]
  },
  {
   "cell_type": "markdown",
   "metadata": {},
   "source": [
    "##### Pair 52"
   ]
  },
  {
   "cell_type": "markdown",
   "metadata": {},
   "source": [
    "Cannot test this particular data set because the data is in vector form"
   ]
  },
  {
   "cell_type": "code",
   "execution_count": 791,
   "metadata": {},
   "outputs": [
    {
     "name": "stdout",
     "output_type": "stream",
     "text": [
      "[1] \"NA\" \"0\"  \"0\" \n"
     ]
    }
   ],
   "source": [
    "results_52 = c(\"NA\", 0, 0)\n",
    "print(results_52)\n",
    "\n",
    "results[52, 1] = results_52[1]\n",
    "results[52, 2] = as.numeric(results_52[2])\n",
    "results[52, 3] = as.numeric(results_52[3])\n",
    "data_size[52] <- nrow(data)"
   ]
  },
  {
   "cell_type": "markdown",
   "metadata": {},
   "source": [
    "##### Pair 53"
   ]
  },
  {
   "cell_type": "markdown",
   "metadata": {},
   "source": [
    "Cannot test this particular data set because the data is in vector form"
   ]
  },
  {
   "cell_type": "code",
   "execution_count": 792,
   "metadata": {},
   "outputs": [
    {
     "name": "stdout",
     "output_type": "stream",
     "text": [
      "[1] \"NA\" \"0\"  \"0\" \n"
     ]
    }
   ],
   "source": [
    "results_53 = c(\"NA\", 0, 0)\n",
    "print(results_53)\n",
    "\n",
    "results[53, 1] = results_53[1]\n",
    "results[53, 2] = as.numeric(results_53[2])\n",
    "results[53, 3] = as.numeric(results_53[3])\n",
    "data_size[53] <- nrow(data)"
   ]
  },
  {
   "cell_type": "markdown",
   "metadata": {},
   "source": [
    "##### Pair 54"
   ]
  },
  {
   "cell_type": "markdown",
   "metadata": {},
   "source": [
    "Cannot test this particular data set because the data is in vector form"
   ]
  },
  {
   "cell_type": "code",
   "execution_count": 793,
   "metadata": {},
   "outputs": [
    {
     "name": "stdout",
     "output_type": "stream",
     "text": [
      "[1] \"NA\" \"0\"  \"0\" \n"
     ]
    }
   ],
   "source": [
    "results_54 = c(\"NA\", 0, 0)\n",
    "print(results_54)\n",
    "\n",
    "results[54, 1] = results_54[1]\n",
    "results[54, 2] = as.numeric(results_54[2])\n",
    "results[54, 3] = as.numeric(results_54[3])\n",
    "data_size[54] <- nrow(data)"
   ]
  },
  {
   "cell_type": "markdown",
   "metadata": {},
   "source": [
    "##### Pair 55"
   ]
  },
  {
   "cell_type": "markdown",
   "metadata": {},
   "source": [
    "Cannot test this particular data set because the data is in vector form"
   ]
  },
  {
   "cell_type": "code",
   "execution_count": 794,
   "metadata": {},
   "outputs": [
    {
     "name": "stdout",
     "output_type": "stream",
     "text": [
      "[1] \"NA\" \"0\"  \"0\" \n"
     ]
    }
   ],
   "source": [
    "results_55 = c(\"NA\", 0, 0)\n",
    "print(results_55)\n",
    "\n",
    "results[55, 1] = results_55[1]\n",
    "results[55, 2] = as.numeric(results_55[2])\n",
    "results[55, 3] = as.numeric(results_55[3])\n",
    "data_size[55] <- nrow(data)"
   ]
  },
  {
   "cell_type": "markdown",
   "metadata": {},
   "source": [
    "##### Pair 56"
   ]
  },
  {
   "cell_type": "code",
   "execution_count": 795,
   "metadata": {},
   "outputs": [
    {
     "name": "stderr",
     "output_type": "stream",
     "text": [
      "Start testing file: /Users/mkokkines/Documents/cause_effect_analysis/pairs/pair0056.txt\n",
      "/n\n"
     ]
    },
    {
     "name": "stdout",
     "output_type": "stream",
     "text": [
      "[1] \"X\"                    \"0.000530946836772599\" \"2.69268547725839e-18\"\n"
     ]
    }
   ],
   "source": [
    "file_path = \"/Users/mkokkines/Documents/cause_effect_analysis/pairs/pair0056.txt\"\n",
    "data <- process_file(file_path)\n",
    "results_56 = test_pair(data)\n",
    "print(results_56)\n",
    "\n",
    "results[56, 1] = results_56[1]\n",
    "results[56, 2] = as.numeric(results_56[2])\n",
    "results[56, 3] = as.numeric(results_56[3])\n",
    "data_size[56] <- nrow(data)\n",
    "\n",
    "forward_models[[56]] <- glm(V2 ~ V1, data = data)\n",
    "backward_models[[56]] <- glm(V1 ~ V2, data = data)"
   ]
  },
  {
   "cell_type": "markdown",
   "metadata": {},
   "source": [
    "##### Pair 57"
   ]
  },
  {
   "cell_type": "code",
   "execution_count": 639,
   "metadata": {},
   "outputs": [
    {
     "name": "stderr",
     "output_type": "stream",
     "text": [
      "Start testing file: /Users/mkokkines/Documents/cause_effect_analysis/pairs/pair0057.txt\n",
      "/n\n"
     ]
    },
    {
     "name": "stdout",
     "output_type": "stream",
     "text": [
      "[1] \"X\"                    \"0.00018789107908981\"  \"2.79805343519745e-14\"\n"
     ]
    }
   ],
   "source": [
    "file_path = \"/Users/mkokkines/Documents/cause_effect_analysis/pairs/pair0057.txt\"\n",
    "data <- process_file(file_path)\n",
    "results_57 = test_pair(data)\n",
    "print(results_57)\n",
    "\n",
    "results[57, 1] = results_57[1]\n",
    "results[57, 2] = as.numeric(results_57[2])\n",
    "results[57, 3] = as.numeric(results_57[3])\n",
    "data_size[57] <- nrow(data)\n",
    "\n",
    "forward_models[[57]] <- glm(V2 ~ V1, data = data)\n",
    "backward_models[[57]] <- glm(V1 ~ V2, data = data)"
   ]
  },
  {
   "cell_type": "markdown",
   "metadata": {},
   "source": [
    "##### Pair 58"
   ]
  },
  {
   "cell_type": "code",
   "execution_count": 640,
   "metadata": {},
   "outputs": [
    {
     "name": "stderr",
     "output_type": "stream",
     "text": [
      "Start testing file: /Users/mkokkines/Documents/cause_effect_analysis/pairs/pair0058.txt\n",
      "/n\n"
     ]
    },
    {
     "name": "stdout",
     "output_type": "stream",
     "text": [
      "[1] \"X\"                    \"9.95776287047247e-06\" \"1.91890704120397e-12\"\n"
     ]
    }
   ],
   "source": [
    "file_path = \"/Users/mkokkines/Documents/cause_effect_analysis/pairs/pair0058.txt\"\n",
    "data <- process_file(file_path)\n",
    "results_58 = test_pair(data)\n",
    "print(results_58)\n",
    "\n",
    "results[58, 1] = results_58[1]\n",
    "results[58, 2] = as.numeric(results_58[2])\n",
    "results[58, 3] = as.numeric(results_58[3])\n",
    "data_size[58] <- nrow(data)\n",
    "\n",
    "forward_models[[58]] <- glm(V2 ~ V1, data = data)\n",
    "backward_models[[58]] <- glm(V1 ~ V2, data = data)"
   ]
  },
  {
   "cell_type": "markdown",
   "metadata": {},
   "source": [
    "##### Pair 59"
   ]
  },
  {
   "cell_type": "code",
   "execution_count": 641,
   "metadata": {},
   "outputs": [
    {
     "name": "stderr",
     "output_type": "stream",
     "text": [
      "Start testing file: /Users/mkokkines/Documents/cause_effect_analysis/pairs/pair0059.txt\n",
      "/n\n"
     ]
    },
    {
     "name": "stdout",
     "output_type": "stream",
     "text": [
      "[1] \"X\"                    \"0.000167992014150926\" \"4.8832115847768e-13\" \n"
     ]
    }
   ],
   "source": [
    "file_path = \"/Users/mkokkines/Documents/cause_effect_analysis/pairs/pair0059.txt\"\n",
    "data <- process_file(file_path)\n",
    "results_59 = test_pair(data)\n",
    "print(results_59)\n",
    "\n",
    "results[59, 1] = results_59[1]\n",
    "results[59, 2] = as.numeric(results_59[2])\n",
    "results[59, 3] = as.numeric(results_59[3])\n",
    "data_size[59] <- nrow(data)\n",
    "\n",
    "forward_models[[59]] <- glm(V2 ~ V1, data = data)\n",
    "backward_models[[59]] <- glm(V1 ~ V2, data = data)"
   ]
  },
  {
   "cell_type": "markdown",
   "metadata": {},
   "source": [
    "##### Pair 60"
   ]
  },
  {
   "cell_type": "code",
   "execution_count": 642,
   "metadata": {},
   "outputs": [
    {
     "name": "stderr",
     "output_type": "stream",
     "text": [
      "Start testing file: /Users/mkokkines/Documents/cause_effect_analysis/pairs/pair0060.txt\n",
      "/n\n"
     ]
    },
    {
     "name": "stdout",
     "output_type": "stream",
     "text": [
      "[1] \"X\"                    \"0.00240793303306051\"  \"5.47248606410892e-10\"\n"
     ]
    }
   ],
   "source": [
    "file_path = \"/Users/mkokkines/Documents/cause_effect_analysis/pairs/pair0060.txt\"\n",
    "data <- process_file(file_path)\n",
    "results_60 = test_pair(data)\n",
    "print(results_60)\n",
    "\n",
    "results[60, 1] = results_60[1]\n",
    "results[60, 2] = as.numeric(results_60[2])\n",
    "results[60, 3] = as.numeric(results_60[3])\n",
    "data_size[60] <- nrow(data)\n",
    "\n",
    "forward_models[[60]] <- glm(V2 ~ V1, data = data)\n",
    "backward_models[[60]] <- glm(V1 ~ V2, data = data)"
   ]
  },
  {
   "cell_type": "markdown",
   "metadata": {},
   "source": [
    "##### Pair 61"
   ]
  },
  {
   "cell_type": "code",
   "execution_count": 643,
   "metadata": {},
   "outputs": [
    {
     "name": "stderr",
     "output_type": "stream",
     "text": [
      "Start testing file: /Users/mkokkines/Documents/cause_effect_analysis/pairs/pair0061.txt\n",
      "/n\n"
     ]
    },
    {
     "name": "stdout",
     "output_type": "stream",
     "text": [
      "[1] \"X\"                    \"0.00137589906630702\"  \"2.83881758351336e-08\"\n"
     ]
    }
   ],
   "source": [
    "file_path = \"/Users/mkokkines/Documents/cause_effect_analysis/pairs/pair0061.txt\"\n",
    "data <- process_file(file_path)\n",
    "results_61 = test_pair(data)\n",
    "print(results_61)\n",
    "\n",
    "results[61, 1] = results_61[1]\n",
    "results[61, 2] = as.numeric(results_61[2])\n",
    "results[61, 3] = as.numeric(results_61[3])\n",
    "data_size[61] <- nrow(data)\n",
    "\n",
    "forward_models[[61]] <- glm(V2 ~ V1, data = data)\n",
    "backward_models[[61]] <- glm(V1 ~ V2, data = data)"
   ]
  },
  {
   "cell_type": "markdown",
   "metadata": {},
   "source": [
    "##### Pair 62"
   ]
  },
  {
   "cell_type": "code",
   "execution_count": 644,
   "metadata": {},
   "outputs": [
    {
     "name": "stderr",
     "output_type": "stream",
     "text": [
      "Start testing file: /Users/mkokkines/Documents/cause_effect_analysis/pairs/pair0062.txt\n",
      "/n\n"
     ]
    },
    {
     "name": "stdout",
     "output_type": "stream",
     "text": [
      "[1] \"X\"                    \"5.9425463595284e-05\"  \"5.45766740634594e-08\"\n"
     ]
    }
   ],
   "source": [
    "file_path = \"/Users/mkokkines/Documents/cause_effect_analysis/pairs/pair0062.txt\"\n",
    "data <- process_file(file_path)\n",
    "results_62 = test_pair(data)\n",
    "print(results_62)\n",
    "\n",
    "results[62, 1] = results_62[1]\n",
    "results[62, 2] = as.numeric(results_62[2])\n",
    "results[62, 3] = as.numeric(results_62[3])\n",
    "data_size[62] <- nrow(data)\n",
    "\n",
    "forward_models[[62]] <- glm(V2 ~ V1, data = data)\n",
    "backward_models[[62]] <- glm(V1 ~ V2, data = data)"
   ]
  },
  {
   "cell_type": "markdown",
   "metadata": {},
   "source": [
    "##### Pair 63"
   ]
  },
  {
   "cell_type": "code",
   "execution_count": 645,
   "metadata": {},
   "outputs": [
    {
     "name": "stderr",
     "output_type": "stream",
     "text": [
      "Start testing file: /Users/mkokkines/Documents/cause_effect_analysis/pairs/pair0063.txt\n",
      "/n\n"
     ]
    },
    {
     "name": "stdout",
     "output_type": "stream",
     "text": [
      "[1] \"X\"                    \"0.000195789728164852\" \"1.4683619615266e-10\" \n"
     ]
    }
   ],
   "source": [
    "file_path = \"/Users/mkokkines/Documents/cause_effect_analysis/pairs/pair0063.txt\"\n",
    "data <- process_file(file_path)\n",
    "results_63 = test_pair(data)\n",
    "print(results_63)\n",
    "\n",
    "results[63, 1] = results_63[1]\n",
    "results[63, 2] = as.numeric(results_63[2])\n",
    "results[63, 3] = as.numeric(results_63[3])\n",
    "data_size[63] <- nrow(data)\n",
    "\n",
    "forward_models[[63]] <- glm(V2 ~ V1, data = data)\n",
    "backward_models[[63]] <- glm(V1 ~ V2, data = data)"
   ]
  },
  {
   "cell_type": "markdown",
   "metadata": {},
   "source": [
    "##### Pair 64"
   ]
  },
  {
   "cell_type": "code",
   "execution_count": 646,
   "metadata": {},
   "outputs": [
    {
     "name": "stderr",
     "output_type": "stream",
     "text": [
      "Start testing file: /Users/mkokkines/Documents/cause_effect_analysis/pairs/pair0064.txt\n",
      "/n\n"
     ]
    },
    {
     "name": "stdout",
     "output_type": "stream",
     "text": [
      "[1] \"X\"                    \"3.04451453153099e-18\" \"8.19765461960782e-20\"\n"
     ]
    }
   ],
   "source": [
    "file_path = \"/Users/mkokkines/Documents/cause_effect_analysis/pairs/pair0064.txt\"\n",
    "data <- process_file(file_path)\n",
    "results_64 = test_pair(data)\n",
    "print(results_64)\n",
    "\n",
    "results[64, 1] = results_64[1]\n",
    "results[64, 2] = as.numeric(results_64[2])\n",
    "results[64, 3] = as.numeric(results_64[3])\n",
    "data_size[64] <- nrow(data)\n",
    "\n",
    "forward_models[[64]] <- glm(V2 ~ V1, data = data)\n",
    "backward_models[[64]] <- glm(V1 ~ V2, data = data)"
   ]
  },
  {
   "cell_type": "markdown",
   "metadata": {},
   "source": [
    "##### Pair 65"
   ]
  },
  {
   "cell_type": "code",
   "execution_count": 647,
   "metadata": {},
   "outputs": [
    {
     "name": "stderr",
     "output_type": "stream",
     "text": [
      "Start testing file: /Users/mkokkines/Documents/cause_effect_analysis/pairs/pair0065.txt\n",
      "/n\n"
     ]
    },
    {
     "name": "stdout",
     "output_type": "stream",
     "text": [
      "[1] \"X\"                    \"1.13094093121251e-07\" \"6.39478721944994e-11\"\n"
     ]
    }
   ],
   "source": [
    "file_path = \"/Users/mkokkines/Documents/cause_effect_analysis/pairs/pair0065.txt\"\n",
    "data <- process_file(file_path)\n",
    "results_65 = test_pair(data)\n",
    "print(results_65)\n",
    "\n",
    "results[65, 1] = results_65[1]\n",
    "results[65, 2] = as.numeric(results_65[2])\n",
    "results[65, 3] = as.numeric(results_65[3])\n",
    "data_size[65] <- nrow(data)\n",
    "\n",
    "forward_models[[65]] <- glm(V2 ~ V1, data = data)\n",
    "backward_models[[65]] <- glm(V1 ~ V2, data = data)"
   ]
  },
  {
   "cell_type": "markdown",
   "metadata": {},
   "source": [
    "##### Pair 66"
   ]
  },
  {
   "cell_type": "code",
   "execution_count": 648,
   "metadata": {},
   "outputs": [
    {
     "name": "stderr",
     "output_type": "stream",
     "text": [
      "Start testing file: /Users/mkokkines/Documents/cause_effect_analysis/pairs/pair0066.txt\n",
      "/n\n"
     ]
    },
    {
     "name": "stdout",
     "output_type": "stream",
     "text": [
      "[1] \"NA\"                   \"4.70156842503957e-07\" \"3.71453206564583e-06\"\n"
     ]
    }
   ],
   "source": [
    "file_path = \"/Users/mkokkines/Documents/cause_effect_analysis/pairs/pair0066.txt\"\n",
    "data <- process_file(file_path)\n",
    "results_66 = test_pair(data)\n",
    "print(results_66)\n",
    "\n",
    "results[66, 1] = results_66[1]\n",
    "results[66, 2] = as.numeric(results_66[2])\n",
    "results[66, 3] = as.numeric(results_66[3])\n",
    "data_size[66] <- nrow(data)\n",
    "\n",
    "forward_models[[66]] <- glm(V2 ~ V1, data = data)\n",
    "backward_models[[66]] <- glm(V1 ~ V2, data = data)"
   ]
  },
  {
   "cell_type": "markdown",
   "metadata": {},
   "source": [
    "##### Pair 67"
   ]
  },
  {
   "cell_type": "code",
   "execution_count": 649,
   "metadata": {},
   "outputs": [
    {
     "name": "stderr",
     "output_type": "stream",
     "text": [
      "Start testing file: /Users/mkokkines/Documents/cause_effect_analysis/pairs/pair0067.txt\n",
      "/n\n"
     ]
    },
    {
     "name": "stdout",
     "output_type": "stream",
     "text": [
      "[1] \"X\"                    \"4.62797128899988e-12\" \"4.69201527421303e-18\"\n"
     ]
    }
   ],
   "source": [
    "file_path = \"/Users/mkokkines/Documents/cause_effect_analysis/pairs/pair0067.txt\"\n",
    "data <- process_file(file_path)\n",
    "results_67 = test_pair(data)\n",
    "print(results_67)\n",
    "\n",
    "results[67, 1] = results_67[1]\n",
    "results[67, 2] = as.numeric(results_67[2])\n",
    "results[67, 3] = as.numeric(results_67[3])\n",
    "data_size[67] <- nrow(data)\n",
    "\n",
    "forward_models[[67]] <- glm(V2 ~ V1, data = data)\n",
    "backward_models[[67]] <- glm(V1 ~ V2, data = data)"
   ]
  },
  {
   "cell_type": "markdown",
   "metadata": {},
   "source": [
    "##### Pair 68"
   ]
  },
  {
   "cell_type": "code",
   "execution_count": 650,
   "metadata": {},
   "outputs": [
    {
     "name": "stderr",
     "output_type": "stream",
     "text": [
      "Start testing file: /Users/mkokkines/Documents/cause_effect_analysis/pairs/pair0068.txt\n",
      "/n\n"
     ]
    },
    {
     "name": "stdout",
     "output_type": "stream",
     "text": [
      "[1] \"X\"                     \"4.15066824304693e-169\" \"0\"                    \n"
     ]
    }
   ],
   "source": [
    "file_path = \"/Users/mkokkines/Documents/cause_effect_analysis/pairs/pair0068.txt\"\n",
    "data <- process_file(file_path)\n",
    "\n",
    "# Change the data type from int to numeric\n",
    "for (row in 1:nrow(data)) {\n",
    "    data[row, \"V1\"] <- as.numeric(data[row, \"V1\"])\n",
    "    data[row, \"V2\"] <- as.numeric(data[row, \"V2\"])\n",
    "}\n",
    "\n",
    "results_68 = test_pair(data)\n",
    "print(results_68)\n",
    "\n",
    "results[68, 1] = results_68[1]\n",
    "results[68, 2] = as.numeric(results_68[2])\n",
    "results[68, 3] = as.numeric(results_68[3])\n",
    "data_size[68] <- nrow(data)\n",
    "\n",
    "forward_models[[68]] <- glm(V2 ~ V1, data = data)\n",
    "backward_models[[68]] <- glm(V1 ~ V2, data = data)"
   ]
  },
  {
   "cell_type": "markdown",
   "metadata": {},
   "source": [
    "##### Pair 69"
   ]
  },
  {
   "cell_type": "code",
   "execution_count": 651,
   "metadata": {},
   "outputs": [
    {
     "name": "stderr",
     "output_type": "stream",
     "text": [
      "Start testing file: /Users/mkokkines/Documents/cause_effect_analysis/pairs/pair0069.txt\n",
      "/n\n"
     ]
    },
    {
     "name": "stdout",
     "output_type": "stream",
     "text": [
      "[1] \"X\"                    \"1.45920468317658e-61\" \"0\"                   \n"
     ]
    }
   ],
   "source": [
    "file_path = \"/Users/mkokkines/Documents/cause_effect_analysis/pairs/pair0069.txt\"\n",
    "data <- process_file(file_path)\n",
    "results_69 = test_pair(data)\n",
    "print(results_69)\n",
    "\n",
    "results[69, 1] = results_69[1]\n",
    "results[69, 2] = as.numeric(results_69[2])\n",
    "results[69, 3] = as.numeric(results_69[3])\n",
    "data_size[69] <- nrow(data)\n",
    "\n",
    "forward_models[[69]] <- glm(V2 ~ V1, data = data)\n",
    "backward_models[[69]] <- glm(V1 ~ V2, data = data)"
   ]
  },
  {
   "cell_type": "markdown",
   "metadata": {},
   "source": [
    "##### Pair 70"
   ]
  },
  {
   "cell_type": "markdown",
   "metadata": {},
   "source": [
    "Note: This pair did not succeed. The Forward value got 0 as a correlation, and the backward value could not be computed. I am going to hardcode NA, NA, and 0 as the values."
   ]
  },
  {
   "cell_type": "code",
   "execution_count": 652,
   "metadata": {},
   "outputs": [
    {
     "name": "stdout",
     "output_type": "stream",
     "text": [
      "[1] \"NA\" \"0\"  \"0\" \n"
     ]
    }
   ],
   "source": [
    "file_path = \"/Users/mkokkines/Documents/cause_effect_analysis/pairs/pair0070.txt\"\n",
    "data <- process_file(file_path)\n",
    "# results_70 = test_pair(data)\n",
    "results_70 = c(\"NA\", 0, 0)\n",
    "print(results_70)\n",
    "\n",
    "results[70, 1] = results_70[1]\n",
    "results[70, 2] = as.numeric(results_70[2])\n",
    "results[70, 3] = as.numeric(results_70[3])\n",
    "data_size[70] <- nrow(data)\n",
    "\n",
    "forward_models[[70]] <- glm(V2 ~ V1, data = data)\n",
    "backward_models[[70]] <- glm(V1 ~ V2, data = data)"
   ]
  },
  {
   "cell_type": "markdown",
   "metadata": {},
   "source": [
    "##### Pair 71"
   ]
  },
  {
   "cell_type": "markdown",
   "metadata": {},
   "source": [
    "Cannot test this particular data set because the data is in vector form"
   ]
  },
  {
   "cell_type": "code",
   "execution_count": 797,
   "metadata": {},
   "outputs": [
    {
     "name": "stdout",
     "output_type": "stream",
     "text": [
      "[1] \"NA\" \"0\"  \"0\" \n"
     ]
    }
   ],
   "source": [
    "# file_path = \"/Users/mkokkines/Documents/cause_effect_analysis/pairs/pair0071.txt\"\n",
    "# data <- process_file(file_path)\n",
    "\n",
    "# for (row in 1:nrow(data)) {\n",
    "#     data[row, \"V2\"] <- as.numeric(data[row, \"V2\"])\n",
    "#     data[row, \"V3\"] <- as.numeric(data[row, \"V3\"])\n",
    "#     data[row, \"V4\"] <- as.numeric(data[row, \"V4\"])\n",
    "#     data[row, \"V5\"] <- as.numeric(data[row, \"V5\"])\n",
    "#     data[row, \"V6\"] <- as.numeric(data[row, \"V6\"])\n",
    "#     data[row, \"V7\"] <- as.numeric(data[row, \"V7\"])\n",
    "#     data[row, \"V8\"] <- as.numeric(data[row, \"V8\"])\n",
    "\n",
    "# }\n",
    "\n",
    "# data$V1 <- paste(data$V1,data$V2)\n",
    "# data$V2 <- paste(paste(paste(paste(paste(data$V3, data$V4), data$V5), data$V6), data$V7), data$V8)\n",
    "\n",
    "# results_71 = test_pair(data)\n",
    "# print(results_71)\n",
    "\n",
    "results_71 = c(\"NA\", 0, 0)\n",
    "print(results_71)\n",
    "\n",
    "results[71, 1] = results_71[1]\n",
    "results[71, 2] = as.numeric(results_71[2])\n",
    "results[71, 3] = as.numeric(results_71[3])\n",
    "data_size[71] <- nrow(data)"
   ]
  },
  {
   "cell_type": "markdown",
   "metadata": {},
   "source": [
    "##### Pair 72"
   ]
  },
  {
   "cell_type": "code",
   "execution_count": 653,
   "metadata": {},
   "outputs": [
    {
     "name": "stderr",
     "output_type": "stream",
     "text": [
      "Start testing file: /Users/mkokkines/Documents/cause_effect_analysis/pairs/pair0072.txt\n",
      "/n\n"
     ]
    },
    {
     "name": "stdout",
     "output_type": "stream",
     "text": [
      "[1] \"X\"                    \"4.99716497822098e-10\" \"1.66311298739809e-25\"\n"
     ]
    }
   ],
   "source": [
    "file_path = \"/Users/mkokkines/Documents/cause_effect_analysis/pairs/pair0072.txt\"\n",
    "data <- process_file(file_path)\n",
    "results_72 = test_pair(data)\n",
    "print(results_72)\n",
    "\n",
    "results[72, 1] = results_72[1]\n",
    "results[72, 2] = as.numeric(results_72[2])\n",
    "results[72, 3] = as.numeric(results_72[3])\n",
    "data_size[72] <- nrow(data)\n",
    "\n",
    "forward_models[[72]] <- glm(V2 ~ V1, data = data)\n",
    "backward_models[[72]] <- glm(V1 ~ V2, data = data)"
   ]
  },
  {
   "cell_type": "markdown",
   "metadata": {},
   "source": [
    "##### Pair 73"
   ]
  },
  {
   "cell_type": "code",
   "execution_count": 654,
   "metadata": {},
   "outputs": [
    {
     "name": "stderr",
     "output_type": "stream",
     "text": [
      "Start testing file: /Users/mkokkines/Documents/cause_effect_analysis/pairs/pair0073.txt\n",
      "/n\n"
     ]
    },
    {
     "name": "stdout",
     "output_type": "stream",
     "text": [
      "[1] \"NA\" \"0\"  \"0\" \n"
     ]
    }
   ],
   "source": [
    "file_path = \"/Users/mkokkines/Documents/cause_effect_analysis/pairs/pair0073.txt\"\n",
    "data <- process_file(file_path)\n",
    "results_73 = test_pair(data)\n",
    "print(results_73)\n",
    "\n",
    "results[73, 1] = results_73[1]\n",
    "results[73, 2] = as.numeric(results_73[2])\n",
    "results[73, 3] = as.numeric(results_73[3])\n",
    "data_size[73] <- nrow(data)\n",
    "\n",
    "forward_models[[73]] <- glm(V2 ~ V1, data = data)\n",
    "backward_models[[73]] <- glm(V1 ~ V2, data = data)"
   ]
  },
  {
   "cell_type": "markdown",
   "metadata": {},
   "source": [
    "##### Pair 74"
   ]
  },
  {
   "cell_type": "code",
   "execution_count": 655,
   "metadata": {},
   "outputs": [
    {
     "name": "stderr",
     "output_type": "stream",
     "text": [
      "Start testing file: /Users/mkokkines/Documents/cause_effect_analysis/pairs/pair0074.txt\n",
      "/n\n"
     ]
    },
    {
     "name": "stdout",
     "output_type": "stream",
     "text": [
      "[1] \"X\"                    \"4.37805400883167e-22\" \"5.5653906280858e-63\" \n"
     ]
    }
   ],
   "source": [
    "file_path = \"/Users/mkokkines/Documents/cause_effect_analysis/pairs/pair0074.txt\"\n",
    "data <- process_file(file_path)\n",
    "\n",
    "# Change the data type from int to numeric\n",
    "for (row in 1:nrow(data)) {\n",
    "    data[row, \"V1\"] <- as.numeric(data[row, \"V1\"])\n",
    "    data[row, \"V2\"] <- as.numeric(data[row, \"V2\"])\n",
    "}\n",
    "\n",
    "results_74 = test_pair(data)\n",
    "print(results_74)\n",
    "\n",
    "results[74, 1] = results_74[1]\n",
    "results[74, 2] = as.numeric(results_74[2])\n",
    "results[74, 3] = as.numeric(results_74[3])\n",
    "data_size[74] <- nrow(data)\n",
    "\n",
    "forward_models[[74]] <- glm(V2 ~ V1, data = data)\n",
    "backward_models[[74]] <- glm(V1 ~ V2, data = data)"
   ]
  },
  {
   "cell_type": "markdown",
   "metadata": {},
   "source": [
    "##### Pair 75"
   ]
  },
  {
   "cell_type": "code",
   "execution_count": 656,
   "metadata": {},
   "outputs": [
    {
     "name": "stderr",
     "output_type": "stream",
     "text": [
      "Start testing file: /Users/mkokkines/Documents/cause_effect_analysis/pairs/pair0075.txt\n",
      "/n\n"
     ]
    },
    {
     "name": "stdout",
     "output_type": "stream",
     "text": [
      "[1] \"Y\"                    \"5.69056363943865e-49\" \"2.30308227563381e-33\"\n"
     ]
    }
   ],
   "source": [
    "file_path = \"/Users/mkokkines/Documents/cause_effect_analysis/pairs/pair0075.txt\"\n",
    "data <- process_file(file_path)\n",
    "\n",
    "# Change the data type from int to numeric\n",
    "for (row in 1:nrow(data)) {\n",
    "    data[row, \"V1\"] <- as.numeric(data[row, \"V1\"])\n",
    "    data[row, \"V2\"] <- as.numeric(data[row, \"V2\"])\n",
    "}\n",
    "\n",
    "results_75 = test_pair(data)\n",
    "print(results_75)\n",
    "\n",
    "results[75, 1] = results_75[1]\n",
    "results[75, 2] = as.numeric(results_75[2])\n",
    "results[75, 3] = as.numeric(results_75[3])\n",
    "data_size[75] <- nrow(data)\n",
    "\n",
    "forward_models[[75]] <- glm(V2 ~ V1, data = data)\n",
    "backward_models[[75]] <- glm(V1 ~ V2, data = data)"
   ]
  },
  {
   "cell_type": "markdown",
   "metadata": {},
   "source": [
    "##### Pair 76"
   ]
  },
  {
   "cell_type": "code",
   "execution_count": 657,
   "metadata": {},
   "outputs": [
    {
     "name": "stderr",
     "output_type": "stream",
     "text": [
      "Start testing file: /Users/mkokkines/Documents/cause_effect_analysis/pairs/pair0076.txt\n",
      "/n\n"
     ]
    },
    {
     "name": "stdout",
     "output_type": "stream",
     "text": [
      "[1] \"X\"                    \"0.0298405504110186\"   \"7.46248929744089e-14\"\n"
     ]
    }
   ],
   "source": [
    "file_path = \"/Users/mkokkines/Documents/cause_effect_analysis/pairs/pair0076.txt\"\n",
    "data <- process_file(file_path)\n",
    "results_76 = test_pair(data)\n",
    "print(results_76)\n",
    "\n",
    "results[76, 1] = results_76[1]\n",
    "results[76, 2] = as.numeric(results_76[2])\n",
    "results[76, 3] = as.numeric(results_76[3])\n",
    "data_size[76] <- nrow(data)\n",
    "\n",
    "forward_models[[76]] <- glm(V2 ~ V1, data = data)\n",
    "backward_models[[76]] <- glm(V1 ~ V2, data = data)"
   ]
  },
  {
   "cell_type": "markdown",
   "metadata": {},
   "source": [
    "##### Pair 77"
   ]
  },
  {
   "cell_type": "code",
   "execution_count": 658,
   "metadata": {},
   "outputs": [
    {
     "name": "stderr",
     "output_type": "stream",
     "text": [
      "Start testing file: /Users/mkokkines/Documents/cause_effect_analysis/pairs/pair0077.txt\n",
      "/n\n"
     ]
    },
    {
     "name": "stdout",
     "output_type": "stream",
     "text": [
      "[1] \"Y\"                   \"0\"                   \"1.6078715366084e-61\"\n"
     ]
    }
   ],
   "source": [
    "file_path = \"/Users/mkokkines/Documents/cause_effect_analysis/pairs/pair0077.txt\"\n",
    "data <- process_file(file_path)\n",
    "\n",
    "# Change the data type from int to numeric\n",
    "for (row in 1:nrow(data)) {\n",
    "    data[row, \"V2\"] <- as.numeric(data[row, \"V2\"])\n",
    "}\n",
    "\n",
    "results_77 = test_pair(data)\n",
    "print(results_77)\n",
    "\n",
    "results[77, 1] = results_77[1]\n",
    "results[77, 2] = as.numeric(results_77[2])\n",
    "results[77, 3] = as.numeric(results_77[3])\n",
    "data_size[77] <- nrow(data)\n",
    "\n",
    "forward_models[[77]] <- glm(V2 ~ V1, data = data)\n",
    "backward_models[[77]] <- glm(V1 ~ V2, data = data)"
   ]
  },
  {
   "cell_type": "markdown",
   "metadata": {},
   "source": [
    "##### Pair 78"
   ]
  },
  {
   "cell_type": "code",
   "execution_count": 659,
   "metadata": {},
   "outputs": [
    {
     "name": "stderr",
     "output_type": "stream",
     "text": [
      "Start testing file: /Users/mkokkines/Documents/cause_effect_analysis/pairs/pair0078.txt\n",
      "/n\n"
     ]
    },
    {
     "name": "stdout",
     "output_type": "stream",
     "text": [
      "[1] \"X\"                    \"1.5281057221989e-66\"  \"3.41917604725588e-99\"\n"
     ]
    }
   ],
   "source": [
    "file_path = \"/Users/mkokkines/Documents/cause_effect_analysis/pairs/pair0078.txt\"\n",
    "data <- process_file(file_path)\n",
    "results_78 = test_pair(data)\n",
    "print(results_78)\n",
    "\n",
    "results[78, 1] = results_78[1]\n",
    "results[78, 2] = as.numeric(results_78[2])\n",
    "results[78, 3] = as.numeric(results_78[3])\n",
    "data_size[78] <- nrow(data)\n",
    "\n",
    "forward_models[[78]] <- glm(V2 ~ V1, data = data)\n",
    "backward_models[[78]] <- glm(V1 ~ V2, data = data)"
   ]
  },
  {
   "cell_type": "markdown",
   "metadata": {},
   "source": [
    "##### Pair 79"
   ]
  },
  {
   "cell_type": "code",
   "execution_count": 660,
   "metadata": {},
   "outputs": [
    {
     "name": "stderr",
     "output_type": "stream",
     "text": [
      "Start testing file: /Users/mkokkines/Documents/cause_effect_analysis/pairs/pair0079.txt\n",
      "/n\n"
     ]
    },
    {
     "name": "stdout",
     "output_type": "stream",
     "text": [
      "[1] \"Y\"                    \"9.8797189249359e-77\"  \"8.31346036391958e-33\"\n"
     ]
    }
   ],
   "source": [
    "file_path = \"/Users/mkokkines/Documents/cause_effect_analysis/pairs/pair0079.txt\"\n",
    "data <- process_file(file_path)\n",
    "results_79 = test_pair(data)\n",
    "print(results_79)\n",
    "\n",
    "results[79, 1] = results_79[1]\n",
    "results[79, 2] = as.numeric(results_79[2])\n",
    "results[79, 3] = as.numeric(results_79[3])\n",
    "data_size[79] <- nrow(data)\n",
    "\n",
    "forward_models[[79]] <- glm(V2 ~ V1, data = data)\n",
    "backward_models[[79]] <- glm(V1 ~ V2, data = data)"
   ]
  },
  {
   "cell_type": "markdown",
   "metadata": {},
   "source": [
    "##### Pair 80"
   ]
  },
  {
   "cell_type": "code",
   "execution_count": 661,
   "metadata": {},
   "outputs": [
    {
     "name": "stderr",
     "output_type": "stream",
     "text": [
      "Start testing file: /Users/mkokkines/Documents/cause_effect_analysis/pairs/pair0080.txt\n",
      "/n\n"
     ]
    },
    {
     "name": "stdout",
     "output_type": "stream",
     "text": [
      "[1] \"Y\"                     \"1.19240695358957e-114\" \"4.03474801743481e-28\" \n"
     ]
    }
   ],
   "source": [
    "file_path = \"/Users/mkokkines/Documents/cause_effect_analysis/pairs/pair0080.txt\"\n",
    "data <- process_file(file_path)\n",
    "results_80 = test_pair(data)\n",
    "print(results_80)\n",
    "\n",
    "results[80, 1] = results_80[1]\n",
    "results[80, 2] = as.numeric(results_80[2])\n",
    "results[80, 3] = as.numeric(results_80[3])\n",
    "data_size[80] <- nrow(data)\n",
    "\n",
    "forward_models[[80]] <- glm(V2 ~ V1, data = data)\n",
    "backward_models[[80]] <- glm(V1 ~ V2, data = data)"
   ]
  },
  {
   "cell_type": "markdown",
   "metadata": {},
   "source": [
    "##### Pair 81"
   ]
  },
  {
   "cell_type": "code",
   "execution_count": 662,
   "metadata": {},
   "outputs": [
    {
     "name": "stderr",
     "output_type": "stream",
     "text": [
      "Start testing file: /Users/mkokkines/Documents/cause_effect_analysis/pairs/pair0081.txt\n",
      "/n\n"
     ]
    },
    {
     "name": "stdout",
     "output_type": "stream",
     "text": [
      "[1] \"X\"                    \"0.24975579698831\"     \"5.31286728306609e-08\"\n"
     ]
    }
   ],
   "source": [
    "file_path = \"/Users/mkokkines/Documents/cause_effect_analysis/pairs/pair0081.txt\"\n",
    "data <- process_file(file_path)\n",
    "\n",
    "col1 = c()\n",
    "col2 = c()\n",
    "# Change the data type from int to numeric\n",
    "for (row in 1:nrow(data)) {\n",
    "    if (!is.nan(data[row, \"V3\"])) {\n",
    "        col1 = c(col1, data[row, \"V1\"])\n",
    "        col2 = c(col2, as.numeric(data[row, \"V2\"]))\n",
    "    }\n",
    "}\n",
    "\n",
    "data = data.frame(\"V1\"=col1, \"V2\"=col2)\n",
    "results_81 = test_pair(data)\n",
    "print(results_81)\n",
    "\n",
    "results[81, 1] = results_81[1]\n",
    "results[81, 2] = as.numeric(results_81[2])\n",
    "results[81, 3] = as.numeric(results_81[3])\n",
    "data_size[81] <- nrow(data)\n",
    "\n",
    "forward_models[[81]] <- glm(V2 ~ V1, data = data)\n",
    "backward_models[[81]] <- glm(V1 ~ V2, data = data)"
   ]
  },
  {
   "cell_type": "markdown",
   "metadata": {},
   "source": [
    "##### Pair 82"
   ]
  },
  {
   "cell_type": "code",
   "execution_count": 663,
   "metadata": {},
   "outputs": [
    {
     "name": "stderr",
     "output_type": "stream",
     "text": [
      "Start testing file: /Users/mkokkines/Documents/cause_effect_analysis/pairs/pair0082.txt\n",
      "/n\n"
     ]
    },
    {
     "name": "stdout",
     "output_type": "stream",
     "text": [
      "[1] \"Y\"                    \"2.07515714327159e-19\" \"1.32702237186408e-12\"\n"
     ]
    }
   ],
   "source": [
    "file_path = \"/Users/mkokkines/Documents/cause_effect_analysis/pairs/pair0082.txt\"\n",
    "data <- process_file(file_path)\n",
    "\n",
    "col1 = c()\n",
    "col2 = c()\n",
    "# Change the data type from int to numeric\n",
    "for (row in 1:nrow(data)) {\n",
    "    if (!is.nan(data[row, \"V3\"])) {\n",
    "        col1 = c(col1, data[row, \"V1\"])\n",
    "        col2 = c(col2, as.numeric(data[row, \"V2\"]))\n",
    "    }\n",
    "}\n",
    "\n",
    "data = data.frame(\"V1\"=col1, \"V2\"=col2)\n",
    "results_82 = test_pair(data)\n",
    "print(results_82)\n",
    "\n",
    "results[82, 1] = results_82[1]\n",
    "results[82, 2] = as.numeric(results_82[2])\n",
    "results[82, 3] = as.numeric(results_82[3])\n",
    "data_size[82] <- nrow(data)\n",
    "\n",
    "forward_models[[82]] <- glm(V2 ~ V1, data = data)\n",
    "backward_models[[82]] <- glm(V1 ~ V2, data = data)"
   ]
  },
  {
   "cell_type": "markdown",
   "metadata": {},
   "source": [
    "##### Pair 83"
   ]
  },
  {
   "cell_type": "code",
   "execution_count": 664,
   "metadata": {},
   "outputs": [
    {
     "name": "stderr",
     "output_type": "stream",
     "text": [
      "Start testing file: /Users/mkokkines/Documents/cause_effect_analysis/pairs/pair0083.txt\n",
      "/n\n"
     ]
    },
    {
     "name": "stdout",
     "output_type": "stream",
     "text": [
      "[1] \"Y\"                    \"9.4152966277483e-30\"  \"7.85161022285794e-11\"\n"
     ]
    }
   ],
   "source": [
    "file_path = \"/Users/mkokkines/Documents/cause_effect_analysis/pairs/pair0083.txt\"\n",
    "data <- process_file(file_path)\n",
    "\n",
    "col1 = c()\n",
    "col2 = c()\n",
    "# Change the data type from int to numeric\n",
    "for (row in 1:nrow(data)) {\n",
    "    if (!is.nan(data[row, \"V3\"])) {\n",
    "        col1 = c(col1, data[row, \"V1\"])\n",
    "        col2 = c(col2, as.numeric(data[row, \"V2\"]))\n",
    "    }\n",
    "}\n",
    "\n",
    "data = data.frame(\"V1\"=col1, \"V2\"=col2)\n",
    "results_83 = test_pair(data)\n",
    "print(results_83)\n",
    "\n",
    "results[83, 1] = results_83[1]\n",
    "results[83, 2] = as.numeric(results_83[2])\n",
    "results[83, 3] = as.numeric(results_83[3])\n",
    "data_size[83] <- nrow(data)\n",
    "\n",
    "forward_models[[83]] <- glm(V2 ~ V1, data = data)\n",
    "backward_models[[83]] <- glm(V1 ~ V2, data = data)"
   ]
  },
  {
   "cell_type": "markdown",
   "metadata": {},
   "source": [
    "##### Pair 84"
   ]
  },
  {
   "cell_type": "code",
   "execution_count": 665,
   "metadata": {},
   "outputs": [
    {
     "name": "stderr",
     "output_type": "stream",
     "text": [
      "Start testing file: /Users/mkokkines/Documents/cause_effect_analysis/pairs/pair0084.txt\n",
      "/n\n"
     ]
    },
    {
     "name": "stdout",
     "output_type": "stream",
     "text": [
      "[1] \"X\"                    \"8.2454291610645e-34\"  \"4.51230362736175e-36\"\n"
     ]
    }
   ],
   "source": [
    "file_path = \"/Users/mkokkines/Documents/cause_effect_analysis/pairs/pair0084.txt\"\n",
    "data <- process_file(file_path)\n",
    "results_84 = test_pair(data)\n",
    "print(results_84)\n",
    "\n",
    "results[84, 1] = results_84[1]\n",
    "results[84, 2] = as.numeric(results_84[2])\n",
    "results[84, 3] = as.numeric(results_84[3])\n",
    "data_size[84] <- nrow(data)\n",
    "\n",
    "forward_models[[84]] <- glm(V2 ~ V1, data = data)\n",
    "backward_models[[84]] <- glm(V1 ~ V2, data = data)"
   ]
  },
  {
   "cell_type": "markdown",
   "metadata": {},
   "source": [
    "##### Pair 85"
   ]
  },
  {
   "cell_type": "code",
   "execution_count": 666,
   "metadata": {},
   "outputs": [
    {
     "name": "stderr",
     "output_type": "stream",
     "text": [
      "Start testing file: /Users/mkokkines/Documents/cause_effect_analysis/pairs/pair0085.txt\n",
      "/n\n"
     ]
    },
    {
     "name": "stdout",
     "output_type": "stream",
     "text": [
      "[1] \"Y\"                    \"7.71042968331447e-08\" \"0.000227517936572165\"\n"
     ]
    }
   ],
   "source": [
    "file_path = \"/Users/mkokkines/Documents/cause_effect_analysis/pairs/pair0085.txt\"\n",
    "data <- process_file(file_path)\n",
    "results_85 = test_pair(data)\n",
    "print(results_85)\n",
    "\n",
    "results[85, 1] = results_85[1]\n",
    "results[85, 2] = as.numeric(results_85[2])\n",
    "results[85, 3] = as.numeric(results_85[3])\n",
    "data_size[85] <- nrow(data)\n",
    "\n",
    "forward_models[[85]] <- glm(V2 ~ V1, data = data)\n",
    "backward_models[[85]] <- glm(V1 ~ V2, data = data)"
   ]
  },
  {
   "cell_type": "markdown",
   "metadata": {},
   "source": [
    "##### Pair 86"
   ]
  },
  {
   "cell_type": "code",
   "execution_count": 667,
   "metadata": {},
   "outputs": [
    {
     "name": "stderr",
     "output_type": "stream",
     "text": [
      "Start testing file: /Users/mkokkines/Documents/cause_effect_analysis/pairs/pair0086.txt\n",
      "/n\n"
     ]
    },
    {
     "name": "stdout",
     "output_type": "stream",
     "text": [
      "[1] \"X\"                    \"1.7294104234062e-07\"  \"9.50074406556473e-20\"\n"
     ]
    }
   ],
   "source": [
    "file_path = \"/Users/mkokkines/Documents/cause_effect_analysis/pairs/pair0086.txt\"\n",
    "data <- process_file(file_path)\n",
    "\n",
    "# Change the data type from int to numeric\n",
    "for (row in 1:nrow(data)) {\n",
    "    data[row, \"V1\"] <- as.numeric(data[row, \"V1\"])\n",
    "    data[row, \"V2\"] <- as.numeric(data[row, \"V2\"])\n",
    "}\n",
    "\n",
    "results_86 = test_pair(data)\n",
    "print(results_86)\n",
    "\n",
    "results[86, 1] = results_86[1]\n",
    "results[86, 2] = as.numeric(results_86[2])\n",
    "results[86, 3] = as.numeric(results_86[3])\n",
    "data_size[86] <- nrow(data)\n",
    "\n",
    "forward_models[[86]] <- glm(V2 ~ V1, data = data)\n",
    "backward_models[[86]] <- glm(V1 ~ V2, data = data)"
   ]
  },
  {
   "cell_type": "markdown",
   "metadata": {},
   "source": [
    "##### Pair 87"
   ]
  },
  {
   "cell_type": "code",
   "execution_count": 668,
   "metadata": {},
   "outputs": [
    {
     "name": "stderr",
     "output_type": "stream",
     "text": [
      "Start testing file: /Users/mkokkines/Documents/cause_effect_analysis/pairs/pair0087.txt\n",
      "/n\n"
     ]
    },
    {
     "name": "stdout",
     "output_type": "stream",
     "text": [
      "[1] \"NA\" \"0\"  \"0\" \n"
     ]
    }
   ],
   "source": [
    "file_path = \"/Users/mkokkines/Documents/cause_effect_analysis/pairs/pair0087.txt\"\n",
    "data <- process_file(file_path)\n",
    "results_87 = test_pair(data)\n",
    "print(results_87)\n",
    "\n",
    "results[87, 1] = results_87[1]\n",
    "results[87, 2] = as.numeric(results_87[2])\n",
    "results[87, 3] = as.numeric(results_87[3])\n",
    "data_size[87] <- nrow(data)\n",
    "\n",
    "forward_models[[87]] <- glm(V2 ~ V1, data = data)\n",
    "backward_models[[87]] <- glm(V1 ~ V2, data = data)"
   ]
  },
  {
   "cell_type": "markdown",
   "metadata": {},
   "source": [
    "##### Pair 88"
   ]
  },
  {
   "cell_type": "code",
   "execution_count": 669,
   "metadata": {},
   "outputs": [
    {
     "name": "stderr",
     "output_type": "stream",
     "text": [
      "Start testing file: /Users/mkokkines/Documents/cause_effect_analysis/pairs/pair0088.txt\n",
      "/n\n"
     ]
    },
    {
     "name": "stdout",
     "output_type": "stream",
     "text": [
      "[1] \"NA\"                   \"2.91791768568807e-14\" \"4.70689939822554e-15\"\n"
     ]
    }
   ],
   "source": [
    "file_path = \"/Users/mkokkines/Documents/cause_effect_analysis/pairs/pair0088.txt\"\n",
    "data <- process_file(file_path)\n",
    "results_88 = test_pair(data)\n",
    "print(results_88)\n",
    "\n",
    "results[88, 1] = results_88[1]\n",
    "results[88, 2] = as.numeric(results_88[2])\n",
    "results[88, 3] = as.numeric(results_88[3])\n",
    "data_size[88] <- nrow(data)\n",
    "\n",
    "forward_models[[88]] <- glm(V2 ~ V1, data = data)\n",
    "backward_models[[88]] <- glm(V1 ~ V2, data = data)"
   ]
  },
  {
   "cell_type": "markdown",
   "metadata": {},
   "source": [
    "##### Pair 89"
   ]
  },
  {
   "cell_type": "code",
   "execution_count": 670,
   "metadata": {},
   "outputs": [
    {
     "name": "stderr",
     "output_type": "stream",
     "text": [
      "Start testing file: /Users/mkokkines/Documents/cause_effect_analysis/pairs/pair0089.txt\n",
      "/n\n"
     ]
    },
    {
     "name": "stdout",
     "output_type": "stream",
     "text": [
      "[1] \"NA\"                \"0.408400647447669\" \"0.352120874863\"   \n"
     ]
    }
   ],
   "source": [
    "file_path = \"/Users/mkokkines/Documents/cause_effect_analysis/pairs/pair0089.txt\"\n",
    "data <- process_file(file_path)\n",
    "results_89 = test_pair(data)\n",
    "print(results_89)\n",
    "\n",
    "results[89, 1] = results_89[1]\n",
    "results[89, 2] = as.numeric(results_89[2])\n",
    "results[89, 3] = as.numeric(results_89[3])\n",
    "data_size[89] <- nrow(data)\n",
    "\n",
    "forward_models[[89]] <- glm(V2 ~ V1, data = data)\n",
    "backward_models[[89]] <- glm(V1 ~ V2, data = data)"
   ]
  },
  {
   "cell_type": "markdown",
   "metadata": {},
   "source": [
    "##### Pair 90"
   ]
  },
  {
   "cell_type": "code",
   "execution_count": 671,
   "metadata": {},
   "outputs": [
    {
     "name": "stderr",
     "output_type": "stream",
     "text": [
      "Start testing file: /Users/mkokkines/Documents/cause_effect_analysis/pairs/pair0090.txt\n",
      "/n\n"
     ]
    },
    {
     "name": "stdout",
     "output_type": "stream",
     "text": [
      "[1] \"X\"                  \"0.282380636555654\"  \"0.0240673339432916\"\n"
     ]
    }
   ],
   "source": [
    "file_path = \"/Users/mkokkines/Documents/cause_effect_analysis/pairs/pair0090.txt\"\n",
    "data <- process_file(file_path)\n",
    "results_90 = test_pair(data)\n",
    "print(results_90)\n",
    "\n",
    "results[90, 1] = results_90[1]\n",
    "results[90, 2] = as.numeric(results_90[2])\n",
    "results[90, 3] = as.numeric(results_90[3])\n",
    "data_size[90] <- nrow(data)\n",
    "\n",
    "forward_models[[90]] <- glm(V2 ~ V1, data = data)\n",
    "backward_models[[90]] <- glm(V1 ~ V2, data = data)"
   ]
  },
  {
   "cell_type": "markdown",
   "metadata": {},
   "source": [
    "##### Pair 91"
   ]
  },
  {
   "cell_type": "code",
   "execution_count": 672,
   "metadata": {},
   "outputs": [
    {
     "name": "stderr",
     "output_type": "stream",
     "text": [
      "Start testing file: /Users/mkokkines/Documents/cause_effect_analysis/pairs/pair0091.txt\n",
      "/n\n"
     ]
    },
    {
     "name": "stdout",
     "output_type": "stream",
     "text": [
      "[1] \"X\"                    \"6.36467384679867e-06\" \"2.32809196164612e-12\"\n"
     ]
    }
   ],
   "source": [
    "file_path = \"/Users/mkokkines/Documents/cause_effect_analysis/pairs/pair0091.txt\"\n",
    "data <- process_file(file_path)\n",
    "results_91 = test_pair(data)\n",
    "print(results_91)\n",
    "\n",
    "results[91, 1] = results_91[1]\n",
    "results[91, 2] = as.numeric(results_91[2])\n",
    "results[91, 3] = as.numeric(results_91[3])\n",
    "data_size[91] <- nrow(data)\n",
    "\n",
    "forward_models[[91]] <- glm(V2 ~ V1, data = data)\n",
    "backward_models[[91]] <- glm(V1 ~ V2, data = data)"
   ]
  },
  {
   "cell_type": "markdown",
   "metadata": {},
   "source": [
    "##### Pair 92"
   ]
  },
  {
   "cell_type": "code",
   "execution_count": 673,
   "metadata": {},
   "outputs": [
    {
     "name": "stderr",
     "output_type": "stream",
     "text": [
      "Start testing file: /Users/mkokkines/Documents/cause_effect_analysis/pairs/pair0092.txt\n",
      "/n\n"
     ]
    },
    {
     "name": "stdout",
     "output_type": "stream",
     "text": [
      "[1] \"Y\"                    \"7.73464282817179e-15\" \"1.37245237968774e-08\"\n"
     ]
    }
   ],
   "source": [
    "file_path = \"/Users/mkokkines/Documents/cause_effect_analysis/pairs/pair0092.txt\"\n",
    "data <- process_file(file_path)\n",
    "results_92 = test_pair(data)\n",
    "print(results_92)\n",
    "\n",
    "results[92, 1] = results_92[1]\n",
    "results[92, 2] = as.numeric(results_92[2])\n",
    "results[92, 3] = as.numeric(results_92[3])\n",
    "data_size[92] <- nrow(data)\n",
    "\n",
    "forward_models[[92]] <- glm(V2 ~ V1, data = data)\n",
    "backward_models[[92]] <- glm(V1 ~ V2, data = data)"
   ]
  },
  {
   "cell_type": "markdown",
   "metadata": {},
   "source": [
    "##### Pair 93"
   ]
  },
  {
   "cell_type": "code",
   "execution_count": 674,
   "metadata": {},
   "outputs": [
    {
     "name": "stderr",
     "output_type": "stream",
     "text": [
      "Start testing file: /Users/mkokkines/Documents/cause_effect_analysis/pairs/pair0093.txt\n",
      "/n\n"
     ]
    },
    {
     "name": "stdout",
     "output_type": "stream",
     "text": [
      "[1] \"Y\"                    \"2.20665646724212e-33\" \"1.09752687285225e-19\"\n"
     ]
    }
   ],
   "source": [
    "file_path = \"/Users/mkokkines/Documents/cause_effect_analysis/pairs/pair0093.txt\"\n",
    "data <- process_file(file_path)\n",
    "results_93 = test_pair(data)\n",
    "print(results_93)\n",
    "\n",
    "results[93, 1] = results_93[1]\n",
    "results[93, 2] = as.numeric(results_93[2])\n",
    "results[93, 3] = as.numeric(results_93[3])\n",
    "data_size[93] <- nrow(data)\n",
    "\n",
    "forward_models[[93]] <- glm(V2 ~ V1, data = data)\n",
    "backward_models[[93]] <- glm(V1 ~ V2, data = data)"
   ]
  },
  {
   "cell_type": "markdown",
   "metadata": {},
   "source": [
    "##### Pair 94"
   ]
  },
  {
   "cell_type": "code",
   "execution_count": 675,
   "metadata": {},
   "outputs": [
    {
     "name": "stderr",
     "output_type": "stream",
     "text": [
      "Start testing file: /Users/mkokkines/Documents/cause_effect_analysis/pairs/pair0094.txt\n",
      "/n\n"
     ]
    },
    {
     "name": "stdout",
     "output_type": "stream",
     "text": [
      "[1] \"Y\"                     \"1.66849438097166e-125\" \"1.74055078242993e-124\"\n"
     ]
    }
   ],
   "source": [
    "file_path = \"/Users/mkokkines/Documents/cause_effect_analysis/pairs/pair0094.txt\"\n",
    "data <- process_file(file_path)\n",
    "results_94 = test_pair(data)\n",
    "print(results_94)\n",
    "\n",
    "results[94, 1] = results_94[1]\n",
    "results[94, 2] = as.numeric(results_94[2])\n",
    "results[94, 3] = as.numeric(results_94[3])\n",
    "data_size[94] <- nrow(data)\n",
    "\n",
    "forward_models[[94]] <- glm(V2 ~ V1, data = data)\n",
    "backward_models[[94]] <- glm(V1 ~ V2, data = data)"
   ]
  },
  {
   "cell_type": "markdown",
   "metadata": {},
   "source": [
    "##### Pair 95"
   ]
  },
  {
   "cell_type": "code",
   "execution_count": 676,
   "metadata": {},
   "outputs": [
    {
     "name": "stderr",
     "output_type": "stream",
     "text": [
      "Start testing file: /Users/mkokkines/Documents/cause_effect_analysis/pairs/pair0095.txt\n",
      "/n\n"
     ]
    },
    {
     "name": "stdout",
     "output_type": "stream",
     "text": [
      "[1] \"X\"                     \"6.94243466407516e-146\" \"3.16457169018161e-273\"\n"
     ]
    }
   ],
   "source": [
    "file_path = \"/Users/mkokkines/Documents/cause_effect_analysis/pairs/pair0095.txt\"\n",
    "data <- process_file(file_path)\n",
    "results_95 = test_pair(data)\n",
    "print(results_95)\n",
    "\n",
    "results[95, 1] = results_95[1]\n",
    "results[95, 2] = as.numeric(results_95[2])\n",
    "results[95, 3] = as.numeric(results_95[3])\n",
    "data_size[95] <- nrow(data)\n",
    "\n",
    "forward_models[[95]] <- glm(V2 ~ V1, data = data)\n",
    "backward_models[[95]] <- glm(V1 ~ V2, data = data)"
   ]
  },
  {
   "cell_type": "markdown",
   "metadata": {},
   "source": [
    "##### Pair 96"
   ]
  },
  {
   "cell_type": "code",
   "execution_count": 677,
   "metadata": {},
   "outputs": [
    {
     "name": "stderr",
     "output_type": "stream",
     "text": [
      "Start testing file: /Users/mkokkines/Documents/cause_effect_analysis/pairs/pair0096.txt\n",
      "/n\n"
     ]
    },
    {
     "name": "stdout",
     "output_type": "stream",
     "text": [
      "[1] \"NA\" \"0\"  \"0\" \n"
     ]
    },
    {
     "name": "stderr",
     "output_type": "stream",
     "text": [
      "Warning message in forward_models[96] <- glm(V2 ~ V1, data = data):\n",
      "“number of items to replace is not a multiple of replacement length”"
     ]
    }
   ],
   "source": [
    "file_path = \"/Users/mkokkines/Documents/cause_effect_analysis/pairs/pair0096.txt\"\n",
    "data <- process_file(file_path)\n",
    "results_96 = test_pair(data)\n",
    "print(results_96)\n",
    "\n",
    "results[96, 1] = results_96[1]\n",
    "results[96, 2] = as.numeric(results_96[2])\n",
    "results[96, 3] = as.numeric(results_96[3])\n",
    "data_size[96] <- nrow(data)\n",
    "\n",
    "forward_models[96] <- glm(V2 ~ V1, data = data)\n",
    "backward_models[[96]] <- glm(V1 ~ V2, data = data)"
   ]
  },
  {
   "cell_type": "markdown",
   "metadata": {},
   "source": [
    "##### Pair 97"
   ]
  },
  {
   "cell_type": "code",
   "execution_count": 678,
   "metadata": {},
   "outputs": [
    {
     "name": "stderr",
     "output_type": "stream",
     "text": [
      "Start testing file: /Users/mkokkines/Documents/cause_effect_analysis/pairs/pair0097.txt\n",
      "/n\n"
     ]
    },
    {
     "name": "stdout",
     "output_type": "stream",
     "text": [
      "[1] \"NA\"                \"0.357271212630364\" \"0.580790454441335\"\n"
     ]
    }
   ],
   "source": [
    "file_path = \"/Users/mkokkines/Documents/cause_effect_analysis/pairs/pair0097.txt\"\n",
    "data <- process_file(file_path)\n",
    "results_97 = test_pair(data)\n",
    "print(results_97)\n",
    "\n",
    "results[97, 1] = results_97[1]\n",
    "results[97, 2] = as.numeric(results_97[2])\n",
    "results[97, 3] = as.numeric(results_97[3])\n",
    "data_size[97] <- nrow(data)\n",
    "\n",
    "forward_models[[97]] <- glm(V2 ~ V1, data = data)\n",
    "backward_models[[97]] <- glm(V1 ~ V2, data = data)"
   ]
  },
  {
   "cell_type": "markdown",
   "metadata": {},
   "source": [
    "##### Pair 98"
   ]
  },
  {
   "cell_type": "code",
   "execution_count": 679,
   "metadata": {},
   "outputs": [
    {
     "name": "stderr",
     "output_type": "stream",
     "text": [
      "Start testing file: /Users/mkokkines/Documents/cause_effect_analysis/pairs/pair0098.txt\n",
      "/n\n"
     ]
    },
    {
     "name": "stdout",
     "output_type": "stream",
     "text": [
      "[1] \"NA\"                   \"0.000294016058417878\" \"0.000587761922313053\"\n"
     ]
    }
   ],
   "source": [
    "file_path = \"/Users/mkokkines/Documents/cause_effect_analysis/pairs/pair0098.txt\"\n",
    "data <- process_file(file_path)\n",
    "results_98 = test_pair(data)\n",
    "print(results_98)\n",
    "\n",
    "results[98, 1] = results_98[1]\n",
    "results[98, 2] = as.numeric(results_98[2])\n",
    "results[98, 3] = as.numeric(results_98[3])\n",
    "data_size[98] <- nrow(data)\n",
    "\n",
    "forward_models[[98]] <- glm(V2 ~ V1, data = data)\n",
    "backward_models[[98]] <- glm(V1 ~ V2, data = data)"
   ]
  },
  {
   "cell_type": "markdown",
   "metadata": {},
   "source": [
    "##### Pair 99"
   ]
  },
  {
   "cell_type": "code",
   "execution_count": 680,
   "metadata": {},
   "outputs": [
    {
     "name": "stderr",
     "output_type": "stream",
     "text": [
      "Start testing file: /Users/mkokkines/Documents/cause_effect_analysis/pairs/pair0099.txt\n",
      "/n\n"
     ]
    },
    {
     "name": "stdout",
     "output_type": "stream",
     "text": [
      "[1] \"X\"                    \"4.99062509927841e-16\" \"1.24472815722316e-18\"\n"
     ]
    }
   ],
   "source": [
    "file_path = \"/Users/mkokkines/Documents/cause_effect_analysis/pairs/pair0099.txt\"\n",
    "data <- process_file(file_path)\n",
    "\n",
    "# Change the data type from int to numeric\n",
    "for (row in 1:nrow(data)) {\n",
    "    data[row, \"V1\"] <- as.numeric(data[row, \"V1\"])\n",
    "    data[row, \"V2\"] <- as.numeric(data[row, \"V2\"])\n",
    "}\n",
    "\n",
    "results_99 = test_pair(data)\n",
    "print(results_99)\n",
    "\n",
    "results[99, 1] = results_99[1]\n",
    "results[99, 2] = as.numeric(results_99[2])\n",
    "results[99, 3] = as.numeric(results_99[3])\n",
    "data_size[99] <- nrow(data)\n",
    "\n",
    "forward_models[[99]] <- glm(V2 ~ V1, data = data)\n",
    "backward_models[[99]] <- glm(V1 ~ V2, data = data)"
   ]
  },
  {
   "cell_type": "markdown",
   "metadata": {},
   "source": [
    "##### Pair 100"
   ]
  },
  {
   "cell_type": "code",
   "execution_count": 681,
   "metadata": {},
   "outputs": [
    {
     "name": "stderr",
     "output_type": "stream",
     "text": [
      "Start testing file: /Users/mkokkines/Documents/cause_effect_analysis/pairs/pair0100.txt\n",
      "/n\n"
     ]
    },
    {
     "name": "stdout",
     "output_type": "stream",
     "text": [
      "[1] \"Y\"                    \"2.03897478579403e-07\" \"0.00011784385418723\" \n"
     ]
    }
   ],
   "source": [
    "file_path = \"/Users/mkokkines/Documents/cause_effect_analysis/pairs/pair0100.txt\"\n",
    "data <- process_file(file_path)\n",
    "results_100 = test_pair(data)\n",
    "print(results_100)\n",
    "\n",
    "results[100, 1] = results_100[1]\n",
    "results[100, 2] = as.numeric(results_100[2])\n",
    "results[100, 3] = as.numeric(results_100[3])\n",
    "data_size[100] <- nrow(data)\n",
    "\n",
    "forward_models[[100]] <- glm(V2 ~ V1, data = data)\n",
    "backward_models[[100]] <- glm(V1 ~ V2, data = data)"
   ]
  },
  {
   "cell_type": "markdown",
   "metadata": {},
   "source": [
    "##### Pair 101"
   ]
  },
  {
   "cell_type": "code",
   "execution_count": 682,
   "metadata": {},
   "outputs": [
    {
     "name": "stderr",
     "output_type": "stream",
     "text": [
      "Start testing file: /Users/mkokkines/Documents/cause_effect_analysis/pairs/pair0101.txt\n",
      "/n\n"
     ]
    },
    {
     "name": "stdout",
     "output_type": "stream",
     "text": [
      "[1] \"X\"                    \"1.05709310791244e-60\" \"7.53510973281534e-72\"\n"
     ]
    }
   ],
   "source": [
    "file_path = \"/Users/mkokkines/Documents/cause_effect_analysis/pairs/pair0101.txt\"\n",
    "data <- process_file(file_path)\n",
    "results_101 = test_pair(data)\n",
    "print(results_101)\n",
    "\n",
    "results[101, 1] = results_101[1]\n",
    "results[101, 2] = as.numeric(results_101[2])\n",
    "results[101, 3] = as.numeric(results_101[3])\n",
    "data_size[101] <- nrow(data)\n",
    "\n",
    "forward_models[[101]] <- glm(V2 ~ V1, data = data)\n",
    "backward_models[[101]] <- glm(V1 ~ V2, data = data)"
   ]
  },
  {
   "cell_type": "markdown",
   "metadata": {},
   "source": [
    "##### Pair 102"
   ]
  },
  {
   "cell_type": "code",
   "execution_count": 683,
   "metadata": {},
   "outputs": [
    {
     "name": "stderr",
     "output_type": "stream",
     "text": [
      "Start testing file: /Users/mkokkines/Documents/cause_effect_analysis/pairs/pair0102.txt\n",
      "/n\n"
     ]
    },
    {
     "name": "stdout",
     "output_type": "stream",
     "text": [
      "[1] \"NA\"                  \"0.0351541224418966\"  \"0.00412744584332641\"\n"
     ]
    }
   ],
   "source": [
    "file_path = \"/Users/mkokkines/Documents/cause_effect_analysis/pairs/pair0102.txt\"\n",
    "data <- process_file(file_path)\n",
    "results_102 = test_pair(data)\n",
    "print(results_102)\n",
    "\n",
    "results[102, 1] = results_102[1]\n",
    "results[102, 2] = as.numeric(results_102[2])\n",
    "results[102, 3] = as.numeric(results_102[3])\n",
    "data_size[102] <- nrow(data)\n",
    "\n",
    "forward_models[[102]] <- glm(V2 ~ V1, data = data)\n",
    "backward_models[[102]] <- glm(V1 ~ V2, data = data)"
   ]
  },
  {
   "cell_type": "markdown",
   "metadata": {},
   "source": [
    "##### Pair 103"
   ]
  },
  {
   "cell_type": "code",
   "execution_count": 684,
   "metadata": {},
   "outputs": [
    {
     "name": "stderr",
     "output_type": "stream",
     "text": [
      "Start testing file: /Users/mkokkines/Documents/cause_effect_analysis/pairs/pair0103.txt\n",
      "/n\n"
     ]
    },
    {
     "name": "stdout",
     "output_type": "stream",
     "text": [
      "[1] \"NA\"                \"0.584559315247151\" \"0.556608769039778\"\n"
     ]
    }
   ],
   "source": [
    "file_path = \"/Users/mkokkines/Documents/cause_effect_analysis/pairs/pair0103.txt\"\n",
    "data <- process_file(file_path)\n",
    "results_103 = test_pair(data)\n",
    "print(results_103)\n",
    "\n",
    "results[103, 1] = results_103[1]\n",
    "results[103, 2] = as.numeric(results_103[2])\n",
    "results[103, 3] = as.numeric(results_103[3])\n",
    "data_size[103] <- nrow(data)\n",
    "\n",
    "forward_models[[103]] <- glm(V2 ~ V1, data = data)\n",
    "backward_models[[103]] <- glm(V1 ~ V2, data = data)"
   ]
  },
  {
   "cell_type": "markdown",
   "metadata": {},
   "source": [
    "##### Pair 104"
   ]
  },
  {
   "cell_type": "code",
   "execution_count": 685,
   "metadata": {},
   "outputs": [
    {
     "name": "stderr",
     "output_type": "stream",
     "text": [
      "Start testing file: /Users/mkokkines/Documents/cause_effect_analysis/pairs/pair0104.txt\n",
      "/n\n"
     ]
    },
    {
     "name": "stdout",
     "output_type": "stream",
     "text": [
      "[1] \"X\"                  \"0.462471924324657\"  \"0.0336025001471491\"\n"
     ]
    }
   ],
   "source": [
    "file_path = \"/Users/mkokkines/Documents/cause_effect_analysis/pairs/pair0104.txt\"\n",
    "data <- process_file(file_path)\n",
    "results_104 = test_pair(data)\n",
    "print(results_104)\n",
    "\n",
    "results[104, 1] = results_104[1]\n",
    "results[104, 2] = as.numeric(results_104[2])\n",
    "results[104, 3] = as.numeric(results_104[3])\n",
    "data_size[104] <- nrow(data)\n",
    "\n",
    "forward_models[[104]] <- glm(V2 ~ V1, data = data)\n",
    "backward_models[[104]] <- glm(V1 ~ V2, data = data)"
   ]
  },
  {
   "cell_type": "markdown",
   "metadata": {},
   "source": [
    "##### Pair 105"
   ]
  },
  {
   "cell_type": "code",
   "execution_count": 686,
   "metadata": {},
   "outputs": [
    {
     "name": "stderr",
     "output_type": "stream",
     "text": [
      "Start testing file: /Users/mkokkines/Documents/cause_effect_analysis/pairs/pair0105.txt\n",
      "/n\n"
     ]
    },
    {
     "name": "stdout",
     "output_type": "stream",
     "text": [
      "[1] \"X\"                     \"3.03585612171995e-133\" \"5.97210008184198e-137\"\n"
     ]
    }
   ],
   "source": [
    "file_path = \"/Users/mkokkines/Documents/cause_effect_analysis/pairs/pair0105.txt\"\n",
    "data <- process_file(file_path)\n",
    "results_105 = test_pair(data)\n",
    "print(results_105)\n",
    "\n",
    "results[105, 1] = results_105[1]\n",
    "results[105, 2] = as.numeric(results_105[2])\n",
    "results[105, 3] = as.numeric(results_105[3])\n",
    "data_size[105] <- nrow(data)\n",
    "\n",
    "forward_models[[105]] <- glm(V2 ~ V1, data = data)\n",
    "backward_models[[105]] <- glm(V1 ~ V2, data = data)"
   ]
  },
  {
   "cell_type": "markdown",
   "metadata": {},
   "source": [
    "##### Pair 106"
   ]
  },
  {
   "cell_type": "code",
   "execution_count": 687,
   "metadata": {},
   "outputs": [
    {
     "name": "stderr",
     "output_type": "stream",
     "text": [
      "Start testing file: /Users/mkokkines/Documents/cause_effect_analysis/pairs/pair0106.txt\n",
      "/n\n"
     ]
    },
    {
     "name": "stdout",
     "output_type": "stream",
     "text": [
      "[1] \"X\"                    \"9.12442140591085e-13\" \"6.7412948641269e-19\" \n"
     ]
    }
   ],
   "source": [
    "file_path = \"/Users/mkokkines/Documents/cause_effect_analysis/pairs/pair0106.txt\"\n",
    "data <- process_file(file_path)\n",
    "results_106 = test_pair(data)\n",
    "print(results_106)\n",
    "\n",
    "results[106, 1] = results_106[1]\n",
    "results[106, 2] = as.numeric(results_106[2])\n",
    "results[106, 3] = as.numeric(results_106[3])\n",
    "data_size[106] <- nrow(data)\n",
    "\n",
    "forward_models[[106]] <- glm(V2 ~ V1, data = data)\n",
    "backward_models[[106]] <- glm(V1 ~ V2, data = data)"
   ]
  },
  {
   "cell_type": "markdown",
   "metadata": {},
   "source": [
    "##### Pair 107"
   ]
  },
  {
   "cell_type": "markdown",
   "metadata": {},
   "source": [
    "Cannot test this particular data set because the data is binary in nature, meaning the methods do no function properly"
   ]
  },
  {
   "cell_type": "code",
   "execution_count": 689,
   "metadata": {},
   "outputs": [
    {
     "name": "stdout",
     "output_type": "stream",
     "text": [
      "[1] \"NA\" \"0\"  \"0\" \n"
     ]
    }
   ],
   "source": [
    "file_path = \"/Users/mkokkines/Documents/cause_effect_analysis/pairs/pair0107.txt\"\n",
    "data <- process_file(file_path)\n",
    "\n",
    "results_107 = c(\"NA\", 0, 0)\n",
    "print(results_107)\n",
    "\n",
    "results[107, 1] = results_107[1]\n",
    "results[107, 2] = as.numeric(results_107[2])\n",
    "results[107, 3] = as.numeric(results_107[3])\n",
    "data_size[107] <- nrow(data)\n",
    "\n",
    "forward_models[[107]] <- glm(V2 ~ V1, data = data)\n",
    "backward_models[[107]] <- glm(V1 ~ V2, data = data)"
   ]
  },
  {
   "cell_type": "markdown",
   "metadata": {},
   "source": [
    "##### Pair 108"
   ]
  },
  {
   "cell_type": "code",
   "execution_count": 688,
   "metadata": {},
   "outputs": [
    {
     "name": "stderr",
     "output_type": "stream",
     "text": [
      "Start testing file: /Users/mkokkines/Documents/cause_effect_analysis/pairs/pair0108.txt\n",
      "/n\n"
     ]
    },
    {
     "name": "stdout",
     "output_type": "stream",
     "text": [
      "[1] \"Y\"                    \"4.3368234352294e-26\"  \"4.07289926688165e-12\"\n"
     ]
    }
   ],
   "source": [
    "file_path = \"/Users/mkokkines/Documents/cause_effect_analysis/pairs/pair0108.txt\"\n",
    "data <- process_file(file_path)\n",
    "results_108 = test_pair(data)\n",
    "print(results_108)\n",
    "\n",
    "results[108, 1] = results_108[1]\n",
    "results[108, 2] = as.numeric(results_108[2])\n",
    "results[108, 3] = as.numeric(results_108[3])\n",
    "data_size[108] <- nrow(data)\n",
    "\n",
    "forward_models[[108]] <- glm(V2 ~ V1, data = data)\n",
    "backward_models[[108]] <- glm(V1 ~ V2, data = data)"
   ]
  },
  {
   "cell_type": "markdown",
   "metadata": {},
   "source": [
    "# 6. See how accurate the paper was based upon assigned weightings"
   ]
  },
  {
   "cell_type": "code",
   "execution_count": 460,
   "metadata": {},
   "outputs": [],
   "source": [
    "correct_answers = c(\n",
    "    \"X\",\n",
    "    \"X\",\n",
    "    \"X\",\n",
    "    \"X\",\n",
    "    \"X\",\n",
    "    \"X\",\n",
    "    \"X\",\n",
    "    \"X\",\n",
    "    \"X\",\n",
    "    \"X\",\n",
    "    \"X\",\n",
    "    \"X\",\n",
    "    \"X\",\n",
    "    \"X\",\n",
    "    \"X\",\n",
    "    \"X\",\n",
    "    \"X\",\n",
    "    \"X\",\n",
    "    \"X\",\n",
    "    \"X\",\n",
    "    \"X\",\n",
    "    \"X\",\n",
    "    \"X\",\n",
    "    \"X\",\n",
    "    \"X\",\n",
    "    \"X\",\n",
    "    \"X\",\n",
    "    \"X\",\n",
    "    \"X\",\n",
    "    \"X\",\n",
    "    \"X\",\n",
    "    \"X\",\n",
    "    \"X\",\n",
    "    \"X\",\n",
    "    \"X\",\n",
    "    \"X\",\n",
    "    \"X\",\n",
    "    \"X\",\n",
    "    \"X\",\n",
    "    \"X\",\n",
    "    \"X\",\n",
    "    \"X\",\n",
    "    \"X\",\n",
    "    \"X\",\n",
    "    \"X\",\n",
    "    \"X\",\n",
    "    \"Y\",\n",
    "    \"Y\",\n",
    "    \"Y\",\n",
    "    \"Y\",\n",
    "    \"Y\",\n",
    "    \"Y\",\n",
    "    \"Y\",\n",
    "    \"X\",\n",
    "    \"Y\",\n",
    "    \"Y\",\n",
    "    \"Y\",\n",
    "    \"Y\",\n",
    "    \"Y\",\n",
    "    \"Y\",\n",
    "    \"Y\",\n",
    "    \"Y\",\n",
    "    \"Y\",\n",
    "    \"X\",\n",
    "    \"X\",\n",
    "    \"X\",\n",
    "    \"X\",\n",
    "    \"Y\",\n",
    "    \"Y\",\n",
    "    \"X\",\n",
    "    \"X\",\n",
    "    \"X\",\n",
    "    \"Y\",\n",
    "    \"X\",\n",
    "    \"Y\",\n",
    "    \"X\",\n",
    "    \"Y\",\n",
    "    \"X\",\n",
    "    \"Y\",\n",
    "    \"Y\",\n",
    "    \"X\",\n",
    "    \"X\",\n",
    "    \"X\",\n",
    "    \"Y\",\n",
    "    \"X\",\n",
    "    \"X\",\n",
    "    \"X\",\n",
    "    \"X\",\n",
    "    \"Y\",\n",
    "    \"Y\",\n",
    "    \"X\",\n",
    "    \"Y\",\n",
    "    \"X\",\n",
    "    \"X\",\n",
    "    \"X\",\n",
    "    \"X\",\n",
    "    \"X\",\n",
    "    \"X\",\n",
    "    \"Y\",\n",
    "    \"X\"\n",
    ")\n",
    "\n",
    "correct = c()\n",
    "for (row in 1:100) {\n",
    "    correct <- c(correct, results[row, 1] == correct_answers[row])\n",
    "}"
   ]
  },
  {
   "cell_type": "code",
   "execution_count": 415,
   "metadata": {},
   "outputs": [],
   "source": [
    "weights = c(\n",
    "    .16666666666,\n",
    "    .16666666666,\n",
    "    .16666666666,\n",
    "    .16666666666,\n",
    "    .14285714285,\n",
    "    .14285714285,\n",
    "    .14285714285,\n",
    "    .14285714285,\n",
    "    .14285714285,\n",
    "    .14285714285,\n",
    "    .14285714285,\n",
    "    .5,\n",
    "    .25,\n",
    "    .25,\n",
    "    .25,\n",
    "    .25,\n",
    "    .5,\n",
    "    1,\n",
    "    1,\n",
    "    .16666666666,\n",
    "    .16666666666,\n",
    "    .33333333333,\n",
    "    .33333333333,\n",
    "    .33333333333,\n",
    "    .125,\n",
    "    .125,\n",
    "    .125,\n",
    "    .125,\n",
    "    .125,\n",
    "    .125,\n",
    "    .125,\n",
    "    .125,\n",
    "    .2,\n",
    "    .2,\n",
    "    .2,\n",
    "    .2,\n",
    "    .2,\n",
    "    .25,\n",
    "    .25,\n",
    "    .25,\n",
    "    .25,\n",
    "    .5,\n",
    "    .25,\n",
    "    .25,\n",
    "    .25,\n",
    "    .25,\n",
    "    1,\n",
    "    1,\n",
    "    .33333333333,\n",
    "    .33333333333,\n",
    "    .33333333333,\n",
    "    0,\n",
    "    0, \n",
    "    0,\n",
    "    0,\n",
    "    0.08333333333,\n",
    "    0.08333333333,\n",
    "    0.08333333333,\n",
    "    0.08333333333,\n",
    "    0.08333333333,\n",
    "    0.08333333333,\n",
    "    0.08333333333,\n",
    "    0.08333333333,\n",
    "    0.08333333333,\n",
    "    .33333333333,\n",
    "    .33333333333,\n",
    "    .33333333333,\n",
    "    1,\n",
    "    1, \n",
    "    1,\n",
    "    0,\n",
    "    1,\n",
    "    0.08333333333,\n",
    "    0.08333333333,\n",
    "    0.08333333333,\n",
    "    1,\n",
    "    .5,\n",
    "    .33333333333,\n",
    "    .33333333333,\n",
    "    .33333333333,\n",
    "    .33333333333,\n",
    "    .33333333333,\n",
    "    .33333333333,\n",
    "    1,\n",
    "    1,\n",
    "    1,\n",
    "    1,\n",
    "    1,\n",
    "    .25,\n",
    "    .25,\n",
    "    .25,\n",
    "    .25,\n",
    "    1,\n",
    "    .33333333333,\n",
    "    .33333333333,\n",
    "    .33333333333,\n",
    "    .5,\n",
    "    .5,\n",
    "    1,\n",
    "    1\n",
    ")"
   ]
  },
  {
   "cell_type": "code",
   "execution_count": 432,
   "metadata": {},
   "outputs": [],
   "source": [
    "max_score = sum(weights)"
   ]
  },
  {
   "cell_type": "code",
   "execution_count": 461,
   "metadata": {},
   "outputs": [
    {
     "name": "stdout",
     "output_type": "stream",
     "text": [
      "[1] \"Correct:\"\n",
      "[1] 14.74167\n",
      "[1] 0.4211905\n",
      "[1] \"\"\n",
      "[1] \"Incorrect:\"\n",
      "[1] 12.225\n",
      "[1] 0.3492857\n",
      "[1] \"\"\n",
      "[1] \"NA:\"\n",
      "[1] 8.033333\n",
      "[1] 0.2295238\n"
     ]
    }
   ],
   "source": [
    "# Correct results\n",
    "correct_score = 0.0\n",
    "na_score = 0.0\n",
    "incorrect_score = 0.0\n",
    "\n",
    "for (row in (1:100)) {\n",
    "    if (correct[row]) {\n",
    "        correct_score = correct_score + weights[row]\n",
    "    } else if (results[row, 1] == \"NA\") {\n",
    "        na_score = na_score + weights[row]\n",
    "    } else {\n",
    "        incorrect_score = incorrect_score + weights[row]\n",
    "    }\n",
    "}\n",
    "\n",
    "correct_pct = correct_score / max_score\n",
    "print(\"Correct:\")\n",
    "print(correct_score)\n",
    "print(correct_pct)\n",
    "print(\"\")\n",
    "\n",
    "incorrect_pct = incorrect_score / max_score\n",
    "print(\"Incorrect:\")\n",
    "print(incorrect_score)\n",
    "print(incorrect_pct)\n",
    "print(\"\")\n",
    "\n",
    "na_pct = na_score / max_score\n",
    "print(\"NA:\")\n",
    "print(na_score)\n",
    "print(na_pct)"
   ]
  },
  {
   "cell_type": "markdown",
   "metadata": {},
   "source": [
    "# 7. Determine how the size of a data set correlates with the accuracy of the results"
   ]
  },
  {
   "cell_type": "code",
   "execution_count": 464,
   "metadata": {},
   "outputs": [
    {
     "data": {
      "image/png": "[encoded data removed]",
      "text/plain": [
       "plot without title"
      ]
     },
     "metadata": {},
     "output_type": "display_data"
    }
   ],
   "source": [
    "scatter.smooth(x=data_size[1:100], y=correct)"
   ]
  },
  {
   "cell_type": "markdown",
   "metadata": {},
   "source": [
    "# 8. Analyze Linear Regression Results"
   ]
  },
  {
   "cell_type": "code",
   "execution_count": 690,
   "metadata": {},
   "outputs": [
    {
     "data": {
      "text/plain": [
       "[[1]]\n",
       "\n",
       "Call:  glm(formula = V2 ~ V1, data = data)\n",
       "\n",
       "Coefficients:\n",
       "(Intercept)           V1  \n",
       "   9.330263    -0.003876  \n",
       "\n",
       "Degrees of Freedom: 348 Total (i.e. Null);  347 Residual\n",
       "Null Deviance:\t    802.4 \n",
       "Residual Deviance: 200.5 \tAIC: 803\n",
       "\n",
       "[[2]]\n",
       "\n",
       "Call:  glm(formula = V2 ~ V1, data = data)\n",
       "\n",
       "Coefficients:\n",
       "(Intercept)           V1  \n",
       "   633.8777       0.7147  \n",
       "\n",
       "Degrees of Freedom: 348 Total (i.e. Null);  347 Residual\n",
       "Null Deviance:\t    35430000 \n",
       "Residual Deviance: 14970000 \tAIC: 4719\n",
       "\n",
       "[[3]]\n",
       "\n",
       "Call:  glm(formula = V2 ~ V1, data = data)\n",
       "\n",
       "Coefficients:\n",
       "(Intercept)           V1  \n",
       "     9.8733      -0.1837  \n",
       "\n",
       "Degrees of Freedom: 348 Total (i.e. Null);  347 Residual\n",
       "Null Deviance:\t    802.4 \n",
       "Residual Deviance: 757 \tAIC: 1267\n",
       "\n",
       "[[4]]\n",
       "\n",
       "Call:  glm(formula = V2 ~ V1, data = data)\n",
       "\n",
       "Coefficients:\n",
       "(Intercept)           V1  \n",
       "  1517.7877       0.0558  \n",
       "\n",
       "Degrees of Freedom: 348 Total (i.e. Null);  347 Residual\n",
       "Null Deviance:\t    5694000 \n",
       "Residual Deviance: 5569000 \tAIC: 4374\n",
       "\n",
       "[[5]]\n",
       "\n",
       "Call:  glm(formula = V2 ~ V1, data = data)\n",
       "\n",
       "Coefficients:\n",
       "(Intercept)           V1  \n",
       "    0.31800      0.02074  \n",
       "\n",
       "Degrees of Freedom: 4176 Total (i.e. Null);  4175 Residual\n",
       "Null Deviance:\t    60.23 \n",
       "Residual Deviance: 41.56 \tAIC: -7397\n",
       "\n",
       "[[6]]\n",
       "\n",
       "Call:  glm(formula = V2 ~ V1, data = data)\n",
       "\n",
       "Coefficients:\n",
       "(Intercept)           V1  \n",
       "   -0.03033      0.02710  \n",
       "\n",
       "Degrees of Freedom: 4176 Total (i.e. Null);  4175 Residual\n",
       "Null Deviance:\t    80.92 \n",
       "Residual Deviance: 49.05 \tAIC: -6705\n",
       "\n",
       "[[7]]\n",
       "NULL\n",
       "\n",
       "[[8]]\n",
       "NULL\n",
       "\n",
       "[[9]]\n",
       "\n",
       "Call:  glm(formula = V2 ~ V1, data = data)\n",
       "\n",
       "Coefficients:\n",
       "(Intercept)           V1  \n",
       "    0.01227      0.08219  \n",
       "\n",
       "Degrees of Freedom: 4176 Total (i.e. Null);  4175 Residual\n",
       "Null Deviance:\t    1004 \n",
       "Residual Deviance: 711 \tAIC: 4464\n",
       "\n",
       "[[10]]\n",
       "\n",
       "Call:  glm(formula = V2 ~ V1, data = data)\n",
       "\n",
       "Coefficients:\n",
       "(Intercept)           V1  \n",
       "    0.07154      0.02898  \n",
       "\n",
       "Degrees of Freedom: 4176 Total (i.e. Null);  4175 Residual\n",
       "Null Deviance:\t    205.7 \n",
       "Residual Deviance: 169.3 \tAIC: -1530\n",
       "\n",
       "[[11]]\n",
       "\n",
       "Call:  glm(formula = V2 ~ V1, data = data)\n",
       "\n",
       "Coefficients:\n",
       "(Intercept)           V1  \n",
       "    0.01044      0.01713  \n",
       "\n",
       "Degrees of Freedom: 4176 Total (i.e. Null);  4175 Residual\n",
       "Null Deviance:\t    50.18 \n",
       "Residual Deviance: 37.44 \tAIC: -7833\n",
       "\n",
       "[[12]]\n",
       "\n",
       "Call:  glm(formula = V2 ~ V1, data = data)\n",
       "\n",
       "Coefficients:\n",
       "(Intercept)           V1  \n",
       "     570.20        11.06  \n",
       "\n",
       "Degrees of Freedom: 4999 Total (i.e. Null);  4998 Residual\n",
       "Null Deviance:\t    2.123e+09 \n",
       "Residual Deviance: 2.017e+09 \tAIC: 78730\n",
       "\n",
       "[[13]]\n",
       "\n",
       "Call:  glm(formula = V2 ~ V1, data = data)\n",
       "\n",
       "Coefficients:\n",
       "(Intercept)           V1  \n",
       "   35.12064     -0.06005  \n",
       "\n",
       "Degrees of Freedom: 391 Total (i.e. Null);  390 Residual\n",
       "Null Deviance:\t    23820 \n",
       "Residual Deviance: 8379 \tAIC: 2319\n",
       "\n",
       "[[14]]\n",
       "\n",
       "Call:  glm(formula = V2 ~ V1, data = data)\n",
       "\n",
       "Coefficients:\n",
       "(Intercept)           V1  \n",
       "    39.9359      -0.1578  \n",
       "\n",
       "Degrees of Freedom: 391 Total (i.e. Null);  390 Residual\n",
       "Null Deviance:\t    23820 \n",
       "Residual Deviance: 9386 \tAIC: 2363\n",
       "\n",
       "[[15]]\n",
       "\n",
       "Call:  glm(formula = V2 ~ V1, data = data)\n",
       "\n",
       "Coefficients:\n",
       "(Intercept)           V1  \n",
       "  46.216525    -0.007647  \n",
       "\n",
       "Degrees of Freedom: 391 Total (i.e. Null);  390 Residual\n",
       "Null Deviance:\t    23820 \n",
       "Residual Deviance: 7321 \tAIC: 2266\n",
       "\n",
       "[[16]]\n",
       "\n",
       "Call:  glm(formula = V2 ~ V1, data = data)\n",
       "\n",
       "Coefficients:\n",
       "(Intercept)           V1  \n",
       "    20.7019      -0.0494  \n",
       "\n",
       "Degrees of Freedom: 391 Total (i.e. Null);  390 Residual\n",
       "Null Deviance:\t    2976 \n",
       "Residual Deviance: 1562 \tAIC: 1660\n",
       "\n",
       "[[17]]\n",
       "\n",
       "Call:  glm(formula = V2 ~ V1, data = data)\n",
       "\n",
       "Coefficients:\n",
       "(Intercept)           V1  \n",
       "   -1231.46        60.08  \n",
       "\n",
       "Degrees of Freedom: 4999 Total (i.e. Null);  4998 Residual\n",
       "Null Deviance:\t    1.639e+11 \n",
       "Residual Deviance: 1.593e+11 \tAIC: 100600\n",
       "\n",
       "[[18]]\n",
       "\n",
       "Call:  glm(formula = V2 ~ V1, data = data)\n",
       "\n",
       "Coefficients:\n",
       "(Intercept)           V1  \n",
       "     19.894       -1.273  \n",
       "\n",
       "Degrees of Freedom: 313 Total (i.e. Null);  312 Residual\n",
       "Null Deviance:\t    25310 \n",
       "Residual Deviance: 12720 \tAIC: 2059\n",
       "\n",
       "[[19]]\n",
       "\n",
       "Call:  glm(formula = V2 ~ V1, data = data)\n",
       "\n",
       "Coefficients:\n",
       "(Intercept)           V1  \n",
       "     34.689        9.755  \n",
       "\n",
       "Degrees of Freedom: 193 Total (i.e. Null);  192 Residual\n",
       "Null Deviance:\t    35270 \n",
       "Residual Deviance: 7848 \tAIC: 1274\n",
       "\n",
       "[[20]]\n",
       "\n",
       "Call:  glm(formula = V2 ~ V1, data = data)\n",
       "\n",
       "Coefficients:\n",
       "(Intercept)           V1  \n",
       "    -2.0527       0.1993  \n",
       "\n",
       "Degrees of Freedom: 348 Total (i.e. Null);  347 Residual\n",
       "Null Deviance:\t    802.4 \n",
       "Residual Deviance: 742.3 \tAIC: 1260\n",
       "\n",
       "[[21]]\n",
       "\n",
       "Call:  glm(formula = V2 ~ V1, data = data)\n",
       "\n",
       "Coefficients:\n",
       "(Intercept)           V1  \n",
       "    1071.04       -20.02  \n",
       "\n",
       "Degrees of Freedom: 348 Total (i.e. Null);  347 Residual\n",
       "Null Deviance:\t    35430000 \n",
       "Residual Deviance: 34890000 \tAIC: 5014\n",
       "\n",
       "[[22]]\n",
       "\n",
       "Call:  glm(formula = V2 ~ V1, data = data)\n",
       "\n",
       "Coefficients:\n",
       "(Intercept)           V1  \n",
       "   156.5496       0.1562  \n",
       "\n",
       "Degrees of Freedom: 449 Total (i.e. Null);  448 Residual\n",
       "Null Deviance:\t    48680 \n",
       "Residual Deviance: 45800 \tAIC: 3363\n",
       "\n",
       "[[23]]\n",
       "\n",
       "Call:  glm(formula = V2 ~ V1, data = data)\n",
       "\n",
       "Coefficients:\n",
       "(Intercept)           V1  \n",
       "    50.3053       0.3844  \n",
       "\n",
       "Degrees of Freedom: 451 Total (i.e. Null);  450 Residual\n",
       "Null Deviance:\t    124100 \n",
       "Residual Deviance: 106100 \tAIC: 3756\n",
       "\n",
       "[[24]]\n",
       "\n",
       "Call:  glm(formula = V2 ~ V1, data = data)\n",
       "\n",
       "Coefficients:\n",
       "(Intercept)           V1  \n",
       "    81.9894      -0.1622  \n",
       "\n",
       "Degrees of Freedom: 450 Total (i.e. Null);  449 Residual\n",
       "Null Deviance:\t    86580 \n",
       "Residual Deviance: 83380 \tAIC: 3640\n",
       "\n",
       "[[25]]\n",
       "\n",
       "Call:  glm(formula = V2 ~ V1, data = data)\n",
       "\n",
       "Coefficients:\n",
       "(Intercept)           V1  \n",
       "   13.44253      0.07958  \n",
       "\n",
       "Degrees of Freedom: 1029 Total (i.e. Null);  1028 Residual\n",
       "Null Deviance:\t    287200 \n",
       "Residual Deviance: 216000 \tAIC: 8435\n",
       "\n",
       "[[26]]\n",
       "\n",
       "Call:  glm(formula = V2 ~ V1, data = data)\n",
       "\n",
       "Coefficients:\n",
       "(Intercept)           V1  \n",
       "   33.88882      0.02611  \n",
       "\n",
       "Degrees of Freedom: 1029 Total (i.e. Null);  1028 Residual\n",
       "Null Deviance:\t    287200 \n",
       "Residual Deviance: 282000 \tAIC: 8710\n",
       "\n",
       "[[27]]\n",
       "\n",
       "Call:  glm(formula = V2 ~ V1, data = data)\n",
       "\n",
       "Coefficients:\n",
       "(Intercept)           V1  \n",
       "   37.31390     -0.02761  \n",
       "\n",
       "Degrees of Freedom: 1029 Total (i.e. Null);  1028 Residual\n",
       "Null Deviance:\t    287200 \n",
       "Residual Deviance: 284000 \tAIC: 8717\n",
       "\n",
       "[[28]]\n",
       "\n",
       "Call:  glm(formula = V2 ~ V1, data = data)\n",
       "\n",
       "Coefficients:\n",
       "(Intercept)           V1  \n",
       "    76.9583      -0.2266  \n",
       "\n",
       "Degrees of Freedom: 1029 Total (i.e. Null);  1028 Residual\n",
       "Null Deviance:\t    287200 \n",
       "Residual Deviance: 263100 \tAIC: 8638\n",
       "\n",
       "[[29]]\n",
       "\n",
       "Call:  glm(formula = V2 ~ V1, data = data)\n",
       "\n",
       "Coefficients:\n",
       "(Intercept)           V1  \n",
       "     29.466        1.024  \n",
       "\n",
       "Degrees of Freedom: 1029 Total (i.e. Null);  1028 Residual\n",
       "Null Deviance:\t    287200 \n",
       "Residual Deviance: 248700 \tAIC: 8580\n",
       "\n",
       "[[30]]\n",
       "\n",
       "Call:  glm(formula = V2 ~ V1, data = data)\n",
       "\n",
       "Coefficients:\n",
       "(Intercept)           V1  \n",
       "   70.29514     -0.03544  \n",
       "\n",
       "Degrees of Freedom: 1029 Total (i.e. Null);  1028 Residual\n",
       "Null Deviance:\t    287200 \n",
       "Residual Deviance: 279400 \tAIC: 8700\n",
       "\n",
       "[[31]]\n",
       "\n",
       "Call:  glm(formula = V2 ~ V1, data = data)\n",
       "\n",
       "Coefficients:\n",
       "(Intercept)           V1  \n",
       "   62.77489     -0.03485  \n",
       "\n",
       "Degrees of Freedom: 1029 Total (i.e. Null);  1028 Residual\n",
       "Null Deviance:\t    287200 \n",
       "Residual Deviance: 279100 \tAIC: 8699\n",
       "\n",
       "[[32]]\n",
       "\n",
       "Call:  glm(formula = V2 ~ V1, data = data)\n",
       "\n",
       "Coefficients:\n",
       "(Intercept)           V1  \n",
       "   31.84659      0.08697  \n",
       "\n",
       "Degrees of Freedom: 1029 Total (i.e. Null);  1028 Residual\n",
       "Null Deviance:\t    287200 \n",
       "Residual Deviance: 256100 \tAIC: 8611\n",
       "\n",
       "[[33]]\n",
       "\n",
       "Call:  glm(formula = V2 ~ V1, data = data)\n",
       "\n",
       "Coefficients:\n",
       "(Intercept)           V1  \n",
       "    88.7197       0.4167  \n",
       "\n",
       "Degrees of Freedom: 344 Total (i.e. Null);  343 Residual\n",
       "Null Deviance:\t    6806 \n",
       "Residual Deviance: 6141 \tAIC: 1978\n",
       "\n",
       "[[34]]\n",
       "\n",
       "Call:  glm(formula = V2 ~ V1, data = data)\n",
       "\n",
       "Coefficients:\n",
       "(Intercept)           V1  \n",
       "    67.9552       0.5541  \n",
       "\n",
       "Degrees of Freedom: 344 Total (i.e. Null);  343 Residual\n",
       "Null Deviance:\t    115800 \n",
       "Residual Deviance: 114600 \tAIC: 2988\n",
       "\n",
       "[[35]]\n",
       "\n",
       "Call:  glm(formula = V2 ~ V1, data = data)\n",
       "\n",
       "Coefficients:\n",
       "(Intercept)           V1  \n",
       "     26.228        1.209  \n",
       "\n",
       "Degrees of Freedom: 344 Total (i.e. Null);  343 Residual\n",
       "Null Deviance:\t    131000 \n",
       "Residual Deviance: 125400 \tAIC: 3019\n",
       "\n",
       "[[36]]\n",
       "\n",
       "Call:  glm(formula = V2 ~ V1, data = data)\n",
       "\n",
       "Coefficients:\n",
       "(Intercept)           V1  \n",
       "     21.731        0.843  \n",
       "\n",
       "Degrees of Freedom: 344 Total (i.e. Null);  343 Residual\n",
       "Null Deviance:\t    34850 \n",
       "Residual Deviance: 32120 \tAIC: 2549\n",
       "\n",
       "[[37]]\n",
       "\n",
       "Call:  glm(formula = V2 ~ V1, data = data)\n",
       "\n",
       "Coefficients:\n",
       "(Intercept)           V1  \n",
       "     24.419        4.013  \n",
       "\n",
       "Degrees of Freedom: 344 Total (i.e. Null);  343 Residual\n",
       "Null Deviance:\t    530100 \n",
       "Residual Deviance: 468400 \tAIC: 3474\n",
       "\n",
       "[[38]]\n",
       "\n",
       "Call:  glm(formula = V2 ~ V1, data = data)\n",
       "\n",
       "Coefficients:\n",
       "(Intercept)           V1  \n",
       "    31.9483       0.0153  \n",
       "\n",
       "Degrees of Freedom: 756 Total (i.e. Null);  755 Residual\n",
       "Null Deviance:\t    36250 \n",
       "Residual Deviance: 36230 \tAIC: 5083\n",
       "\n",
       "[[39]]\n",
       "\n",
       "Call:  glm(formula = V2 ~ V1, data = data)\n",
       "\n",
       "Coefficients:\n",
       "(Intercept)           V1  \n",
       "     76.505        2.565  \n",
       "\n",
       "Degrees of Freedom: 393 Total (i.e. Null);  392 Residual\n",
       "Null Deviance:\t    5544000 \n",
       "Residual Deviance: 5275000 \tAIC: 4868\n",
       "\n",
       "[[40]]\n",
       "\n",
       "Call:  glm(formula = V2 ~ V1, data = data)\n",
       "\n",
       "Coefficients:\n",
       "(Intercept)           V1  \n",
       "    60.8852       0.3453  \n",
       "\n",
       "Degrees of Freedom: 732 Total (i.e. Null);  731 Residual\n",
       "Null Deviance:\t    112200 \n",
       "Residual Deviance: 1e+05 \tAIC: 5689\n",
       "\n",
       "[[41]]\n",
       "\n",
       "Call:  glm(formula = V2 ~ V1, data = data)\n",
       "\n",
       "Coefficients:\n",
       "(Intercept)           V1  \n",
       "    98.6324       0.6929  \n",
       "\n",
       "Degrees of Freedom: 762 Total (i.e. Null);  761 Residual\n",
       "Null Deviance:\t    710500 \n",
       "Residual Deviance: 659800 \tAIC: 7331\n",
       "\n",
       "[[42]]\n",
       "\n",
       "Call:  glm(formula = V2 ~ V1, data = data)\n",
       "\n",
       "Coefficients:\n",
       "(Intercept)           V1  \n",
       "    3.17157      0.01369  \n",
       "\n",
       "Degrees of Freedom: 9161 Total (i.e. Null);  9160 Residual\n",
       "Null Deviance:\t    471700 \n",
       "Residual Deviance: 452500 \tAIC: 61740\n",
       "\n",
       "[[43]]\n",
       "\n",
       "Call:  glm(formula = V2 ~ V1, data = data)\n",
       "\n",
       "Coefficients:\n",
       "(Intercept)           V1  \n",
       "     2.6136       0.9907  \n",
       "\n",
       "Degrees of Freedom: 10368 Total (i.e. Null);  10367 Residual\n",
       "Null Deviance:\t    4714000 \n",
       "Residual Deviance: 50190 \tAIC: 45780\n",
       "\n",
       "[[44]]\n",
       "\n",
       "Call:  glm(formula = V2 ~ V1, data = data)\n",
       "\n",
       "Coefficients:\n",
       "(Intercept)           V1  \n",
       "     -63.47         1.00  \n",
       "\n",
       "Degrees of Freedom: 10368 Total (i.e. Null);  10367 Residual\n",
       "Null Deviance:\t    1.031e+12 \n",
       "Residual Deviance: 2.379e+09 \tAIC: 157400\n",
       "\n",
       "[[45]]\n",
       "\n",
       "Call:  glm(formula = V2 ~ V1, data = data)\n",
       "\n",
       "Coefficients:\n",
       "(Intercept)           V1  \n",
       "  1.334e+04    8.676e-01  \n",
       "\n",
       "Degrees of Freedom: 10368 Total (i.e. Null);  10367 Residual\n",
       "Null Deviance:\t    1.884e+10 \n",
       "Residual Deviance: 2.44e+09 \tAIC: 157700\n",
       "\n",
       "[[46]]\n",
       "\n",
       "Call:  glm(formula = V2 ~ V1, data = data)\n",
       "\n",
       "Coefficients:\n",
       "(Intercept)           V1  \n",
       "     5.4226       0.9078  \n",
       "\n",
       "Degrees of Freedom: 10368 Total (i.e. Null);  10367 Residual\n",
       "Null Deviance:\t    5401000 \n",
       "Residual Deviance: 1607000 \tAIC: 81730\n",
       "\n",
       "[[47]]\n",
       "\n",
       "Call:  glm(formula = V2 ~ V1, data = data)\n",
       "\n",
       "Coefficients:\n",
       "(Intercept)           V1  \n",
       "  1.347e+00    1.354e-05  \n",
       "\n",
       "Degrees of Freedom: 253 Total (i.e. Null);  252 Residual\n",
       "Null Deviance:\t    63.5 \n",
       "Residual Deviance: 59.62 \tAIC: 358.7\n",
       "\n",
       "[[48]]\n",
       "\n",
       "Call:  glm(formula = V2 ~ V1, data = data)\n",
       "\n",
       "Coefficients:\n",
       "(Intercept)           V1  \n",
       "    -27.357        1.855  \n",
       "\n",
       "Degrees of Freedom: 167 Total (i.e. Null);  166 Residual\n",
       "Null Deviance:\t    6414 \n",
       "Residual Deviance: 5149 \tAIC: 1058\n",
       "\n",
       "[[49]]\n",
       "\n",
       "Call:  glm(formula = V2 ~ V1, data = data)\n",
       "\n",
       "Coefficients:\n",
       "(Intercept)           V1  \n",
       "    -1.6765       0.2004  \n",
       "\n",
       "Degrees of Freedom: 364 Total (i.e. Null);  363 Residual\n",
       "Null Deviance:\t    22570 \n",
       "Residual Deviance: 11100 \tAIC: 2288\n",
       "\n",
       "[[50]]\n",
       "\n",
       "Call:  glm(formula = V2 ~ V1, data = data)\n",
       "\n",
       "Coefficients:\n",
       "(Intercept)           V1  \n",
       "   -14.7611       0.2234  \n",
       "\n",
       "Degrees of Freedom: 364 Total (i.e. Null);  363 Residual\n",
       "Null Deviance:\t    21610 \n",
       "Residual Deviance: 10930 \tAIC: 2283\n",
       "\n",
       "[[51]]\n",
       "\n",
       "Call:  glm(formula = V2 ~ V1, data = data)\n",
       "\n",
       "Coefficients:\n",
       "(Intercept)           V1  \n",
       "   -11.9512       0.1915  \n",
       "\n",
       "Degrees of Freedom: 364 Total (i.e. Null);  363 Residual\n",
       "Null Deviance:\t    21410 \n",
       "Residual Deviance: 18100 \tAIC: 2467\n",
       "\n",
       "[[52]]\n",
       "NULL\n",
       "\n",
       "[[53]]\n",
       "NULL\n",
       "\n",
       "[[54]]\n",
       "NULL\n",
       "\n",
       "[[55]]\n",
       "NULL\n",
       "\n",
       "[[56]]\n",
       "\n",
       "Call:  glm(formula = V2 ~ V1, data = data)\n",
       "\n",
       "Coefficients:\n",
       "(Intercept)           V1  \n",
       "   -47.2016       0.9505  \n",
       "\n",
       "Degrees of Freedom: 191 Total (i.e. Null);  190 Residual\n",
       "Null Deviance:\t    110900 \n",
       "Residual Deviance: 87230 \tAIC: 1726\n",
       "\n",
       "[[57]]\n",
       "\n",
       "Call:  glm(formula = V2 ~ V1, data = data)\n",
       "\n",
       "Coefficients:\n",
       "(Intercept)           V1  \n",
       "   -40.3130       0.8622  \n",
       "\n",
       "Degrees of Freedom: 191 Total (i.e. Null);  190 Residual\n",
       "Null Deviance:\t    110900 \n",
       "Residual Deviance: 93430 \tAIC: 1739\n",
       "\n",
       "[[58]]\n",
       "\n",
       "Call:  glm(formula = V2 ~ V1, data = data)\n",
       "\n",
       "Coefficients:\n",
       "(Intercept)           V1  \n",
       "   -33.1279       0.7669  \n",
       "\n",
       "Degrees of Freedom: 191 Total (i.e. Null);  190 Residual\n",
       "Null Deviance:\t    110900 \n",
       "Residual Deviance: 97400 \tAIC: 1747\n",
       "\n",
       "[[59]]\n",
       "\n",
       "Call:  glm(formula = V2 ~ V1, data = data)\n",
       "\n",
       "Coefficients:\n",
       "(Intercept)           V1  \n",
       "    -39.436        0.873  \n",
       "\n",
       "Degrees of Freedom: 191 Total (i.e. Null);  190 Residual\n",
       "Null Deviance:\t    110900 \n",
       "Residual Deviance: 94280 \tAIC: 1741\n",
       "\n",
       "[[60]]\n",
       "\n",
       "Call:  glm(formula = V2 ~ V1, data = data)\n",
       "\n",
       "Coefficients:\n",
       "(Intercept)           V1  \n",
       "   -39.4744       0.9032  \n",
       "\n",
       "Degrees of Freedom: 191 Total (i.e. Null);  190 Residual\n",
       "Null Deviance:\t    110900 \n",
       "Residual Deviance: 93560 \tAIC: 1739\n",
       "\n",
       "[[61]]\n",
       "\n",
       "Call:  glm(formula = V2 ~ V1, data = data)\n",
       "\n",
       "Coefficients:\n",
       "(Intercept)           V1  \n",
       "   -36.8088       0.8747  \n",
       "\n",
       "Degrees of Freedom: 191 Total (i.e. Null);  190 Residual\n",
       "Null Deviance:\t    110900 \n",
       "Residual Deviance: 96210 \tAIC: 1745\n",
       "\n",
       "[[62]]\n",
       "\n",
       "Call:  glm(formula = V2 ~ V1, data = data)\n",
       "\n",
       "Coefficients:\n",
       "(Intercept)           V1  \n",
       "   -30.9922       0.7932  \n",
       "\n",
       "Degrees of Freedom: 191 Total (i.e. Null);  190 Residual\n",
       "Null Deviance:\t    110900 \n",
       "Residual Deviance: 99430 \tAIC: 1751\n",
       "\n",
       "[[63]]\n",
       "\n",
       "Call:  glm(formula = V2 ~ V1, data = data)\n",
       "\n",
       "Coefficients:\n",
       "(Intercept)           V1  \n",
       "   -41.1530       0.9684  \n",
       "\n",
       "Degrees of Freedom: 191 Total (i.e. Null);  190 Residual\n",
       "Null Deviance:\t    110900 \n",
       "Residual Deviance: 95330 \tAIC: 1743\n",
       "\n",
       "[[64]]\n",
       "\n",
       "Call:  glm(formula = V2 ~ V1, data = data)\n",
       "\n",
       "Coefficients:\n",
       "(Intercept)           V1  \n",
       "    189.254       -1.752  \n",
       "\n",
       "Degrees of Freedom: 161 Total (i.e. Null);  160 Residual\n",
       "Null Deviance:\t    254100 \n",
       "Residual Deviance: 89910 \tAIC: 1489\n",
       "\n",
       "[[65]]\n",
       "\n",
       "Call:  glm(formula = V2 ~ V1, data = data)\n",
       "\n",
       "Coefficients:\n",
       "(Intercept)           V1  \n",
       " -0.0000526    0.5967148  \n",
       "\n",
       "Degrees of Freedom: 1330 Total (i.e. Null);  1329 Residual\n",
       "Null Deviance:\t    0.2532 \n",
       "Residual Deviance: 0.1715 \tAIC: -8138\n",
       "\n",
       "[[66]]\n",
       "\n",
       "Call:  glm(formula = V2 ~ V1, data = data)\n",
       "\n",
       "Coefficients:\n",
       "(Intercept)           V1  \n",
       "  0.0001375    0.8183888  \n",
       "\n",
       "Degrees of Freedom: 1330 Total (i.e. Null);  1329 Residual\n",
       "Null Deviance:\t    0.5348 \n",
       "Residual Deviance: 0.1804 \tAIC: -8071\n",
       "\n",
       "[[67]]\n",
       "\n",
       "Call:  glm(formula = V2 ~ V1, data = data)\n",
       "\n",
       "Coefficients:\n",
       "(Intercept)           V1  \n",
       "  0.0002021    0.8096361  \n",
       "\n",
       "Degrees of Freedom: 1330 Total (i.e. Null);  1329 Residual\n",
       "Null Deviance:\t    0.7087 \n",
       "Residual Deviance: 0.3581 \tAIC: -7158\n",
       "\n",
       "[[68]]\n",
       "\n",
       "Call:  glm(formula = V2 ~ V1, data = data)\n",
       "\n",
       "Coefficients:\n",
       "(Intercept)           V1  \n",
       "  1.743e+01    1.496e-05  \n",
       "\n",
       "Degrees of Freedom: 497 Total (i.e. Null);  496 Residual\n",
       "Null Deviance:\t    814200 \n",
       "Residual Deviance: 404800 \tAIC: 4756\n",
       "\n",
       "[[69]]\n",
       "\n",
       "Call:  glm(formula = V2 ~ V1, data = data)\n",
       "\n",
       "Coefficients:\n",
       "(Intercept)           V1  \n",
       "    -28.269        1.942  \n",
       "\n",
       "Degrees of Freedom: 16381 Total (i.e. Null);  16380 Residual\n",
       "Null Deviance:\t    1046000 \n",
       "Residual Deviance: 902900 \tAIC: 112200\n",
       "\n",
       "[[70]]\n",
       "\n",
       "Call:  glm(formula = V2 ~ V1, data = data)\n",
       "\n",
       "Coefficients:\n",
       "(Intercept)           V1  \n",
       "    0.12488      0.07018  \n",
       "\n",
       "Degrees of Freedom: 4498 Total (i.e. Null);  4497 Residual\n",
       "Null Deviance:\t    1064 \n",
       "Residual Deviance: 650.3 \tAIC: 4072\n",
       "\n",
       "[[71]]\n",
       "NULL\n",
       "\n",
       "[[72]]\n",
       "\n",
       "Call:  glm(formula = V2 ~ V1, data = data)\n",
       "\n",
       "Coefficients:\n",
       "(Intercept)           V1  \n",
       "  -0.152178     0.001039  \n",
       "\n",
       "Degrees of Freedom: 1631 Total (i.e. Null);  1630 Residual\n",
       "Null Deviance:\t    257.1 \n",
       "Residual Deviance: 253 \tAIC: 1595\n",
       "\n",
       "[[73]]\n",
       "\n",
       "Call:  glm(formula = V2 ~ V1, data = data)\n",
       "\n",
       "Coefficients:\n",
       "(Intercept)           V1  \n",
       "      686.3        264.3  \n",
       "\n",
       "Degrees of Freedom: 5083 Total (i.e. Null);  5082 Residual\n",
       "Null Deviance:\t    3.191e+10 \n",
       "Residual Deviance: 9.294e+09 \tAIC: 87740\n",
       "\n",
       "[[74]]\n",
       "\n",
       "Call:  glm(formula = V2 ~ V1, data = data)\n",
       "\n",
       "Coefficients:\n",
       "(Intercept)           V1  \n",
       "  64.085705     0.000376  \n",
       "\n",
       "Degrees of Freedom: 193 Total (i.e. Null);  192 Residual\n",
       "Null Deviance:\t    20250 \n",
       "Residual Deviance: 13400 \tAIC: 1378\n",
       "\n",
       "[[75]]\n",
       "\n",
       "Call:  glm(formula = V2 ~ V1, data = data)\n",
       "\n",
       "Coefficients:\n",
       "(Intercept)           V1  \n",
       "    16811.4       -127.9  \n",
       "\n",
       "Degrees of Freedom: 204 Total (i.e. Null);  203 Residual\n",
       "Null Deviance:\t    4.995e+10 \n",
       "Residual Deviance: 3.971e+10 \tAIC: 4500\n",
       "\n",
       "[[76]]\n",
       "\n",
       "Call:  glm(formula = V2 ~ V1, data = data)\n",
       "\n",
       "Coefficients:\n",
       "(Intercept)           V1  \n",
       "   -0.04073      1.14354  \n",
       "\n",
       "Degrees of Freedom: 346 Total (i.e. Null);  345 Residual\n",
       "Null Deviance:\t    2535 \n",
       "Residual Deviance: 643.4 \tAIC: 1205\n",
       "\n",
       "[[77]]\n",
       "\n",
       "Call:  glm(formula = V2 ~ V1, data = data)\n",
       "\n",
       "Coefficients:\n",
       "(Intercept)           V1  \n",
       "     1842.0        205.2  \n",
       "\n",
       "Degrees of Freedom: 8400 Total (i.e. Null);  8399 Residual\n",
       "Null Deviance:\t    4.058e+10 \n",
       "Residual Deviance: 2.274e+10 \tAIC: 148300\n",
       "\n",
       "[[78]]\n",
       "\n",
       "Call:  glm(formula = V2 ~ V1, data = data)\n",
       "\n",
       "Coefficients:\n",
       "(Intercept)           V1  \n",
       "    3.59668      0.01543  \n",
       "\n",
       "Degrees of Freedom: 720 Total (i.e. Null);  719 Residual\n",
       "Null Deviance:\t    59370 \n",
       "Residual Deviance: 20810 \tAIC: 4476\n",
       "\n",
       "[[79]]\n",
       "\n",
       "Call:  glm(formula = V2 ~ V1, data = data)\n",
       "\n",
       "Coefficients:\n",
       "(Intercept)           V1  \n",
       "      44.29        15.61  \n",
       "\n",
       "Degrees of Freedom: 720 Total (i.e. Null);  719 Residual\n",
       "Null Deviance:\t    20580000 \n",
       "Residual Deviance: 6125000 \tAIC: 8575\n",
       "\n",
       "[[80]]\n",
       "\n",
       "Call:  glm(formula = V2 ~ V1, data = data)\n",
       "\n",
       "Coefficients:\n",
       "(Intercept)           V1  \n",
       "      27.65        26.49  \n",
       "\n",
       "Degrees of Freedom: 720 Total (i.e. Null);  719 Residual\n",
       "Null Deviance:\t    115900000 \n",
       "Residual Deviance: 74230000 \tAIC: 10370\n",
       "\n",
       "[[81]]\n",
       "\n",
       "Call:  glm(formula = V2 ~ V1, data = data)\n",
       "\n",
       "Coefficients:\n",
       "(Intercept)           V1  \n",
       "     1.0012       0.1916  \n",
       "\n",
       "Degrees of Freedom: 294 Total (i.e. Null);  293 Residual\n",
       "Null Deviance:\t    696.2 \n",
       "Residual Deviance: 395.3 \tAIC: 929.5\n",
       "\n",
       "[[82]]\n",
       "\n",
       "Call:  glm(formula = V2 ~ V1, data = data)\n",
       "\n",
       "Coefficients:\n",
       "(Intercept)           V1  \n",
       "     0.6060       0.1867  \n",
       "\n",
       "Degrees of Freedom: 271 Total (i.e. Null);  270 Residual\n",
       "Null Deviance:\t    961 \n",
       "Residual Deviance: 471.9 \tAIC: 927.8\n",
       "\n",
       "[[83]]\n",
       "\n",
       "Call:  glm(formula = V2 ~ V1, data = data)\n",
       "\n",
       "Coefficients:\n",
       "(Intercept)           V1  \n",
       "      1.346        0.172  \n",
       "\n",
       "Degrees of Freedom: 257 Total (i.e. Null);  256 Residual\n",
       "Null Deviance:\t    1084 \n",
       "Residual Deviance: 358.2 \tAIC: 822.9\n",
       "\n",
       "[[84]]\n",
       "\n",
       "Call:  glm(formula = V2 ~ V1, data = data)\n",
       "\n",
       "Coefficients:\n",
       "(Intercept)           V1  \n",
       "     1.2381       0.9662  \n",
       "\n",
       "Degrees of Freedom: 3101 Total (i.e. Null);  3100 Residual\n",
       "Null Deviance:\t    5309 \n",
       "Residual Deviance: 55.7 \tAIC: -3661\n",
       "\n",
       "[[85]]\n",
       "\n",
       "Call:  glm(formula = V2 ~ V1, data = data)\n",
       "\n",
       "Coefficients:\n",
       "(Intercept)           V1  \n",
       "    3.52926     -0.01672  \n",
       "\n",
       "Degrees of Freedom: 993 Total (i.e. Null);  992 Residual\n",
       "Null Deviance:\t    107.8 \n",
       "Residual Deviance: 103.3 \tAIC: 576.3\n",
       "\n",
       "[[86]]\n",
       "\n",
       "Call:  glm(formula = V2 ~ V1, data = data)\n",
       "\n",
       "Coefficients:\n",
       "(Intercept)           V1  \n",
       "    178.265        5.184  \n",
       "\n",
       "Degrees of Freedom: 665 Total (i.e. Null);  664 Residual\n",
       "Null Deviance:\t    3334000 \n",
       "Residual Deviance: 1999000 \tAIC: 7229\n",
       "\n",
       "[[87]]\n",
       "\n",
       "Call:  glm(formula = V2 ~ V1, data = data)\n",
       "\n",
       "Coefficients:\n",
       "(Intercept)           V1  \n",
       "     3.9193      -0.3012  \n",
       "\n",
       "Degrees of Freedom: 7752 Total (i.e. Null);  7751 Residual\n",
       "Null Deviance:\t    600600 \n",
       "Residual Deviance: 569500 \tAIC: 55320\n",
       "\n",
       "[[88]]\n",
       "\n",
       "Call:  glm(formula = V2 ~ V1, data = data)\n",
       "\n",
       "Coefficients:\n",
       "(Intercept)           V1  \n",
       "   0.120726    -0.005263  \n",
       "\n",
       "Degrees of Freedom: 260 Total (i.e. Null);  259 Residual\n",
       "Null Deviance:\t    0.5597 \n",
       "Residual Deviance: 0.4268 \tAIC: -927.9\n",
       "\n",
       "[[89]]\n",
       "\n",
       "Call:  glm(formula = V2 ~ V1, data = data)\n",
       "\n",
       "Coefficients:\n",
       "(Intercept)           V1  \n",
       "     1.8264       0.3856  \n",
       "\n",
       "Degrees of Freedom: 130 Total (i.e. Null);  129 Residual\n",
       "Null Deviance:\t    910.8 \n",
       "Residual Deviance: 538.8 \tAIC: 563\n",
       "\n",
       "[[90]]\n",
       "\n",
       "Call:  glm(formula = V2 ~ V1, data = data)\n",
       "\n",
       "Coefficients:\n",
       "(Intercept)           V1  \n",
       "      4.326        0.271  \n",
       "\n",
       "Degrees of Freedom: 125 Total (i.e. Null);  124 Residual\n",
       "Null Deviance:\t    2150 \n",
       "Residual Deviance: 1793 \tAIC: 698.1\n",
       "\n",
       "[[91]]\n",
       "\n",
       "Call:  glm(formula = V2 ~ V1, data = data)\n",
       "\n",
       "Coefficients:\n",
       "(Intercept)           V1  \n",
       "   15.85423      0.03611  \n",
       "\n",
       "Degrees of Freedom: 148 Total (i.e. Null);  147 Residual\n",
       "Null Deviance:\t    14290 \n",
       "Residual Deviance: 6345 \tAIC: 987.8\n",
       "\n",
       "[[92]]\n",
       "\n",
       "Call:  glm(formula = V2 ~ V1, data = data)\n",
       "\n",
       "Coefficients:\n",
       "(Intercept)           V1  \n",
       "     -65.83         8.77  \n",
       "\n",
       "Degrees of Freedom: 149 Total (i.e. Null);  148 Residual\n",
       "Null Deviance:\t    6161000 \n",
       "Residual Deviance: 1525000 \tAIC: 1816\n",
       "\n",
       "[[93]]\n",
       "\n",
       "Call:  glm(formula = V2 ~ V1, data = data)\n",
       "\n",
       "Coefficients:\n",
       "(Intercept)           V1  \n",
       "    -1.2137       0.8297  \n",
       "\n",
       "Degrees of Freedom: 431 Total (i.e. Null);  430 Residual\n",
       "Null Deviance:\t    318.2 \n",
       "Residual Deviance: 74.89 \tAIC: 474.9\n",
       "\n",
       "[[94]]\n",
       "\n",
       "Call:  glm(formula = V2 ~ V1, data = data)\n",
       "\n",
       "Coefficients:\n",
       "(Intercept)           V1  \n",
       "   17.10517      0.02957  \n",
       "\n",
       "Degrees of Freedom: 9503 Total (i.e. Null);  9502 Residual\n",
       "Null Deviance:\t    980600 \n",
       "Residual Deviance: 980200 \tAIC: 71040\n",
       "\n",
       "[[95]]\n",
       "\n",
       "Call:  glm(formula = V2 ~ V1, data = data)\n",
       "\n",
       "Coefficients:\n",
       "(Intercept)           V1  \n",
       "    450.742        1.405  \n",
       "\n",
       "Degrees of Freedom: 9503 Total (i.e. Null);  9502 Residual\n",
       "Null Deviance:\t    27620000 \n",
       "Residual Deviance: 26720000 \tAIC: 102500\n",
       "\n",
       "[[96]]\n",
       "(Intercept)          V1 \n",
       " 431.266700    2.042488 \n",
       "\n",
       "[[97]]\n",
       "\n",
       "Call:  glm(formula = V2 ~ V1, data = data)\n",
       "\n",
       "Coefficients:\n",
       "(Intercept)           V1  \n",
       " -0.0002539    0.6965261  \n",
       "\n",
       "Degrees of Freedom: 201 Total (i.e. Null);  200 Residual\n",
       "Null Deviance:\t    2.56e-05 \n",
       "Residual Deviance: 2.14e-05 \tAIC: -2665\n",
       "\n",
       "[[98]]\n",
       "\n",
       "Call:  glm(formula = V2 ~ V1, data = data)\n",
       "\n",
       "Coefficients:\n",
       "(Intercept)           V1  \n",
       " -0.0001235    0.2747041  \n",
       "\n",
       "Degrees of Freedom: 93 Total (i.e. Null);  92 Residual\n",
       "Null Deviance:\t    1.211e-05 \n",
       "Residual Deviance: 7.657e-07 \tAIC: -1478\n",
       "\n",
       "[[99]]\n",
       "\n",
       "Call:  glm(formula = V2 ~ V1, data = data)\n",
       "\n",
       "Coefficients:\n",
       "(Intercept)           V1  \n",
       "    10.1907       0.4305  \n",
       "\n",
       "Degrees of Freedom: 2286 Total (i.e. Null);  2285 Residual\n",
       "Null Deviance:\t    272000 \n",
       "Residual Deviance: 237600 \tAIC: 17120\n",
       "\n",
       "[[100]]\n",
       "\n",
       "Call:  glm(formula = V2 ~ V1, data = data)\n",
       "\n",
       "Coefficients:\n",
       "(Intercept)           V1  \n",
       "     7.4021      -0.7088  \n",
       "\n",
       "Degrees of Freedom: 208 Total (i.e. Null);  207 Residual\n",
       "Null Deviance:\t    228.6 \n",
       "Residual Deviance: 116 \tAIC: 476.1\n",
       "\n",
       "[[101]]\n",
       "\n",
       "Call:  glm(formula = V2 ~ V1, data = data)\n",
       "\n",
       "Coefficients:\n",
       "(Intercept)           V1  \n",
       "    15.8350       0.2991  \n",
       "\n",
       "Degrees of Freedom: 299 Total (i.e. Null);  298 Residual\n",
       "Null Deviance:\t    204700 \n",
       "Residual Deviance: 14870 \tAIC: 2028\n",
       "\n",
       "[[102]]\n",
       "\n",
       "Call:  glm(formula = V2 ~ V1, data = data)\n",
       "\n",
       "Coefficients:\n",
       "(Intercept)           V1  \n",
       "  131.34629      0.05848  \n",
       "\n",
       "Degrees of Freedom: 108 Total (i.e. Null);  107 Residual\n",
       "Null Deviance:\t    67100 \n",
       "Residual Deviance: 52300 \tAIC: 988.2\n",
       "\n",
       "[[103]]\n",
       "\n",
       "Call:  glm(formula = V2 ~ V1, data = data)\n",
       "\n",
       "Coefficients:\n",
       "(Intercept)           V1  \n",
       "  1.879e+02    1.746e-03  \n",
       "\n",
       "Degrees of Freedom: 108 Total (i.e. Null);  107 Residual\n",
       "Null Deviance:\t    16050 \n",
       "Residual Deviance: 16040 \tAIC: 859.4\n",
       "\n",
       "[[104]]\n",
       "\n",
       "Call:  glm(formula = V2 ~ V1, data = data)\n",
       "\n",
       "Coefficients:\n",
       "(Intercept)           V1  \n",
       "  175.10242      0.08362  \n",
       "\n",
       "Degrees of Freedom: 108 Total (i.e. Null);  107 Residual\n",
       "Null Deviance:\t    16050 \n",
       "Residual Deviance: 15580 \tAIC: 856.2\n",
       "\n",
       "[[105]]\n",
       "\n",
       "Call:  glm(formula = V2 ~ V1, data = data)\n",
       "\n",
       "Coefficients:\n",
       "(Intercept)           V1  \n",
       "    54.2253       0.6378  \n",
       "\n",
       "Degrees of Freedom: 999 Total (i.e. Null);  998 Residual\n",
       "Null Deviance:\t    6898000 \n",
       "Residual Deviance: 4036000 \tAIC: 11150\n",
       "\n",
       "[[106]]\n",
       "\n",
       "Call:  glm(formula = V2 ~ V1, data = data)\n",
       "\n",
       "Coefficients:\n",
       "(Intercept)           V1  \n",
       "  793.48848     -0.04683  \n",
       "\n",
       "Degrees of Freedom: 113 Total (i.e. Null);  112 Residual\n",
       "Null Deviance:\t    692300 \n",
       "Residual Deviance: 167900 \tAIC: 1161\n",
       "\n",
       "[[107]]\n",
       "\n",
       "Call:  glm(formula = V2 ~ V1, data = data)\n",
       "\n",
       "Coefficients:\n",
       "(Intercept)           V1  \n",
       "     0.3498      15.2830  \n",
       "\n",
       "Degrees of Freedom: 239 Total (i.e. Null);  238 Residual\n",
       "Null Deviance:\t    37.18 \n",
       "Residual Deviance: 30.99 \tAIC: 195.8\n",
       "\n",
       "[[108]]\n",
       "\n",
       "Call:  glm(formula = V2 ~ V1, data = data)\n",
       "\n",
       "Coefficients:\n",
       "(Intercept)           V1  \n",
       "   85.52252     -0.01672  \n",
       "\n",
       "Degrees of Freedom: 111 Total (i.e. Null);  110 Residual\n",
       "Null Deviance:\t    214 \n",
       "Residual Deviance: 91.43 \tAIC: 301.1\n"
      ]
     },
     "metadata": {},
     "output_type": "display_data"
    }
   ],
   "source": [
    "forward_models"
   ]
  },
  {
   "cell_type": "code",
   "execution_count": 691,
   "metadata": {},
   "outputs": [
    {
     "data": {
      "text/plain": [
       "[[1]]\n",
       "\n",
       "Call:  glm(formula = V1 ~ V2, data = data)\n",
       "\n",
       "Coefficients:\n",
       "(Intercept)           V2  \n",
       "     1888.7       -193.5  \n",
       "\n",
       "Degrees of Freedom: 348 Total (i.e. Null);  347 Residual\n",
       "Null Deviance:\t    40060000 \n",
       "Residual Deviance: 10010000 \tAIC: 4579\n",
       "\n",
       "[[2]]\n",
       "\n",
       "Call:  glm(formula = V1 ~ V2, data = data)\n",
       "\n",
       "Coefficients:\n",
       "(Intercept)           V2  \n",
       "  -371.7358       0.8081  \n",
       "\n",
       "Degrees of Freedom: 348 Total (i.e. Null);  347 Residual\n",
       "Null Deviance:\t    40060000 \n",
       "Residual Deviance: 16930000 \tAIC: 4762\n",
       "\n",
       "[[3]]\n",
       "\n",
       "Call:  glm(formula = V1 ~ V2, data = data)\n",
       "\n",
       "Coefficients:\n",
       "(Intercept)           V2  \n",
       "    12.4449      -0.3079  \n",
       "\n",
       "Degrees of Freedom: 348 Total (i.e. Null);  347 Residual\n",
       "Null Deviance:\t    1345 \n",
       "Residual Deviance: 1269 \tAIC: 1447\n",
       "\n",
       "[[4]]\n",
       "\n",
       "Call:  glm(formula = V1 ~ V2, data = data)\n",
       "\n",
       "Coefficients:\n",
       "(Intercept)           V2  \n",
       "  -270.7154       0.3926  \n",
       "\n",
       "Degrees of Freedom: 348 Total (i.e. Null);  347 Residual\n",
       "Null Deviance:\t    40060000 \n",
       "Residual Deviance: 39190000 \tAIC: 5055\n",
       "\n",
       "[[5]]\n",
       "\n",
       "Call:  glm(formula = V1 ~ V2, data = data)\n",
       "\n",
       "Coefficients:\n",
       "(Intercept)           V2  \n",
       "      2.102       14.946  \n",
       "\n",
       "Degrees of Freedom: 4176 Total (i.e. Null);  4175 Residual\n",
       "Null Deviance:\t    43410 \n",
       "Residual Deviance: 29960 \tAIC: 20090\n",
       "\n",
       "[[6]]\n",
       "\n",
       "Call:  glm(formula = V1 ~ V2, data = data)\n",
       "\n",
       "Coefficients:\n",
       "(Intercept)           V2  \n",
       "      6.462       14.536  \n",
       "\n",
       "Degrees of Freedom: 4176 Total (i.e. Null);  4175 Residual\n",
       "Null Deviance:\t    43410 \n",
       "Residual Deviance: 26310 \tAIC: 19550\n",
       "\n",
       "[[7]]\n",
       "NULL\n",
       "\n",
       "[[8]]\n",
       "NULL\n",
       "\n",
       "[[9]]\n",
       "\n",
       "Call:  glm(formula = V1 ~ V2, data = data)\n",
       "\n",
       "Coefficients:\n",
       "(Intercept)           V2  \n",
       "      6.989        3.553  \n",
       "\n",
       "Degrees of Freedom: 4176 Total (i.e. Null);  4175 Residual\n",
       "Null Deviance:\t    43410 \n",
       "Residual Deviance: 30730 \tAIC: 20200\n",
       "\n",
       "[[10]]\n",
       "\n",
       "Call:  glm(formula = V1 ~ V2, data = data)\n",
       "\n",
       "Coefficients:\n",
       "(Intercept)           V2  \n",
       "      7.737        6.114  \n",
       "\n",
       "Degrees of Freedom: 4176 Total (i.e. Null);  4175 Residual\n",
       "Null Deviance:\t    43410 \n",
       "Residual Deviance: 35720 \tAIC: 20820\n",
       "\n",
       "[[11]]\n",
       "\n",
       "Call:  glm(formula = V1 ~ V2, data = data)\n",
       "\n",
       "Coefficients:\n",
       "(Intercept)           V2  \n",
       "      7.257       14.819  \n",
       "\n",
       "Degrees of Freedom: 4176 Total (i.e. Null);  4175 Residual\n",
       "Null Deviance:\t    43410 \n",
       "Residual Deviance: 32390 \tAIC: 20420\n",
       "\n",
       "[[12]]\n",
       "\n",
       "Call:  glm(formula = V1 ~ V2, data = data)\n",
       "\n",
       "Coefficients:\n",
       "(Intercept)           V2  \n",
       "  32.579447     0.004491  \n",
       "\n",
       "Degrees of Freedom: 4999 Total (i.e. Null);  4998 Residual\n",
       "Null Deviance:\t    861900 \n",
       "Residual Deviance: 819100 \tAIC: 39690\n",
       "\n",
       "[[13]]\n",
       "\n",
       "Call:  glm(formula = V1 ~ V2, data = data)\n",
       "\n",
       "Coefficients:\n",
       "(Intercept)           V2  \n",
       "     447.50       -10.79  \n",
       "\n",
       "Degrees of Freedom: 391 Total (i.e. Null);  390 Residual\n",
       "Null Deviance:\t    4282000 \n",
       "Residual Deviance: 1506000 \tAIC: 4354\n",
       "\n",
       "[[14]]\n",
       "\n",
       "Call:  glm(formula = V1 ~ V2, data = data)\n",
       "\n",
       "Coefficients:\n",
       "(Intercept)           V2  \n",
       "    194.476       -3.839  \n",
       "\n",
       "Degrees of Freedom: 391 Total (i.e. Null);  390 Residual\n",
       "Null Deviance:\t    579300 \n",
       "Residual Deviance: 228300 \tAIC: 3614\n",
       "\n",
       "[[15]]\n",
       "\n",
       "Call:  glm(formula = V1 ~ V2, data = data)\n",
       "\n",
       "Coefficients:\n",
       "(Intercept)           V2  \n",
       "    5101.11       -90.57  \n",
       "\n",
       "Degrees of Freedom: 391 Total (i.e. Null);  390 Residual\n",
       "Null Deviance:\t    282100000 \n",
       "Residual Deviance: 86710000 \tAIC: 5943\n",
       "\n",
       "[[16]]\n",
       "\n",
       "Call:  glm(formula = V1 ~ V2, data = data)\n",
       "\n",
       "Coefficients:\n",
       "(Intercept)           V2  \n",
       "    253.907       -9.616  \n",
       "\n",
       "Degrees of Freedom: 391 Total (i.e. Null);  390 Residual\n",
       "Null Deviance:\t    579300 \n",
       "Residual Deviance: 304100 \tAIC: 3727\n",
       "\n",
       "[[17]]\n",
       "\n",
       "Call:  glm(formula = V1 ~ V2, data = data)\n",
       "\n",
       "Coefficients:\n",
       "(Intercept)           V2  \n",
       "  4.924e+01    4.694e-04  \n",
       "\n",
       "Degrees of Freedom: 4999 Total (i.e. Null);  4998 Residual\n",
       "Null Deviance:\t    1280000 \n",
       "Residual Deviance: 1244000 \tAIC: 41780\n",
       "\n",
       "[[18]]\n",
       "\n",
       "Call:  glm(formula = V1 ~ V2, data = data)\n",
       "\n",
       "Coefficients:\n",
       "(Intercept)           V2  \n",
       "    10.4302      -0.3909  \n",
       "\n",
       "Degrees of Freedom: 313 Total (i.e. Null);  312 Residual\n",
       "Null Deviance:\t    7775 \n",
       "Residual Deviance: 3908 \tAIC: 1689\n",
       "\n",
       "[[19]]\n",
       "\n",
       "Call:  glm(formula = V1 ~ V2, data = data)\n",
       "\n",
       "Coefficients:\n",
       "(Intercept)           V2  \n",
       "    -1.9999       0.0797  \n",
       "\n",
       "Degrees of Freedom: 193 Total (i.e. Null);  192 Residual\n",
       "Null Deviance:\t    288.1 \n",
       "Residual Deviance: 64.11 \tAIC: 341.7\n",
       "\n",
       "[[20]]\n",
       "\n",
       "Call:  glm(formula = V1 ~ V2, data = data)\n",
       "\n",
       "Coefficients:\n",
       "(Intercept)           V2  \n",
       "    47.6180       0.3763  \n",
       "\n",
       "Degrees of Freedom: 348 Total (i.e. Null);  347 Residual\n",
       "Null Deviance:\t    1515 \n",
       "Residual Deviance: 1401 \tAIC: 1482\n",
       "\n",
       "[[21]]\n",
       "\n",
       "Call:  glm(formula = V1 ~ V2, data = data)\n",
       "\n",
       "Coefficients:\n",
       "(Intercept)           V2  \n",
       " 10.6309290   -0.0007596  \n",
       "\n",
       "Degrees of Freedom: 348 Total (i.e. Null);  347 Residual\n",
       "Null Deviance:\t    1345 \n",
       "Residual Deviance: 1324 \tAIC: 1462\n",
       "\n",
       "[[22]]\n",
       "\n",
       "Call:  glm(formula = V1 ~ V2, data = data)\n",
       "\n",
       "Coefficients:\n",
       "(Intercept)           V2  \n",
       "   -15.4007       0.3789  \n",
       "\n",
       "Degrees of Freedom: 449 Total (i.e. Null);  448 Residual\n",
       "Null Deviance:\t    118000 \n",
       "Residual Deviance: 111100 \tAIC: 3762\n",
       "\n",
       "[[23]]\n",
       "\n",
       "Call:  glm(formula = V1 ~ V2, data = data)\n",
       "\n",
       "Coefficients:\n",
       "(Intercept)           V2  \n",
       "    20.6552       0.3787  \n",
       "\n",
       "Degrees of Freedom: 451 Total (i.e. Null);  450 Residual\n",
       "Null Deviance:\t    122300 \n",
       "Residual Deviance: 104500 \tAIC: 3749\n",
       "\n",
       "[[24]]\n",
       "\n",
       "Call:  glm(formula = V1 ~ V2, data = data)\n",
       "\n",
       "Coefficients:\n",
       "(Intercept)           V2  \n",
       "    63.3508      -0.2275  \n",
       "\n",
       "Degrees of Freedom: 450 Total (i.e. Null);  449 Residual\n",
       "Null Deviance:\t    121500 \n",
       "Residual Deviance: 117000 \tAIC: 3793\n",
       "\n",
       "[[25]]\n",
       "\n",
       "Call:  glm(formula = V1 ~ V2, data = data)\n",
       "\n",
       "Coefficients:\n",
       "(Intercept)           V2  \n",
       "    169.620        3.114  \n",
       "\n",
       "Degrees of Freedom: 1029 Total (i.e. Null);  1028 Residual\n",
       "Null Deviance:\t    11240000 \n",
       "Residual Deviance: 8453000 \tAIC: 12210\n",
       "\n",
       "[[26]]\n",
       "\n",
       "Call:  glm(formula = V1 ~ V2, data = data)\n",
       "\n",
       "Coefficients:\n",
       "(Intercept)           V2  \n",
       "    48.9541       0.6963  \n",
       "\n",
       "Degrees of Freedom: 1029 Total (i.e. Null);  1028 Residual\n",
       "Null Deviance:\t    7660000 \n",
       "Residual Deviance: 7521000 \tAIC: 12090\n",
       "\n",
       "[[27]]\n",
       "\n",
       "Call:  glm(formula = V1 ~ V2, data = data)\n",
       "\n",
       "Coefficients:\n",
       "(Intercept)           V2  \n",
       "    68.6993      -0.4051  \n",
       "\n",
       "Degrees of Freedom: 1029 Total (i.e. Null);  1028 Residual\n",
       "Null Deviance:\t    4214000 \n",
       "Residual Deviance: 4167000 \tAIC: 11480\n",
       "\n",
       "[[28]]\n",
       "\n",
       "Call:  glm(formula = V1 ~ V2, data = data)\n",
       "\n",
       "Coefficients:\n",
       "(Intercept)           V2  \n",
       "   194.8280      -0.3702  \n",
       "\n",
       "Degrees of Freedom: 1029 Total (i.e. Null);  1028 Residual\n",
       "Null Deviance:\t    469200 \n",
       "Residual Deviance: 429900 \tAIC: 9144\n",
       "\n",
       "[[29]]\n",
       "\n",
       "Call:  glm(formula = V1 ~ V2, data = data)\n",
       "\n",
       "Coefficients:\n",
       "(Intercept)           V2  \n",
       "     1.5158       0.1309  \n",
       "\n",
       "Degrees of Freedom: 1029 Total (i.e. Null);  1028 Residual\n",
       "Null Deviance:\t    36720 \n",
       "Residual Deviance: 31800 \tAIC: 6462\n",
       "\n",
       "[[30]]\n",
       "\n",
       "Call:  glm(formula = V1 ~ V2, data = data)\n",
       "\n",
       "Coefficients:\n",
       "(Intercept)           V2  \n",
       "  1000.4149      -0.7677  \n",
       "\n",
       "Degrees of Freedom: 1029 Total (i.e. Null);  1028 Residual\n",
       "Null Deviance:\t    6221000 \n",
       "Residual Deviance: 6052000 \tAIC: 11870\n",
       "\n",
       "[[31]]\n",
       "\n",
       "Call:  glm(formula = V1 ~ V2, data = data)\n",
       "\n",
       "Coefficients:\n",
       "(Intercept)           V2  \n",
       "   802.3295      -0.8026  \n",
       "\n",
       "Degrees of Freedom: 1029 Total (i.e. Null);  1028 Residual\n",
       "Null Deviance:\t    6615000 \n",
       "Residual Deviance: 6430000 \tAIC: 11930\n",
       "\n",
       "[[32]]\n",
       "\n",
       "Call:  glm(formula = V1 ~ V2, data = data)\n",
       "\n",
       "Coefficients:\n",
       "(Intercept)           V2  \n",
       "      1.120        1.244  \n",
       "\n",
       "Degrees of Freedom: 1029 Total (i.e. Null);  1028 Residual\n",
       "Null Deviance:\t    4106000 \n",
       "Residual Deviance: 3662000 \tAIC: 11350\n",
       "\n",
       "[[33]]\n",
       "\n",
       "Call:  glm(formula = V1 ~ V2, data = data)\n",
       "\n",
       "Coefficients:\n",
       "(Intercept)           V2  \n",
       "   -17.6994       0.2346  \n",
       "\n",
       "Degrees of Freedom: 344 Total (i.e. Null);  343 Residual\n",
       "Null Deviance:\t    3833 \n",
       "Residual Deviance: 3458 \tAIC: 1780\n",
       "\n",
       "[[34]]\n",
       "\n",
       "Call:  glm(formula = V1 ~ V2, data = data)\n",
       "\n",
       "Coefficients:\n",
       "(Intercept)           V2  \n",
       "    2.17388      0.01834  \n",
       "\n",
       "Degrees of Freedom: 344 Total (i.e. Null);  343 Residual\n",
       "Null Deviance:\t    3833 \n",
       "Residual Deviance: 3794 \tAIC: 1812\n",
       "\n",
       "[[35]]\n",
       "\n",
       "Call:  glm(formula = V1 ~ V2, data = data)\n",
       "\n",
       "Coefficients:\n",
       "(Intercept)           V2  \n",
       "    2.37919      0.03538  \n",
       "\n",
       "Degrees of Freedom: 344 Total (i.e. Null);  343 Residual\n",
       "Null Deviance:\t    3833 \n",
       "Residual Deviance: 3669 \tAIC: 1801\n",
       "\n",
       "[[36]]\n",
       "\n",
       "Call:  glm(formula = V1 ~ V2, data = data)\n",
       "\n",
       "Coefficients:\n",
       "(Intercept)           V2  \n",
       "    1.17004      0.09272  \n",
       "\n",
       "Degrees of Freedom: 344 Total (i.e. Null);  343 Residual\n",
       "Null Deviance:\t    3833 \n",
       "Residual Deviance: 3533 \tAIC: 1788\n",
       "\n",
       "[[37]]\n",
       "\n",
       "Call:  glm(formula = V1 ~ V2, data = data)\n",
       "\n",
       "Coefficients:\n",
       "(Intercept)           V2  \n",
       "    2.34428      0.02901  \n",
       "\n",
       "Degrees of Freedom: 344 Total (i.e. Null);  343 Residual\n",
       "Null Deviance:\t    3833 \n",
       "Residual Deviance: 3386 \tAIC: 1773\n",
       "\n",
       "[[38]]\n",
       "\n",
       "Call:  glm(formula = V1 ~ V2, data = data)\n",
       "\n",
       "Coefficients:\n",
       "(Intercept)           V2  \n",
       "   31.86455      0.04365  \n",
       "\n",
       "Degrees of Freedom: 756 Total (i.e. Null);  755 Residual\n",
       "Null Deviance:\t    103400 \n",
       "Residual Deviance: 103400 \tAIC: 5876\n",
       "\n",
       "[[39]]\n",
       "\n",
       "Call:  glm(formula = V1 ~ V2, data = data)\n",
       "\n",
       "Coefficients:\n",
       "(Intercept)           V2  \n",
       "   27.87280      0.01891  \n",
       "\n",
       "Degrees of Freedom: 393 Total (i.e. Null);  392 Residual\n",
       "Null Deviance:\t    40880 \n",
       "Residual Deviance: 38900 \tAIC: 2933\n",
       "\n",
       "[[40]]\n",
       "\n",
       "Call:  glm(formula = V1 ~ V2, data = data)\n",
       "\n",
       "Coefficients:\n",
       "(Intercept)           V2  \n",
       "    10.5122       0.3156  \n",
       "\n",
       "Degrees of Freedom: 732 Total (i.e. Null);  731 Residual\n",
       "Null Deviance:\t    102600 \n",
       "Residual Deviance: 91390 \tAIC: 5623\n",
       "\n",
       "[[41]]\n",
       "\n",
       "Call:  glm(formula = V1 ~ V2, data = data)\n",
       "\n",
       "Coefficients:\n",
       "(Intercept)           V2  \n",
       "     20.739        0.103  \n",
       "\n",
       "Degrees of Freedom: 762 Total (i.e. Null);  761 Residual\n",
       "Null Deviance:\t    105600 \n",
       "Residual Deviance: 98070 \tAIC: 5877\n",
       "\n",
       "[[42]]\n",
       "\n",
       "Call:  glm(formula = V1 ~ V2, data = data)\n",
       "\n",
       "Coefficients:\n",
       "(Intercept)           V2  \n",
       "    165.704        2.971  \n",
       "\n",
       "Degrees of Freedom: 9161 Total (i.e. Null);  9160 Residual\n",
       "Null Deviance:\t    102400000 \n",
       "Residual Deviance: 98210000 \tAIC: 111000\n",
       "\n",
       "[[43]]\n",
       "\n",
       "Call:  glm(formula = V1 ~ V2, data = data)\n",
       "\n",
       "Coefficients:\n",
       "(Intercept)           V2  \n",
       "     0.3306       0.9987  \n",
       "\n",
       "Degrees of Freedom: 10368 Total (i.e. Null);  10367 Residual\n",
       "Null Deviance:\t    4752000 \n",
       "Residual Deviance: 50600 \tAIC: 45870\n",
       "\n",
       "[[44]]\n",
       "\n",
       "Call:  glm(formula = V1 ~ V2, data = data)\n",
       "\n",
       "Coefficients:\n",
       "(Intercept)           V2  \n",
       "   285.6689       0.9972  \n",
       "\n",
       "Degrees of Freedom: 10368 Total (i.e. Null);  10367 Residual\n",
       "Null Deviance:\t    1.027e+12 \n",
       "Residual Deviance: 2.371e+09 \tAIC: 157400\n",
       "\n",
       "[[45]]\n",
       "\n",
       "Call:  glm(formula = V1 ~ V2, data = data)\n",
       "\n",
       "Coefficients:\n",
       "(Intercept)           V2  \n",
       "   -299.936        1.003  \n",
       "\n",
       "Degrees of Freedom: 10368 Total (i.e. Null);  10367 Residual\n",
       "Null Deviance:\t    2.178e+10 \n",
       "Residual Deviance: 2.822e+09 \tAIC: 159200\n",
       "\n",
       "[[46]]\n",
       "\n",
       "Call:  glm(formula = V1 ~ V2, data = data)\n",
       "\n",
       "Coefficients:\n",
       "(Intercept)           V2  \n",
       "    18.8318       0.7738  \n",
       "\n",
       "Degrees of Freedom: 10368 Total (i.e. Null);  10367 Residual\n",
       "Null Deviance:\t    4604000 \n",
       "Residual Deviance: 1370000 \tAIC: 80070\n",
       "\n",
       "[[47]]\n",
       "\n",
       "Call:  glm(formula = V1 ~ V2, data = data)\n",
       "\n",
       "Coefficients:\n",
       "(Intercept)           V2  \n",
       "       4541         4512  \n",
       "\n",
       "Degrees of Freedom: 253 Total (i.e. Null);  252 Residual\n",
       "Null Deviance:\t    2.117e+10 \n",
       "Residual Deviance: 1.987e+10 \tAIC: 5343\n",
       "\n",
       "[[48]]\n",
       "\n",
       "Call:  glm(formula = V1 ~ V2, data = data)\n",
       "\n",
       "Coefficients:\n",
       "(Intercept)           V2  \n",
       "    22.4359       0.1063  \n",
       "\n",
       "Degrees of Freedom: 167 Total (i.e. Null);  166 Residual\n",
       "Null Deviance:\t    367.3 \n",
       "Residual Deviance: 294.9 \tAIC: 577.3\n",
       "\n",
       "[[49]]\n",
       "\n",
       "Call:  glm(formula = V1 ~ V2, data = data)\n",
       "\n",
       "Coefficients:\n",
       "(Intercept)           V2  \n",
       "     38.730        2.536  \n",
       "\n",
       "Degrees of Freedom: 364 Total (i.e. Null);  363 Residual\n",
       "Null Deviance:\t    285600 \n",
       "Residual Deviance: 140400 \tAIC: 3215\n",
       "\n",
       "[[50]]\n",
       "\n",
       "Call:  glm(formula = V1 ~ V2, data = data)\n",
       "\n",
       "Coefficients:\n",
       "(Intercept)           V2  \n",
       "     80.970        2.213  \n",
       "\n",
       "Degrees of Freedom: 364 Total (i.e. Null);  363 Residual\n",
       "Null Deviance:\t    214100 \n",
       "Residual Deviance: 108300 \tAIC: 3120\n",
       "\n",
       "[[51]]\n",
       "\n",
       "Call:  glm(formula = V1 ~ V2, data = data)\n",
       "\n",
       "Coefficients:\n",
       "(Intercept)           V2  \n",
       "     80.283        0.807  \n",
       "\n",
       "Degrees of Freedom: 364 Total (i.e. Null);  363 Residual\n",
       "Null Deviance:\t    90240 \n",
       "Residual Deviance: 76290 \tAIC: 2992\n",
       "\n",
       "[[52]]\n",
       "NULL\n",
       "\n",
       "[[53]]\n",
       "NULL\n",
       "\n",
       "[[54]]\n",
       "NULL\n",
       "\n",
       "[[55]]\n",
       "NULL\n",
       "\n",
       "[[56]]\n",
       "\n",
       "Call:  glm(formula = V1 ~ V2, data = data)\n",
       "\n",
       "Coefficients:\n",
       "(Intercept)           V2  \n",
       "    65.2695       0.2245  \n",
       "\n",
       "Degrees of Freedom: 191 Total (i.e. Null);  190 Residual\n",
       "Null Deviance:\t    26190 \n",
       "Residual Deviance: 20600 \tAIC: 1449\n",
       "\n",
       "[[57]]\n",
       "\n",
       "Call:  glm(formula = V1 ~ V2, data = data)\n",
       "\n",
       "Coefficients:\n",
       "(Intercept)           V2  \n",
       "    65.1895       0.1827  \n",
       "\n",
       "Degrees of Freedom: 191 Total (i.e. Null);  190 Residual\n",
       "Null Deviance:\t    23490 \n",
       "Residual Deviance: 19790 \tAIC: 1441\n",
       "\n",
       "[[58]]\n",
       "\n",
       "Call:  glm(formula = V1 ~ V2, data = data)\n",
       "\n",
       "Coefficients:\n",
       "(Intercept)           V2  \n",
       "    64.8044       0.1586  \n",
       "\n",
       "Degrees of Freedom: 191 Total (i.e. Null);  190 Residual\n",
       "Null Deviance:\t    22940 \n",
       "Residual Deviance: 20150 \tAIC: 1444\n",
       "\n",
       "[[59]]\n",
       "\n",
       "Call:  glm(formula = V1 ~ V2, data = data)\n",
       "\n",
       "Coefficients:\n",
       "(Intercept)           V2  \n",
       "    63.5481       0.1717  \n",
       "\n",
       "Degrees of Freedom: 191 Total (i.e. Null);  190 Residual\n",
       "Null Deviance:\t    21810 \n",
       "Residual Deviance: 18540 \tAIC: 1428\n",
       "\n",
       "[[60]]\n",
       "\n",
       "Call:  glm(formula = V1 ~ V2, data = data)\n",
       "\n",
       "Coefficients:\n",
       "(Intercept)           V2  \n",
       "    61.3280       0.1731  \n",
       "\n",
       "Degrees of Freedom: 191 Total (i.e. Null);  190 Residual\n",
       "Null Deviance:\t    21250 \n",
       "Residual Deviance: 17930 \tAIC: 1422\n",
       "\n",
       "[[61]]\n",
       "\n",
       "Call:  glm(formula = V1 ~ V2, data = data)\n",
       "\n",
       "Coefficients:\n",
       "(Intercept)           V2  \n",
       "    60.7956       0.1514  \n",
       "\n",
       "Degrees of Freedom: 191 Total (i.e. Null);  190 Residual\n",
       "Null Deviance:\t    19190 \n",
       "Residual Deviance: 16650 \tAIC: 1408\n",
       "\n",
       "[[62]]\n",
       "\n",
       "Call:  glm(formula = V1 ~ V2, data = data)\n",
       "\n",
       "Coefficients:\n",
       "(Intercept)           V2  \n",
       "    60.4007       0.1303  \n",
       "\n",
       "Degrees of Freedom: 191 Total (i.e. Null);  190 Residual\n",
       "Null Deviance:\t    18220 \n",
       "Residual Deviance: 16340 \tAIC: 1404\n",
       "\n",
       "[[63]]\n",
       "\n",
       "Call:  glm(formula = V1 ~ V2, data = data)\n",
       "\n",
       "Coefficients:\n",
       "(Intercept)           V2  \n",
       "    59.2455       0.1449  \n",
       "\n",
       "Degrees of Freedom: 191 Total (i.e. Null);  190 Residual\n",
       "Null Deviance:\t    16590 \n",
       "Residual Deviance: 14270 \tAIC: 1378\n",
       "\n",
       "[[64]]\n",
       "\n",
       "Call:  glm(formula = V1 ~ V2, data = data)\n",
       "\n",
       "Coefficients:\n",
       "(Intercept)           V2  \n",
       "    99.4241      -0.3688  \n",
       "\n",
       "Degrees of Freedom: 161 Total (i.e. Null);  160 Residual\n",
       "Null Deviance:\t    53500 \n",
       "Residual Deviance: 18930 \tAIC: 1237\n",
       "\n",
       "[[65]]\n",
       "\n",
       "Call:  glm(formula = V1 ~ V2, data = data)\n",
       "\n",
       "Coefficients:\n",
       "(Intercept)           V2  \n",
       "  0.0003441    0.5403392  \n",
       "\n",
       "Degrees of Freedom: 1330 Total (i.e. Null);  1329 Residual\n",
       "Null Deviance:\t    0.2293 \n",
       "Residual Deviance: 0.1553 \tAIC: -8270\n",
       "\n",
       "[[66]]\n",
       "\n",
       "Call:  glm(formula = V1 ~ V2, data = data)\n",
       "\n",
       "Coefficients:\n",
       "(Intercept)           V2  \n",
       " -0.0001332    0.8098369  \n",
       "\n",
       "Degrees of Freedom: 1330 Total (i.e. Null);  1329 Residual\n",
       "Null Deviance:\t    0.5292 \n",
       "Residual Deviance: 0.1785 \tAIC: -8085\n",
       "\n",
       "[[67]]\n",
       "\n",
       "Call:  glm(formula = V1 ~ V2, data = data)\n",
       "\n",
       "Coefficients:\n",
       "(Intercept)           V2  \n",
       " -8.083e-05    6.110e-01  \n",
       "\n",
       "Degrees of Freedom: 1330 Total (i.e. Null);  1329 Residual\n",
       "Null Deviance:\t    0.5348 \n",
       "Residual Deviance: 0.2702 \tAIC: -7533\n",
       "\n",
       "[[68]]\n",
       "\n",
       "Call:  glm(formula = V1 ~ V2, data = data)\n",
       "\n",
       "Coefficients:\n",
       "(Intercept)           V2  \n",
       "    -282922        33618  \n",
       "\n",
       "Degrees of Freedom: 497 Total (i.e. Null);  496 Residual\n",
       "Null Deviance:\t    1.83e+15 \n",
       "Residual Deviance: 9.1e+14 \tAIC: 15480\n",
       "\n",
       "[[69]]\n",
       "\n",
       "Call:  glm(formula = V1 ~ V2, data = data)\n",
       "\n",
       "Coefficients:\n",
       "(Intercept)           V2  \n",
       "   19.92581      0.07038  \n",
       "\n",
       "Degrees of Freedom: 16381 Total (i.e. Null);  16380 Residual\n",
       "Null Deviance:\t    37900 \n",
       "Residual Deviance: 32720 \tAIC: 57830\n",
       "\n",
       "[[70]]\n",
       "\n",
       "Call:  glm(formula = V1 ~ V2, data = data)\n",
       "\n",
       "Coefficients:\n",
       "(Intercept)           V2  \n",
       "      3.586        5.540  \n",
       "\n",
       "Degrees of Freedom: 4498 Total (i.e. Null);  4497 Residual\n",
       "Null Deviance:\t    84000 \n",
       "Residual Deviance: 51330 \tAIC: 23730\n",
       "\n",
       "[[71]]\n",
       "NULL\n",
       "\n",
       "[[72]]\n",
       "\n",
       "Call:  glm(formula = V1 ~ V2, data = data)\n",
       "\n",
       "Coefficients:\n",
       "(Intercept)           V2  \n",
       "      56.29        15.15  \n",
       "\n",
       "Degrees of Freedom: 1631 Total (i.e. Null);  1630 Residual\n",
       "Null Deviance:\t    3748000 \n",
       "Residual Deviance: 3689000 \tAIC: 17240\n",
       "\n",
       "[[73]]\n",
       "\n",
       "Call:  glm(formula = V1 ~ V2, data = data)\n",
       "\n",
       "Coefficients:\n",
       "(Intercept)           V2  \n",
       "  -0.151141     0.002682  \n",
       "\n",
       "Degrees of Freedom: 5083 Total (i.e. Null);  5082 Residual\n",
       "Null Deviance:\t    323900 \n",
       "Residual Deviance: 94330 \tAIC: 29280\n",
       "\n",
       "[[74]]\n",
       "\n",
       "Call:  glm(formula = V1 ~ V2, data = data)\n",
       "\n",
       "Coefficients:\n",
       "(Intercept)           V2  \n",
       "   -50858.9        899.7  \n",
       "\n",
       "Degrees of Freedom: 193 Total (i.e. Null);  192 Residual\n",
       "Null Deviance:\t    4.845e+10 \n",
       "Residual Deviance: 3.206e+10 \tAIC: 4228\n",
       "\n",
       "[[75]]\n",
       "\n",
       "Call:  glm(formula = V1 ~ V2, data = data)\n",
       "\n",
       "Coefficients:\n",
       "(Intercept)           V2  \n",
       "  66.877993    -0.001602  \n",
       "\n",
       "Degrees of Freedom: 204 Total (i.e. Null);  203 Residual\n",
       "Null Deviance:\t    625700 \n",
       "Residual Deviance: 497400 \tAIC: 2186\n",
       "\n",
       "[[76]]\n",
       "\n",
       "Call:  glm(formula = V1 ~ V2, data = data)\n",
       "\n",
       "Coefficients:\n",
       "(Intercept)           V2  \n",
       "    0.03082      0.65256  \n",
       "\n",
       "Degrees of Freedom: 346 Total (i.e. Null);  345 Residual\n",
       "Null Deviance:\t    1447 \n",
       "Residual Deviance: 367.1 \tAIC: 1010\n",
       "\n",
       "[[77]]\n",
       "\n",
       "Call:  glm(formula = V1 ~ V2, data = data)\n",
       "\n",
       "Coefficients:\n",
       "(Intercept)           V2  \n",
       "  -0.606518     0.002143  \n",
       "\n",
       "Degrees of Freedom: 8400 Total (i.e. Null);  8399 Residual\n",
       "Null Deviance:\t    423700 \n",
       "Residual Deviance: 237400 \tAIC: 51920\n",
       "\n",
       "[[78]]\n",
       "\n",
       "Call:  glm(formula = V1 ~ V2, data = data)\n",
       "\n",
       "Coefficients:\n",
       "(Intercept)           V2  \n",
       "      71.94        42.09  \n",
       "\n",
       "Degrees of Freedom: 720 Total (i.e. Null);  719 Residual\n",
       "Null Deviance:\t    161900000 \n",
       "Residual Deviance: 56750000 \tAIC: 10180\n",
       "\n",
       "[[79]]\n",
       "\n",
       "Call:  glm(formula = V1 ~ V2, data = data)\n",
       "\n",
       "Coefficients:\n",
       "(Intercept)           V2  \n",
       "    2.00345      0.04501  \n",
       "\n",
       "Degrees of Freedom: 720 Total (i.e. Null);  719 Residual\n",
       "Null Deviance:\t    59370 \n",
       "Residual Deviance: 17670 \tAIC: 4358\n",
       "\n",
       "[[80]]\n",
       "\n",
       "Call:  glm(formula = V1 ~ V2, data = data)\n",
       "\n",
       "Coefficients:\n",
       "(Intercept)           V2  \n",
       "    8.22870      0.01357  \n",
       "\n",
       "Degrees of Freedom: 720 Total (i.e. Null);  719 Residual\n",
       "Null Deviance:\t    59370 \n",
       "Residual Deviance: 38030 \tAIC: 4911\n",
       "\n",
       "[[81]]\n",
       "\n",
       "Call:  glm(formula = V1 ~ V2, data = data)\n",
       "\n",
       "Coefficients:\n",
       "(Intercept)           V2  \n",
       "      3.994        2.256  \n",
       "\n",
       "Degrees of Freedom: 294 Total (i.e. Null);  293 Residual\n",
       "Null Deviance:\t    8198 \n",
       "Residual Deviance: 4655 \tAIC: 1657\n",
       "\n",
       "[[82]]\n",
       "\n",
       "Call:  glm(formula = V1 ~ V2, data = data)\n",
       "\n",
       "Coefficients:\n",
       "(Intercept)           V2  \n",
       "      3.639        2.725  \n",
       "\n",
       "Degrees of Freedom: 271 Total (i.e. Null);  270 Residual\n",
       "Null Deviance:\t    14030 \n",
       "Residual Deviance: 6887 \tAIC: 1657\n",
       "\n",
       "[[83]]\n",
       "\n",
       "Call:  glm(formula = V1 ~ V2, data = data)\n",
       "\n",
       "Coefficients:\n",
       "(Intercept)           V2  \n",
       "     -3.620        3.892  \n",
       "\n",
       "Degrees of Freedom: 257 Total (i.e. Null);  256 Residual\n",
       "Null Deviance:\t    24530 \n",
       "Residual Deviance: 8107 \tAIC: 1628\n",
       "\n",
       "[[84]]\n",
       "\n",
       "Call:  glm(formula = V1 ~ V2, data = data)\n",
       "\n",
       "Coefficients:\n",
       "(Intercept)           V2  \n",
       "     -1.172        1.024  \n",
       "\n",
       "Degrees of Freedom: 3101 Total (i.e. Null);  3100 Residual\n",
       "Null Deviance:\t    5627 \n",
       "Residual Deviance: 59.03 \tAIC: -3480\n",
       "\n",
       "[[85]]\n",
       "\n",
       "Call:  glm(formula = V1 ~ V2, data = data)\n",
       "\n",
       "Coefficients:\n",
       "(Intercept)           V2  \n",
       "     16.027       -2.505  \n",
       "\n",
       "Degrees of Freedom: 993 Total (i.e. Null);  992 Residual\n",
       "Null Deviance:\t    16150 \n",
       "Residual Deviance: 15480 \tAIC: 5556\n",
       "\n",
       "[[86]]\n",
       "\n",
       "Call:  glm(formula = V1 ~ V2, data = data)\n",
       "\n",
       "Coefficients:\n",
       "(Intercept)           V2  \n",
       "   -2.88174      0.07724  \n",
       "\n",
       "Degrees of Freedom: 665 Total (i.e. Null);  664 Residual\n",
       "Null Deviance:\t    49670 \n",
       "Residual Deviance: 29780 \tAIC: 4427\n",
       "\n",
       "[[87]]\n",
       "\n",
       "Call:  glm(formula = V1 ~ V2, data = data)\n",
       "\n",
       "Coefficients:\n",
       "(Intercept)           V2  \n",
       "    -1.0293      -0.1721  \n",
       "\n",
       "Degrees of Freedom: 7752 Total (i.e. Null);  7751 Residual\n",
       "Null Deviance:\t    343100 \n",
       "Residual Deviance: 325400 \tAIC: 50980\n",
       "\n",
       "[[88]]\n",
       "\n",
       "Call:  glm(formula = V1 ~ V2, data = data)\n",
       "\n",
       "Coefficients:\n",
       "(Intercept)           V2  \n",
       "      17.55       -45.11  \n",
       "\n",
       "Degrees of Freedom: 260 Total (i.e. Null);  259 Residual\n",
       "Null Deviance:\t    4797 \n",
       "Residual Deviance: 3658 \tAIC: 1436\n",
       "\n",
       "[[89]]\n",
       "\n",
       "Call:  glm(formula = V1 ~ V2, data = data)\n",
       "\n",
       "Coefficients:\n",
       "(Intercept)           V2  \n",
       "      4.949        1.059  \n",
       "\n",
       "Degrees of Freedom: 130 Total (i.e. Null);  129 Residual\n",
       "Null Deviance:\t    2502 \n",
       "Residual Deviance: 1480 \tAIC: 695.4\n",
       "\n",
       "[[90]]\n",
       "\n",
       "Call:  glm(formula = V1 ~ V2, data = data)\n",
       "\n",
       "Coefficients:\n",
       "(Intercept)           V2  \n",
       "    17.2083       0.6135  \n",
       "\n",
       "Degrees of Freedom: 125 Total (i.e. Null);  124 Residual\n",
       "Null Deviance:\t    4868 \n",
       "Residual Deviance: 4058 \tAIC: 801.1\n",
       "\n",
       "[[91]]\n",
       "\n",
       "Call:  glm(formula = V1 ~ V2, data = data)\n",
       "\n",
       "Coefficients:\n",
       "(Intercept)           V2  \n",
       "    -120.19        15.39  \n",
       "\n",
       "Degrees of Freedom: 148 Total (i.e. Null);  147 Residual\n",
       "Null Deviance:\t    6090000 \n",
       "Residual Deviance: 2705000 \tAIC: 1890\n",
       "\n",
       "[[92]]\n",
       "\n",
       "Call:  glm(formula = V1 ~ V2, data = data)\n",
       "\n",
       "Coefficients:\n",
       "(Intercept)           V2  \n",
       "    15.4283       0.0858  \n",
       "\n",
       "Degrees of Freedom: 149 Total (i.e. Null);  148 Residual\n",
       "Null Deviance:\t    60270 \n",
       "Residual Deviance: 14920 \tAIC: 1122\n",
       "\n",
       "[[93]]\n",
       "\n",
       "Call:  glm(formula = V1 ~ V2, data = data)\n",
       "\n",
       "Coefficients:\n",
       "(Intercept)           V2  \n",
       "     1.7873       0.9216  \n",
       "\n",
       "Degrees of Freedom: 431 Total (i.e. Null);  430 Residual\n",
       "Null Deviance:\t    353.4 \n",
       "Residual Deviance: 83.18 \tAIC: 520.3\n",
       "\n",
       "[[94]]\n",
       "\n",
       "Call:  glm(formula = V1 ~ V2, data = data)\n",
       "\n",
       "Coefficients:\n",
       "(Intercept)           V2  \n",
       "   11.26043      0.01373  \n",
       "\n",
       "Degrees of Freedom: 9503 Total (i.e. Null);  9502 Residual\n",
       "Null Deviance:\t    455400 \n",
       "Residual Deviance: 455200 \tAIC: 63750\n",
       "\n",
       "[[95]]\n",
       "\n",
       "Call:  glm(formula = V1 ~ V2, data = data)\n",
       "\n",
       "Coefficients:\n",
       "(Intercept)           V2  \n",
       "    0.68500      0.02316  \n",
       "\n",
       "Degrees of Freedom: 9503 Total (i.e. Null);  9502 Residual\n",
       "Null Deviance:\t    455400 \n",
       "Residual Deviance: 440600 \tAIC: 63440\n",
       "\n",
       "[[96]]\n",
       "\n",
       "Call:  glm(formula = V1 ~ V2, data = data)\n",
       "\n",
       "Coefficients:\n",
       "(Intercept)           V2  \n",
       "  -16.40880      0.07251  \n",
       "\n",
       "Degrees of Freedom: 9503 Total (i.e. Null);  9502 Residual\n",
       "Null Deviance:\t    980600 \n",
       "Residual Deviance: 835300 \tAIC: 69520\n",
       "\n",
       "[[97]]\n",
       "\n",
       "Call:  glm(formula = V1 ~ V2, data = data)\n",
       "\n",
       "Coefficients:\n",
       "(Intercept)           V2  \n",
       "   0.002243     0.235849  \n",
       "\n",
       "Degrees of Freedom: 201 Total (i.e. Null);  200 Residual\n",
       "Null Deviance:\t    8.67e-06 \n",
       "Residual Deviance: 7.246e-06 \tAIC: -2884\n",
       "\n",
       "[[98]]\n",
       "\n",
       "Call:  glm(formula = V1 ~ V2, data = data)\n",
       "\n",
       "Coefficients:\n",
       "(Intercept)           V2  \n",
       "  0.0007882    3.4101261  \n",
       "\n",
       "Degrees of Freedom: 93 Total (i.e. Null);  92 Residual\n",
       "Null Deviance:\t    0.0001503 \n",
       "Residual Deviance: 9.505e-06 \tAIC: -1241\n",
       "\n",
       "[[99]]\n",
       "\n",
       "Call:  glm(formula = V1 ~ V2, data = data)\n",
       "\n",
       "Coefficients:\n",
       "(Intercept)           V2  \n",
       "    32.7776       0.2933  \n",
       "\n",
       "Degrees of Freedom: 2286 Total (i.e. Null);  2285 Residual\n",
       "Null Deviance:\t    185300 \n",
       "Residual Deviance: 161900 \tAIC: 16240\n",
       "\n",
       "[[100]]\n",
       "\n",
       "Call:  glm(formula = V1 ~ V2, data = data)\n",
       "\n",
       "Coefficients:\n",
       "(Intercept)           V2  \n",
       "     7.5519      -0.6948  \n",
       "\n",
       "Degrees of Freedom: 208 Total (i.e. Null);  207 Residual\n",
       "Null Deviance:\t    224.1 \n",
       "Residual Deviance: 113.7 \tAIC: 471.9\n",
       "\n",
       "[[101]]\n",
       "\n",
       "Call:  glm(formula = V1 ~ V2, data = data)\n",
       "\n",
       "Coefficients:\n",
       "(Intercept)           V2  \n",
       "    -35.999        3.101  \n",
       "\n",
       "Degrees of Freedom: 299 Total (i.e. Null);  298 Residual\n",
       "Null Deviance:\t    2123000 \n",
       "Residual Deviance: 154200 \tAIC: 2730\n",
       "\n",
       "[[102]]\n",
       "\n",
       "Call:  glm(formula = V1 ~ V2, data = data)\n",
       "\n",
       "Coefficients:\n",
       "(Intercept)           V2  \n",
       "    -53.112        3.773  \n",
       "\n",
       "Degrees of Freedom: 108 Total (i.e. Null);  107 Residual\n",
       "Null Deviance:\t    4330000 \n",
       "Residual Deviance: 3374000 \tAIC: 1442\n",
       "\n",
       "[[103]]\n",
       "\n",
       "Call:  glm(formula = V1 ~ V2, data = data)\n",
       "\n",
       "Coefficients:\n",
       "(Intercept)           V2  \n",
       "   478.8131       0.4711  \n",
       "\n",
       "Degrees of Freedom: 108 Total (i.e. Null);  107 Residual\n",
       "Null Deviance:\t    4330000 \n",
       "Residual Deviance: 4326000 \tAIC: 1470\n",
       "\n",
       "[[104]]\n",
       "\n",
       "Call:  glm(formula = V1 ~ V2, data = data)\n",
       "\n",
       "Coefficients:\n",
       "(Intercept)           V2  \n",
       "    98.5259       0.3496  \n",
       "\n",
       "Degrees of Freedom: 108 Total (i.e. Null);  107 Residual\n",
       "Null Deviance:\t    67100 \n",
       "Residual Deviance: 65140 \tAIC: 1012\n",
       "\n",
       "[[105]]\n",
       "\n",
       "Call:  glm(formula = V1 ~ V2, data = data)\n",
       "\n",
       "Coefficients:\n",
       "(Intercept)           V2  \n",
       "    52.0743       0.6505  \n",
       "\n",
       "Degrees of Freedom: 999 Total (i.e. Null);  998 Residual\n",
       "Null Deviance:\t    7035000 \n",
       "Residual Deviance: 4116000 \tAIC: 11170\n",
       "\n",
       "[[106]]\n",
       "\n",
       "Call:  glm(formula = V1 ~ V2, data = data)\n",
       "\n",
       "Coefficients:\n",
       "(Intercept)           V2  \n",
       "   14521.55       -16.17  \n",
       "\n",
       "Degrees of Freedom: 113 Total (i.e. Null);  112 Residual\n",
       "Null Deviance:\t    239100000 \n",
       "Residual Deviance: 57990000 \tAIC: 1827\n",
       "\n",
       "[[107]]\n",
       "\n",
       "Call:  glm(formula = V1 ~ V2, data = data)\n",
       "\n",
       "Coefficients:\n",
       "(Intercept)           V2  \n",
       "    0.02120      0.01089  \n",
       "\n",
       "Degrees of Freedom: 239 Total (i.e. Null);  238 Residual\n",
       "Null Deviance:\t    0.0265 \n",
       "Residual Deviance: 0.02209 \tAIC: -1543\n",
       "\n",
       "[[108]]\n",
       "\n",
       "Call:  glm(formula = V1 ~ V2, data = data)\n",
       "\n",
       "Coefficients:\n",
       "(Intercept)           V2  \n",
       "    3005.63       -34.26  \n",
       "\n",
       "Degrees of Freedom: 111 Total (i.e. Null);  110 Residual\n",
       "Null Deviance:\t    438500 \n",
       "Residual Deviance: 187300 \tAIC: 1155\n"
      ]
     },
     "metadata": {},
     "output_type": "display_data"
    }
   ],
   "source": [
    "backward_models"
   ]
  },
  {
   "cell_type": "markdown",
   "metadata": {},
   "source": [
    "# 9. Write Results to a CSV"
   ]
  },
  {
   "cell_type": "code",
   "execution_count": 814,
   "metadata": {},
   "outputs": [
    {
     "name": "stdout",
     "output_type": "stream",
     "text": [
      "  [1]    8.36762904    0.57348888   11.66908686    3.68435045    0.00000000\n",
      "  [6]    0.00000000    0.00000000 -276.50179770    0.00000000    0.00000000\n",
      " [11]    0.00000000 -101.78276221   31.50334618   16.35265994    9.70679636\n",
      " [16]   32.23720227    0.00000000    4.05590327   15.38014688    0.85006880\n",
      " [21]   12.75580363   -8.00785057   -0.24034236   -0.61934871    7.49751591\n",
      " [26]    2.66146566    0.72807690   -3.28107125   24.05462060   -0.25239885\n",
      " [31]    4.85021342  107.61757184    6.61303909    0.40039444   -9.99778048\n",
      " [36]   -1.51097399  -21.98977311   -0.32995802    8.50541138   23.40950976\n",
      " [41]   10.26050241            NA            NA -134.84277596            NA\n",
      " [46]            NA   -8.39318468   -3.15443534   -7.43984158   -1.41751829\n",
      " [51]    4.79557771            NA            NA            NA            NA\n",
      " [56]   14.29486541    9.82705016    6.71510784    8.53658309    6.64345974\n",
      " [61]    4.68544909    3.03696551    6.12495678    1.56982843    3.24761382\n",
      " [66]   -0.89766135    5.99403124            NA            NA            NA\n",
      " [71]            NA   15.47780193            NA   40.89578546  -15.60715417\n",
      " [76]   11.60192311    0.00000000   32.65023194  -43.92503724  -86.52939192\n",
      " [81]    6.67218661   -6.80582725  -18.92112472    2.26181495   -3.46993706\n",
      " [86]   12.26014045            NA    0.79233812    0.06439465    1.06940693\n",
      " [91]    6.43677602   -6.24905702  -13.69668044   -1.01836195  127.34119686\n",
      " [96]            NA   -0.21102145   -0.30083040    2.60308043   -2.76189508\n"
     ]
    }
   ],
   "source": [
    "p_value_ratios = c()\n",
    "for (i in 1:100) {\n",
    "    if (results[i, 2] == \"0\" & results[i, 3] == \"0\") {\n",
    "        p_value_ratios = c(p_value_ratios, NA)\n",
    "    } else if (results[i, 2] == \"0\") {\n",
    "        p_value_ratios = c(p_value_ratios, 0)\n",
    "    } else if (results[i, 3] == \"0\") {\n",
    "        p_value_ratios = c(p_value_ratios, NA)\n",
    "    } else {\n",
    "        p_value_ratios = c(p_value_ratios, log10(as.numeric(results[i, 2]) / as.numeric(results[i, 3])))\n",
    "    }\n",
    "}\n",
    "print(p_value_ratios)"
   ]
  },
  {
   "cell_type": "code",
   "execution_count": 818,
   "metadata": {},
   "outputs": [
    {
     "name": "stdout",
     "output_type": "stream",
     "text": [
      "[1] \"NA\" \"0\"  \"0\" \n",
      "[1] \"Y\"                     \"1.10217646471203e-318\" \"7.67409356693388e-184\"\n",
      "[1] \"X\"                    \"6.7638496884355e-303\" \"0\"                   \n",
      "[1] \"NA\" \"0\"  \"0\" \n"
     ]
    }
   ],
   "source": [
    "print(results[43,])\n",
    "print(results[44,])\n",
    "print(results[45,])\n",
    "print(results[46,])"
   ]
  },
  {
   "cell_type": "code",
   "execution_count": 807,
   "metadata": {},
   "outputs": [],
   "source": [
    "for (i in 1:100) {\n",
    "    if (results[i, 1] == \"NA\") {\n",
    "        correct[i] <- NA\n",
    "    }\n",
    "}"
   ]
  },
  {
   "cell_type": "code",
   "execution_count": 825,
   "metadata": {},
   "outputs": [
    {
     "name": "stdout",
     "output_type": "stream",
     "text": [
      "    X1.100 results...1..1.100. correct_answers correct   results...2..1.100.\n",
      "1        1                   X               X    TRUE  6.37634844718238e-17\n",
      "2        2                  NA               X      NA  8.97362197664129e-17\n",
      "3        3                   X               X    TRUE  9.53978927992768e-08\n",
      "4        4                   X               X    TRUE    0.0182466355584996\n",
      "5        5                   Y               X   FALSE                     0\n",
      "6        6                   Y               X   FALSE                     0\n",
      "7        7                   Y               X   FALSE                     0\n",
      "8        8                   Y               X   FALSE 7.80129654783328e-321\n",
      "9        9                   Y               X   FALSE                     0\n",
      "10      10                   Y               X   FALSE                     0\n",
      "11      11                   Y               X   FALSE                     0\n",
      "12      12                   Y               X   FALSE 1.64175623579961e-289\n",
      "13      13                   X               X    TRUE  1.38622298742076e-23\n",
      "14      14                   X               X    TRUE  3.06317465573772e-31\n",
      "15      15                   X               X    TRUE  1.96603213812734e-22\n",
      "16      16                   X               X    TRUE  3.13395707433834e-05\n",
      "17      17                   Y               X   FALSE                     0\n",
      "18      18                   X               X    TRUE  1.39904990486191e-50\n",
      "19      19                   X               X    TRUE     0.281230815317771\n",
      "20      20                  NA               X      NA  6.40820892499059e-22\n",
      "21      21                   X               X    TRUE  5.07967942846438e-10\n",
      "22      22                   Y               X   FALSE   4.7117384952669e-13\n",
      "23      23                  NA               X      NA  9.89603924501682e-17\n",
      "24      24                  NA               X      NA   0.00066727323124985\n",
      "25      25                   X               X    TRUE   0.00321959558622554\n",
      "26      26                   X               X    TRUE  4.16484016280906e-07\n",
      "27      27                  NA               X      NA  2.84074338371996e-09\n",
      "28      28                   Y               X   FALSE  8.79374876597432e-34\n",
      "29      29                   X               X    TRUE    0.0081920895666929\n",
      "30      30                  NA               X      NA  6.05683322527988e-05\n",
      "31      31                   X               X    TRUE   0.00291886545286479\n",
      "32      32                   X               X    TRUE  5.02498317976354e-75\n",
      "33      33                   X               X    TRUE     0.598686933110165\n",
      "34      34                  NA               X      NA     0.027788353539999\n",
      "35      35                   Y               X   FALSE  1.20535554983618e-13\n",
      "36      36                   Y               X   FALSE  1.52778891369515e-05\n",
      "37      37                   Y               X   FALSE  5.90867269009495e-27\n",
      "38      38                  NA               X      NA  8.47697955798957e-08\n",
      "39      39                   X               X    TRUE     0.295730701377701\n",
      "40      40                   X               X    TRUE   0.00920820539421438\n",
      "41      41                   X               X    TRUE  6.43269278606615e-05\n",
      "42      42                  NA               X      NA                     0\n",
      "43      43                  NA               X      NA                     0\n",
      "44      44                   Y               X   FALSE 1.10217646471203e-318\n",
      "45      45                   X               X    TRUE  6.7638496884355e-303\n",
      "46      46                  NA               X      NA                     0\n",
      "47      47                   Y               Y    TRUE  9.88199047284529e-11\n",
      "48      48                   Y               Y    TRUE  1.15368032837236e-08\n",
      "49      49                   Y               Y    TRUE  6.20657201512072e-09\n",
      "50      50                   Y               Y    TRUE  4.99978324515714e-08\n",
      "51      51                   X               Y   FALSE   0.00380143077013332\n",
      "52      52                  NA               Y      NA                     0\n",
      "53      53                  NA               Y      NA                     0\n",
      "54      54                  NA               X      NA                     0\n",
      "55      55                  NA               Y      NA                     0\n",
      "56      56                   X               Y   FALSE  0.000530946836772599\n",
      "57      57                   X               Y   FALSE   0.00018789107908981\n",
      "58      58                   X               Y   FALSE  9.95776287047247e-06\n",
      "59      59                   X               Y   FALSE  0.000167992014150926\n",
      "60      60                   X               Y   FALSE   0.00240793303306051\n",
      "61      61                   X               Y   FALSE   0.00137589906630702\n",
      "62      62                   X               Y   FALSE   5.9425463595284e-05\n",
      "63      63                   X               Y   FALSE  0.000195789728164852\n",
      "64      64                   X               X    TRUE  3.04451453153099e-18\n",
      "65      65                   X               X    TRUE  1.13094093121251e-07\n",
      "66      66                  NA               X      NA  4.70156842503957e-07\n",
      "67      67                   X               X    TRUE  4.62797128899988e-12\n",
      "68      68                   X               Y   FALSE 4.15066824304693e-169\n",
      "69      69                   X               Y   FALSE  1.45920468317658e-61\n",
      "70      70                  NA               X      NA                     0\n",
      "71      71                  NA               X      NA                     0\n",
      "72      72                   X               X    TRUE  4.99716497822098e-10\n",
      "73      73                  NA               Y      NA                     0\n",
      "74      74                   X               X    TRUE  4.37805400883167e-22\n",
      "75      75                   Y               Y    TRUE  5.69056363943865e-49\n",
      "76      76                   X               X    TRUE    0.0298405504110186\n",
      "77      77                   Y               Y    TRUE                     0\n",
      "78      78                   X               X    TRUE   1.5281057221989e-66\n",
      "79      79                   Y               Y    TRUE   9.8797189249359e-77\n",
      "80      80                   Y               Y    TRUE 1.19240695358957e-114\n",
      "81      81                   X               X    TRUE      0.24975579698831\n",
      "82      82                   Y               X   FALSE  2.07515714327159e-19\n",
      "83      83                   Y               X   FALSE   9.4152966277483e-30\n",
      "84      84                   X               Y   FALSE   8.2454291610645e-34\n",
      "85      85                   Y               X   FALSE  7.71042968331447e-08\n",
      "86      86                   X               X    TRUE   1.7294104234062e-07\n",
      "87      87                  NA               X      NA                     0\n",
      "88      88                  NA               X      NA  2.91791768568807e-14\n",
      "89      89                  NA               Y      NA     0.408400647447669\n",
      "90      90                   X               Y   FALSE     0.282380636555654\n",
      "91      91                   X               X    TRUE  6.36467384679867e-06\n",
      "92      92                   Y               Y    TRUE  7.73464282817179e-15\n",
      "93      93                   Y               X   FALSE  2.20665646724212e-33\n",
      "94      94                   Y               X   FALSE 1.66849438097166e-125\n",
      "95      95                   X               X    TRUE 6.94243466407516e-146\n",
      "96      96                  NA               X      NA                     0\n",
      "97      97                  NA               X      NA     0.357271212630364\n",
      "98      98                  NA               X      NA  0.000294016058417878\n",
      "99      99                   X               Y   FALSE  4.99062509927841e-16\n",
      "100    100                   Y               X   FALSE  2.03897478579403e-07\n",
      "      results...3..1.100. p_value_ratios data_size.1.100.    weights\n",
      "1    2.73490976614775e-25     8.36762904              349 0.16666667\n",
      "2    2.39595626120772e-17     0.57348888              349 0.16666667\n",
      "3    2.04386366515222e-19    11.66908686              349 0.16666667\n",
      "4    3.77426466862528e-06     3.68435045              349 0.16666667\n",
      "5    8.18102866085081e-59     0.00000000             4177 0.14285714\n",
      "6    1.4654237225657e-125     0.00000000             4177 0.14285714\n",
      "7    1.52199307724905e-78     0.00000000             4177 0.14285714\n",
      "8    2.47721949451832e-44  -276.50179770             4177 0.14285714\n",
      "9   1.15766299658088e-105     0.00000000             4177 0.14285714\n",
      "10   9.70380230225695e-97     0.00000000             4177 0.14285714\n",
      "11  3.00115699446088e-120     0.00000000             4177 0.14285714\n",
      "12  9.95567901908085e-188  -101.78276221             5000 0.50000000\n",
      "13    4.3499765635473e-55    31.50334618              392 0.25000000\n",
      "14   1.35991516341853e-47    16.35265994              392 0.25000000\n",
      "15   3.86183978578115e-32     9.70679636              392 0.25000000\n",
      "16   1.81505912952658e-37    32.23720227              392 0.25000000\n",
      "17  2.15493493872973e-174     0.00000000             5000 0.50000000\n",
      "18   1.23007030992263e-54     4.05590327              314 1.00000000\n",
      "19   1.17196872553625e-16    15.38014688              194 1.00000000\n",
      "20   9.05040194501355e-23     0.85006880              349 0.16666667\n",
      "21   8.91317987145589e-23    12.75580363              349 0.16666667\n",
      "22   4.79768519786228e-05    -8.00785057              450 0.33333333\n",
      "23   1.72109075188294e-16    -0.24034236              452 0.33333333\n",
      "24    0.00277748938688196    -0.61934871              451 0.33333333\n",
      "25   1.02396570745108e-10     7.49751591             1030 0.12500000\n",
      "26   9.08097910660748e-10     2.66146566             1030 0.12500000\n",
      "27   5.31318707328198e-10     0.72807690             1030 0.12500000\n",
      "28   1.67975253780195e-30    -3.28107125             1030 0.12500000\n",
      "29   7.22393936398402e-27    24.05462060             1030 0.12500000\n",
      "30   0.000108303993012351    -0.25239885             1030 0.12500000\n",
      "31   4.12098144032337e-08     4.85021342             1030 0.12500000\n",
      "32    1.212167876745e-182   107.61757184             1030 0.12500000\n",
      "33   1.45935412409211e-07     6.61303909              345 0.20000000\n",
      "34     0.0110526998878855     0.40039444              345 0.20000000\n",
      "35    0.00119921112646913    -9.99778048              345 0.20000000\n",
      "36   0.000495492798224535    -1.51097399              345 0.20000000\n",
      "37   5.77115909036308e-05   -21.98977311              345 0.20000000\n",
      "38   1.81217091840299e-07    -0.32995802              757 0.25000000\n",
      "39   9.23602354210878e-10     8.50541138              394 0.25000000\n",
      "40   3.58645381465542e-26    23.40950976              733 0.25000000\n",
      "41   3.53094050383435e-15    10.26050241              763 0.25000000\n",
      "42                      0             NA             9162 0.50000000\n",
      "43                      0             NA            10369 0.25000000\n",
      "44  7.67409356693388e-184  -134.84277596            10369 0.25000000\n",
      "45                      0             NA            10369 0.25000000\n",
      "46                      0             NA            10369 0.25000000\n",
      "47     0.0244359434733673    -8.39318468              254 1.00000000\n",
      "48   1.64634491385982e-05    -3.15443534              168 1.00000000\n",
      "49      0.170880843135398    -7.43984158              365 0.33333333\n",
      "50   1.30758361546001e-06    -1.41751829              365 0.33333333\n",
      "51     6.086524459503e-08     4.79557771              365 0.33333333\n",
      "52                      0             NA             4177 0.00000000\n",
      "53                      0             NA             4177 0.00000000\n",
      "54                      0             NA             4177 0.00000000\n",
      "55                      0             NA             4177 0.00000000\n",
      "56   2.69268547725839e-18    14.29486541              192 0.08333333\n",
      "57   2.79805343519745e-14     9.82705016              192 0.08333333\n",
      "58   1.91890704120397e-12     6.71510784              192 0.08333333\n",
      "59    4.8832115847768e-13     8.53658309              192 0.08333333\n",
      "60   5.47248606410892e-10     6.64345974              192 0.08333333\n",
      "61   2.83881758351336e-08     4.68544909              192 0.08333333\n",
      "62   5.45766740634594e-08     3.03696551              192 0.08333333\n",
      "63    1.4683619615266e-10     6.12495678              192 0.08333333\n",
      "64   8.19765461960782e-20     1.56982843              162 0.08333333\n",
      "65   6.39478721944994e-11     3.24761382             1331 0.33333333\n",
      "66   3.71453206564583e-06    -0.89766135             1331 0.33333333\n",
      "67   4.69201527421303e-18     5.99403124             1331 0.33333333\n",
      "68                      0             NA              498 1.00000000\n",
      "69                      0             NA            16382 1.00000000\n",
      "70                      0             NA             4499 1.00000000\n",
      "71                      0             NA              192 0.00000000\n",
      "72   1.66311298739809e-25    15.47780193             1632 1.00000000\n",
      "73                      0             NA             5084 0.08333333\n",
      "74    5.5653906280858e-63    40.89578546              194 0.08333333\n",
      "75   2.30308227563381e-33   -15.60715417              205 0.08333333\n",
      "76   7.46248929744089e-14    11.60192311              347 1.00000000\n",
      "77    1.6078715366084e-61     0.00000000             8401 0.50000000\n",
      "78   3.41917604725588e-99    32.65023194              721 0.33333333\n",
      "79   8.31346036391958e-33   -43.92503724              721 0.33333333\n",
      "80   4.03474801743481e-28   -86.52939192              721 0.33333333\n",
      "81   5.31286728306609e-08     6.67218661              295 0.33333333\n",
      "82   1.32702237186408e-12    -6.80582725              272 0.33333333\n",
      "83   7.85161022285794e-11   -18.92112472              258 0.33333333\n",
      "84   4.51230362736175e-36     2.26181495             3102 1.00000000\n",
      "85   0.000227517936572165    -3.46993706              994 1.00000000\n",
      "86   9.50074406556473e-20    12.26014045              666 1.00000000\n",
      "87                      0             NA             7753 1.00000000\n",
      "88   4.70689939822554e-15     0.79233812              261 1.00000000\n",
      "89         0.352120874863     0.06439465              131 0.25000000\n",
      "90     0.0240673339432916     1.06940693              126 0.25000000\n",
      "91   2.32809196164612e-12     6.43677602              149 0.25000000\n",
      "92   1.37245237968774e-08    -6.24905702              150 0.25000000\n",
      "93   1.09752687285225e-19   -13.69668044              432 1.00000000\n",
      "94  1.74055078242993e-124    -1.01836195             9504 0.33333333\n",
      "95  3.16457169018161e-273   127.34119686             9504 0.33333333\n",
      "96                      0             NA             9504 0.33333333\n",
      "97      0.580790454441335    -0.21102145              202 0.50000000\n",
      "98   0.000587761922313053    -0.30083040               94 0.50000000\n",
      "99   1.24472815722316e-18     2.60308043             2287 1.00000000\n",
      "100   0.00011784385418723    -2.76189508              209 1.00000000\n"
     ]
    }
   ],
   "source": [
    "all_results = data.frame(\n",
    "    1:100, \n",
    "    results[, 1][1:100], \n",
    "    correct_answers,\n",
    "    correct, \n",
    "    results[, 2][1:100], \n",
    "    results[, 3][1:100],\n",
    "    p_value_ratios,\n",
    "    data_size[1:100],\n",
    "    weights\n",
    ")\n",
    "print(all_results)\n",
    "write.csv(all_results, file = \"./pair_test_results\")"
   ]
  },
  {
   "cell_type": "code",
   "execution_count": 761,
   "metadata": {},
   "outputs": [
    {
     "data": {
      "text/plain": [
       "\n",
       "Call:\n",
       "glm(formula = V2 ~ V1, data = data)\n",
       "\n",
       "Deviance Residuals: \n",
       "     Min        1Q    Median        3Q       Max  \n",
       "-12.6558   -0.5713    0.3873    0.9059    2.3905  \n",
       "\n",
       "Coefficients:\n",
       "            Estimate Std. Error t value Pr(>|t|)    \n",
       "(Intercept)  9.87332    0.40926  24.125  < 2e-16 ***\n",
       "V1          -0.18375    0.04028  -4.562 7.05e-06 ***\n",
       "---\n",
       "Signif. codes:  0 ‘***’ 0.001 ‘**’ 0.01 ‘*’ 0.05 ‘.’ 0.1 ‘ ’ 1\n",
       "\n",
       "(Dispersion parameter for gaussian family taken to be 2.181696)\n",
       "\n",
       "    Null deviance: 802.45  on 348  degrees of freedom\n",
       "Residual deviance: 757.05  on 347  degrees of freedom\n",
       "AIC: 1266.7\n",
       "\n",
       "Number of Fisher Scoring iterations: 2\n"
      ]
     },
     "metadata": {},
     "output_type": "display_data"
    }
   ],
   "source": [
    "# forward_intercepts = c()\n",
    "# forward_intecept_std_errors = c()\n",
    "# forward_intercept_t = c()\n",
    "# forward_intercept_v = c()\n",
    "# forward_v1 = c()\n",
    "# forward_v1_std_errors = c()\n",
    "# forward_v1_t = c()\n",
    "# forward_v1_p = c()\n",
    "# for (i in 1:108)\n",
    "\n",
    "summary(forward_models[[3]])"
   ]
  },
  {
   "cell_type": "markdown",
   "metadata": {},
   "source": [
    "### "
   ]
  },
  {
   "cell_type": "code",
   "execution_count": null,
   "metadata": {},
   "outputs": [],
   "source": [
    "glm"
   ]
  }
 ],
 "metadata": {
  "kernelspec": {
   "display_name": "R",
   "language": "R",
   "name": "ir"
  },
  "language_info": {
   "codemirror_mode": "r",
   "file_extension": ".r",
   "mimetype": "text/x-r-source",
   "name": "R",
   "pygments_lexer": "r",
   "version": "3.5.1"
  }
 },
 "nbformat": 4,
 "nbformat_minor": 2
}
